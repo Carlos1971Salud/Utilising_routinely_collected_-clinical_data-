{
  "cells": [
    {
      "cell_type": "code",
      "execution_count": 1,
      "metadata": {
        "gather": {
          "logged": 1695310364475
        }
      },
      "outputs": [],
      "source": [
        "import pandas as pd\n",
        "import numpy as np\n",
        "from numpy.random import seed\n",
        "seed(30)\n",
        "df = pd.read_pickle(r'./combined_data_feb2023.pkl')"
      ]
    },
    {
      "cell_type": "code",
      "execution_count": 3,
      "metadata": {
        "gather": {
          "logged": 1695310364861
        },
        "jupyter": {
          "outputs_hidden": false,
          "source_hidden": false
        },
        "nteract": {
          "transient": {
            "deleting": false
          }
        }
      },
      "outputs": [],
      "source": [
        "features = ['Ward Glucose', 'Haemoglobin',\n",
        "       'Mean cell volume, blood', 'White blood cell count, blood',\n",
        "       'Haematocrit', 'Platelets', 'Urea level, blood', 'Creatinine', 'Sodium',\n",
        "       'Potassium', 'Lymphocytes', 'Neutrophils', 'C-Reactive Protein',\n",
        "       'Eosinophils', 'Alkaline Phosphatase', 'Albumin',\n",
        "       'Alanine Transaminase', 'Bilirubin', 'Total Protein',\n",
        "       'Fibrinogen (clauss)', 'Glucose POCT Strip Blood', 'Ferritin',\n",
        "       'D-Dimer', 'Ward Lactate', 'age', 'sex', 'SARS CoV-2 RNA']\n",
        "\n"
      ]
    },
    {
      "cell_type": "code",
      "execution_count": 7,
      "metadata": {
        "gather": {
          "logged": 1695310368131
        },
        "jupyter": {
          "outputs_hidden": false,
          "source_hidden": false
        },
        "nteract": {
          "transient": {
            "deleting": false
          }
        }
      },
      "outputs": [
        {
          "data": {
            "text/plain": [
              "'Train'\n",
              "pathogenic\n",
              "0.0    0.761944\n",
              "1.0    0.238056\n",
              "Name: proportion, dtype: float64\n",
              "13354\n",
              "'Val'\n",
              "pathogenic\n",
              "0.0    0.885361\n",
              "1.0    0.114639\n",
              "Name: proportion, dtype: float64\n",
              "1858"
            ]
          },
          "metadata": {},
          "output_type": "display_data"
        },
        {
          "data": {
            "text/plain": [
              "'Test'\n",
              "pathogenic\n",
              "0.0    0.915928\n",
              "1.0    0.084072\n",
              "Name: proportion, dtype: float64\n",
              "5638"
            ]
          },
          "metadata": {},
          "output_type": "display_data"
        }
      ],
      "source": [
        "#Manual split of training, validation and test set, and displays of their properties\n",
        "\n",
        "start_date = '2014-1-1'\n",
        "train_date = '2020-12-1'\n",
        "val_date = '2021-03-1'\n",
        "\n",
        "train = df[(df['date_culture']>=start_date)&(df['date_culture']<train_date)]\n",
        "\n",
        "val = df[(df['date_culture']>=train_date)&(df['date_culture']<val_date)]\n",
        "\n",
        "test = df[df['date_culture']>=val_date]\n",
        "\n",
        "display('Train')\n",
        "display(train['pathogenic'].value_counts(normalize=True))\n",
        "display(len(train.groupby(['id','date_culture'])))\n",
        "\n",
        "display('Val')\n",
        "display(val['pathogenic'].value_counts(normalize=True))\n",
        "display(len(val.groupby(['id','date_culture'])))\n",
        "\n",
        "display('Test')\n",
        "display(test['pathogenic'].value_counts(normalize=True))\n",
        "display(len(test.groupby(['id','date_culture'])))"
      ]
    },
    {
      "cell_type": "code",
      "execution_count": 9,
      "metadata": {
        "gather": {
          "logged": 1695310368739
        },
        "jupyter": {
          "outputs_hidden": false,
          "source_hidden": false
        },
        "nteract": {
          "transient": {
            "deleting": false
          }
        }
      },
      "outputs": [
        {
          "data": {
            "text/plain": [
              "count                                 200310\n",
              "mean     2019-09-12 11:47:49.117867008+00:00\n",
              "min                2014-03-03 00:00:00+00:00\n",
              "25%                2020-01-01 06:00:00+00:00\n",
              "50%                2020-03-27 09:46:30+00:00\n",
              "75%                2020-08-12 02:45:00+00:00\n",
              "max                2020-11-30 23:14:00+00:00\n",
              "Name: date_culture, dtype: object\n",
              "count                                  27870\n",
              "mean     2020-12-27 05:59:34.520990464+00:00\n",
              "min                2020-12-01 00:27:00+00:00\n",
              "25%                2020-12-14 12:52:00+00:00\n",
              "50%                2020-12-24 20:47:00+00:00\n",
              "75%                2021-01-03 20:49:00+00:00\n",
              "max                2021-02-28 21:03:00+00:00\n",
              "Name: date_culture, dtype: object\n",
              "count                                  84570\n",
              "mean     2021-07-22 02:16:40.099326208+00:00\n",
              "min                2021-03-01 00:00:00+00:00\n",
              "25%                2021-06-14 14:36:00+00:00\n",
              "50%                2021-07-23 23:02:00+00:00\n",
              "75%                2021-08-31 10:17:00+00:00\n",
              "max                2021-12-01 00:00:00+00:00\n",
              "Name: date_culture, dtype: object"
            ]
          },
          "metadata": {},
          "output_type": "display_data"
        }
      ],
      "source": [
        "display(train['date_culture'].describe())\n",
        "display(val['date_culture'].describe())\n",
        "display(test['date_culture'].describe())"
      ]
    },
    {
      "cell_type": "code",
      "execution_count": 10,
      "metadata": {
        "gather": {
          "logged": 1695310368985
        },
        "jupyter": {
          "outputs_hidden": false,
          "source_hidden": false
        },
        "nteract": {
          "transient": {
            "deleting": false
          }
        }
      },
      "outputs": [],
      "source": [
        "def scale_data(train_data, val_data, test_data, feature_list):\n",
        "   \n",
        "    from sklearn.preprocessing import MinMaxScaler\n",
        "    scale = MinMaxScaler(feature_range=(-1,1))\n",
        "    \n",
        "    train_scaled=train_data.copy()\n",
        "    train_scaled[feature_list] = scale.fit_transform(train_scaled[feature_list])\n",
        "    \n",
        "    val_scaled = val_data.copy()\n",
        "    val_scaled[feature_list]=scale.transform(val_scaled[feature_list])\n",
        "\n",
        "    test_scaled = test_data.copy()\n",
        "    test_scaled[feature_list] = scale.transform(test_scaled[feature_list])\n",
        "\n",
        "    return train_scaled, val_scaled, test_scaled\n"
      ]
    },
    {
      "cell_type": "code",
      "execution_count": 11,
      "metadata": {
        "gather": {
          "logged": 1695310369986
        },
        "jupyter": {
          "outputs_hidden": false,
          "source_hidden": false
        },
        "nteract": {
          "transient": {
            "deleting": false
          }
        }
      },
      "outputs": [],
      "source": [
        "train_scaled, val_scaled, test_scaled = scale_data(train, val, test, features)\n",
        "\n",
        "#Fillna(0) done after scaling for masking layer\n",
        "train_scaled = train_scaled.fillna(0)\n",
        "val_scaled = val_scaled.fillna(0)\n",
        "test_scaled = test_scaled.fillna(0)\n"
      ]
    },
    {
      "cell_type": "code",
      "execution_count": 13,
      "metadata": {
        "gather": {
          "logged": 1695310371000
        },
        "jupyter": {
          "outputs_hidden": false,
          "source_hidden": false
        },
        "nteract": {
          "transient": {
            "deleting": false
          }
        }
      },
      "outputs": [],
      "source": [
        "# Reshape function takes features listed above and slices them into train, test sets and reshapes to (samples,steps,features)\n",
        "\n",
        "def reshape(data):\n",
        "    data_samples = len(data.groupby('id'))\n",
        "    data_steps = len(data)/ len(data.groupby(['id']))\n",
        "    data_steps = int(data_steps)\n",
        "    data_feature_size = len(data[features].columns)\n",
        "\n",
        "    data_features = data[features].fillna(0).values.reshape(data_samples,data_steps,data_feature_size)\n",
        "    y_data = data.groupby(['id'])['pathogenic'].max().astype(int).values \n",
        "\n",
        "    return data_features, y_data\n",
        "\n",
        "X_train, y_train = reshape(train_scaled)\n",
        "X_val, y_val = reshape(val_scaled)\n",
        "X_test, y_test = reshape(test_scaled)"
      ]
    },
    {
      "cell_type": "code",
      "execution_count": 15,
      "metadata": {
        "gather": {
          "logged": 1695310378045
        },
        "jupyter": {
          "outputs_hidden": false,
          "source_hidden": false
        },
        "nteract": {
          "transient": {
            "deleting": false
          }
        }
      },
      "outputs": [
        {
          "name": "stderr",
          "output_type": "stream",
          "text": [
            "2023-09-21 15:32:50.868019: I tensorflow/core/platform/cpu_feature_guard.cc:182] This TensorFlow binary is optimized to use available CPU instructions in performance-critical operations.\n",
            "To enable the following instructions: AVX2 AVX512F FMA, in other operations, rebuild TensorFlow with the appropriate compiler flags.\n",
            "2023-09-21 15:32:52.248870: W tensorflow/compiler/tf2tensorrt/utils/py_utils.cc:38] TF-TRT Warning: Could not find TensorRT\n",
            "2023-09-21 15:32:54.383797: E tensorflow/compiler/xla/stream_executor/cuda/cuda_driver.cc:266] failed call to cuInit: CUDA_ERROR_NO_DEVICE: no CUDA-capable device is detected\n"
          ]
        }
      ],
      "source": [
        "from keras.models import Sequential\n",
        "from keras.layers import Dense\n",
        "from keras.layers import Flatten\n",
        "from keras.layers import Dropout\n",
        "from keras.layers import Activation\n",
        "from keras.layers import LSTM\n",
        "from keras import regularizers\n",
        "from keras.layers import BatchNormalization\n",
        "import tensorflow as tf\n",
        "\n",
        "model_callbacks = [\n",
        "    tf.keras.callbacks.EarlyStopping(monitor='val_loss',patience=5)\n",
        "    ]\n",
        "\n",
        "model = Sequential()\n",
        "model.add(tf.keras.layers.Masking(mask_value=0., input_shape=(X_train.shape[1], X_train.shape[2])))\n",
        "model.add(LSTM(100, input_shape=(X_train.shape[1], X_train.shape[2]), return_sequences=True))\n",
        "model.add(Dropout(0.2))\n",
        "model.add(BatchNormalization())\n",
        "model.add(LSTM(100))\n",
        "model.add(Dense(1, activation= 'sigmoid'))\n",
        "model.compile(loss='binary_crossentropy', optimizer='adam', metrics=[tf.keras.metrics.AUC(from_logits=True, name='auc')])\n",
        "\n"
      ]
    },
    {
      "cell_type": "code",
      "execution_count": 16,
      "metadata": {
        "gather": {
          "logged": 1695310545224
        },
        "jupyter": {
          "outputs_hidden": false,
          "source_hidden": false
        },
        "nteract": {
          "transient": {
            "deleting": false
          }
        }
      },
      "outputs": [
        {
          "name": "stderr",
          "output_type": "stream",
          "text": [
            "2023-09-21 15:32:58.326200: W tensorflow/tsl/framework/cpu_allocator_impl.cc:83] Allocation of 21633480 exceeds 10% of free system memory.\n"
          ]
        },
        {
          "name": "stdout",
          "output_type": "stream",
          "text": [
            "Epoch 1/300\n",
            "53/53 [==============================] - 30s 315ms/step - loss: 0.3388 - auc: 0.8940 - val_loss: 0.5234 - val_auc: 0.9103\b\b\b\b\b\b\b\b\b\b\b\b\b\b\b\b\b\b\b\b\b\b\b\b\b\b\b\b\b\b\b\b\b\b\b\b\b\b\b\n",
            "Epoch 2/300\n",
            "53/53 [==============================] - 12s 222ms/step - loss: 0.2786 - auc: 0.9254 - val_loss: 0.3924 - val_auc: 0.9137\b\b\b\b\b\b\b\b\b\b\b\b\b\b\b\b\b\b\b\b\b\b\b\b\b\b\b\b\b\b\b\b\b\b\b\n",
            "Epoch 3/300\n",
            "53/53 [==============================] - 10s 187ms/step - loss: 0.2684 - auc: 0.9313 - val_loss: 0.3111 - val_auc: 0.9142\b\b\b\b\b\b\b\b\b\b\b\b\b\b\b\b\b\b\b\b\b\b\b\b\b\b\b\b\b\b\b\b\b\b\b\n",
            "Epoch 4/300\n",
            "53/53 [==============================] - 7s 130ms/step - loss: 0.2649 - auc: 0.9333 - val_loss: 0.2631 - val_auc: 0.9364\b\b\b\b\b\b\b\b\b\b\b\b\b\b\b\b\b\b\b\b\b\b\b\b\b\b\b\b\b\b\b\b\b\b\n",
            "Epoch 5/300\n",
            "53/53 [==============================] - 7s 127ms/step - loss: 0.2602 - auc: 0.9374 - val_loss: 0.2084 - val_auc: 0.9440\b\b\b\b\b\b\b\b\b\b\b\b\b\b\b\b\b\b\b\b\b\b\b\b\b\b\b\b\b\b\b\b\b\b\n",
            "Epoch 6/300\n",
            "53/53 [==============================] - 8s 148ms/step - loss: 0.2571 - auc: 0.9386 - val_loss: 0.2037 - val_auc: 0.9416\b\b\b\b\b\b\b\b\b\b\b\b\b\b\b\b\b\b\b\b\b\b\b\b\b\b\b\b\b\b\b\b\b\b\n",
            "Epoch 7/300\n",
            "53/53 [==============================] - 10s 180ms/step - loss: 0.2544 - auc: 0.9399 - val_loss: 0.1853 - val_auc: 0.9473\b\b\b\b\b\b\b\b\b\b\b\b\b\b\b\b\b\b\b\b\b\b\b\b\b\b\b\b\b\b\b\b\b\b\b\n",
            "Epoch 8/300\n",
            "53/53 [==============================] - 7s 134ms/step - loss: 0.2516 - auc: 0.9419 - val_loss: 0.1882 - val_auc: 0.9511\b\b\b\b\b\b\b\b\b\b\b\b\b\b\b\b\b\b\b\b\b\b\b\b\b\b\b\b\b\b\b\b\b\b\n",
            "Epoch 9/300\n",
            "53/53 [==============================] - 7s 129ms/step - loss: 0.2507 - auc: 0.9423 - val_loss: 0.1747 - val_auc: 0.9510\b\b\b\b\b\b\b\b\b\b\b\b\b\b\b\b\b\b\b\b\b\b\b\b\b\b\b\b\b\b\b\b\b\b\n",
            "Epoch 10/300\n",
            "53/53 [==============================] - 7s 135ms/step - loss: 0.2467 - auc: 0.9446 - val_loss: 0.1702 - val_auc: 0.9544\b\b\b\b\b\b\b\b\b\b\b\b\b\b\b\b\b\b\b\b\b\b\b\b\b\b\b\b\b\b\b\b\b\b\n",
            "Epoch 11/300\n",
            "53/53 [==============================] - 7s 135ms/step - loss: 0.2461 - auc: 0.9447 - val_loss: 0.1671 - val_auc: 0.9572\b\b\b\b\b\b\b\b\b\b\b\b\b\b\b\b\b\b\b\b\b\b\b\b\b\b\b\b\b\b\b\b\b\b\n",
            "Epoch 12/300\n",
            "53/53 [==============================] - 7s 131ms/step - loss: 0.2421 - auc: 0.9461 - val_loss: 0.1648 - val_auc: 0.9578\b\b\b\b\b\b\b\b\b\b\b\b\b\b\b\b\b\b\b\b\b\b\b\b\b\b\b\b\b\b\b\b\b\b\n",
            "Epoch 13/300\n",
            "53/53 [==============================] - 7s 139ms/step - loss: 0.2395 - auc: 0.9480 - val_loss: 0.1663 - val_auc: 0.9587\b\b\b\b\b\b\b\b\b\b\b\b\b\b\b\b\b\b\b\b\b\b\b\b\b\b\b\b\b\b\b\b\b\b\n",
            "Epoch 14/300\n",
            "53/53 [==============================] - 7s 134ms/step - loss: 0.2358 - auc: 0.9495 - val_loss: 0.1638 - val_auc: 0.9577\b\b\b\b\b\b\b\b\b\b\b\b\b\b\b\b\b\b\b\b\b\b\b\b\b\b\b\b\b\b\b\b\b\b\n",
            "Epoch 15/300\n",
            "53/53 [==============================] - 7s 128ms/step - loss: 0.2323 - auc: 0.9513 - val_loss: 0.1729 - val_auc: 0.9564\b\b\b\b\b\b\b\b\b\b\b\b\b\b\b\b\b\b\b\b\b\b\b\b\b\b\b\b\b\b\b\b\b\b\n",
            "Epoch 16/300\n",
            "53/53 [==============================] - 7s 134ms/step - loss: 0.2336 - auc: 0.9505 - val_loss: 0.1641 - val_auc: 0.9608\b\b\b\b\b\b\b\b\b\b\b\b\b\b\b\b\b\b\b\b\b\b\b\b\b\b\b\b\b\b\b\b\b\b\n",
            "Epoch 17/300\n",
            "53/53 [==============================] - 7s 128ms/step - loss: 0.2277 - auc: 0.9532 - val_loss: 0.1663 - val_auc: 0.9591\b\b\b\b\b\b\b\b\b\b\b\b\b\b\b\b\b\b\b\b\b\b\b\b\b\b\b\b\b\b\b\b\b\b\n",
            "Epoch 18/300\n",
            "53/53 [==============================] - 7s 135ms/step - loss: 0.2270 - auc: 0.9542 - val_loss: 0.1736 - val_auc: 0.9600\b\b\b\b\b\b\b\b\b\b\b\b\b\b\b\b\b\b\b\b\b\b\b\b\b\b\b\b\b\b\b\b\b\b\n",
            "Epoch 19/300\n",
            "53/53 [==============================] - 7s 135ms/step - loss: 0.2230 - auc: 0.9549 - val_loss: 0.1693 - val_auc: 0.9563\b\b\b\b\b\b\b\b\b\b\b\b\b\b\b\b\b\b\b\b\b\b\b\b\b\b\b\b\b\b\b\b\b\b\n"
          ]
        }
      ],
      "source": [
        "history = model.fit(X_train,y_train, validation_data=(X_val,y_val), epochs=300, batch_size=256, callbacks=model_callbacks)"
      ]
    },
    {
      "cell_type": "code",
      "execution_count": 17,
      "metadata": {
        "gather": {
          "logged": 1695310545985
        },
        "jupyter": {
          "outputs_hidden": false,
          "source_hidden": false
        },
        "nteract": {
          "transient": {
            "deleting": false
          }
        }
      },
      "outputs": [
        {
          "data": {
            "text/plain": [
              "<Axes: >"
            ]
          },
          "execution_count": 17,
          "metadata": {},
          "output_type": "execute_result"
        },
        {
          "data": {
            "image/png": "[encoded data removed]",
            "text/plain": [
              "<Figure size 640x480 with 1 Axes>"
            ]
          },
          "metadata": {},
          "output_type": "display_data"
        }
      ],
      "source": [
        "pd.DataFrame(history.history)[['loss','val_loss']].plot()"
      ]
    },
    {
      "cell_type": "code",
      "execution_count": 19,
      "metadata": {
        "gather": {
          "logged": 1695310549005
        },
        "jupyter": {
          "outputs_hidden": false,
          "source_hidden": false
        },
        "nteract": {
          "transient": {
            "deleting": false
          }
        }
      },
      "outputs": [],
      "source": [
        "from functions.tools import metrics"
      ]
    },
    {
      "cell_type": "code",
      "execution_count": 20,
      "metadata": {
        "gather": {
          "logged": 1695310553272
        },
        "jupyter": {
          "outputs_hidden": false,
          "source_hidden": false
        },
        "nteract": {
          "transient": {
            "deleting": false
          }
        }
      },
      "outputs": [
        {
          "name": "stdout",
          "output_type": "stream",
          "text": [
            "177/177 [==============================] - 4s 8ms/step\b\b\b\b\b\b\b\b\b\b\b\b\b\b\b\b\b\b\b\b\b\b\b\b\b\b\b\b\b\b\b\b\b\b\b\b\b\b\b\b\b\b\b\b\b\b\b\b\b\b\n",
            "Best Threshold=0.126280\n",
            "              precision    recall  f1-score   support\n",
            "\n",
            "           0       1.00      0.93      0.96      5164\n",
            "           1       0.57      0.96      0.72       474\n",
            "\n",
            "    accuracy                           0.94      5638\n",
            "   macro avg       0.78      0.95      0.84      5638\n",
            "weighted avg       0.96      0.94      0.94      5638\n",
            "\n",
            "Specificity 0.9335786212238575\n",
            "Sensitivity 0.9620253164556962\n",
            "ROC score 0.9690138152153663\n",
            "AP 0.6519827478821639\n",
            "PPV 0.5707133917396746\n",
            "NPV 0.9962802231866088\n",
            "BS 0.03912663524818696\n",
            "AUPRC 0.6519827478821639\n"
          ]
        },
        {
          "data": {
            "image/png": "[encoded data removed]",
            "text/plain": [
              "<Figure size 640x480 with 2 Axes>"
            ]
          },
          "metadata": {},
          "output_type": "display_data"
        }
      ],
      "source": [
        "predictions = model.predict(X_test)\n",
        "\n",
        "metrics(predictions, y_test)"
      ]
    },
    {
      "cell_type": "code",
      "execution_count": 22,
      "metadata": {
        "gather": {
          "logged": 1695310553898
        },
        "jupyter": {
          "outputs_hidden": false,
          "source_hidden": false
        },
        "nteract": {
          "transient": {
            "deleting": false
          }
        }
      },
      "outputs": [
        {
          "data": {
            "image/png": "[encoded data removed]",
            "text/plain": [
              "<Figure size 640x480 with 1 Axes>"
            ]
          },
          "metadata": {},
          "output_type": "display_data"
        }
      ],
      "source": [
        "from sklearn.metrics import PrecisionRecallDisplay\n",
        "\n",
        "prcurve = PrecisionRecallDisplay.from_predictions(y_test, predictions, name=\"LSTMb\")\n",
        "_ = prcurve.ax_.set_title(\"2-class Precision-Recall curve\")\n"
      ]
    },
    {
      "cell_type": "code",
      "execution_count": 24,
      "metadata": {
        "gather": {
          "logged": 1695310561761
        },
        "jupyter": {
          "outputs_hidden": false,
          "source_hidden": false
        },
        "nteract": {
          "transient": {
            "deleting": false
          }
        }
      },
      "outputs": [
        {
          "name": "stdout",
          "output_type": "stream",
          "text": [
            "summarised\n",
            "auroc\n",
            "0.97 ( 0.96 - 0.97 )\n",
            "auprc\n",
            "0.65 ( 0.6 - 0.7 )\n"
          ]
        }
      ],
      "source": [
        "#This bootstraps the hold out set\n",
        "from functions.bootstrap import *\n",
        "\n",
        "print('summarised')\n",
        "score, ci_lower, ci_upper, scores = score_ci(y_test, list(predictions.reshape(5638)), score_fun=rc)\n",
        "print('auroc')\n",
        "print(round(score,2),'(',round(ci_lower,2),'-',round(ci_upper,2),')')\n",
        "score, ci_lower, ci_upper, scores = score_ci(y_test, list(predictions.reshape(5638)), score_fun=ap)\n",
        "print('auprc')\n",
        "print(round(score,2),'(',round(ci_lower,2),'-',round(ci_upper,2),')')"
      ]
    }
  ],
  "metadata": {
    "kernel_info": {
      "name": "python38-azureml-pt-tf"
    },
    "kernelspec": {
      "display_name": "Python 3.8 - Pytorch and Tensorflow",
      "language": "python",
      "name": "python38-azureml-pt-tf"
    },
    "language_info": {
      "codemirror_mode": {
        "name": "ipython",
        "version": 3
      },
      "file_extension": ".py",
      "mimetype": "text/x-python",
      "name": "python",
      "nbconvert_exporter": "python",
      "pygments_lexer": "ipython3",
      "version": "3.8.5"
    },
    "microsoft": {
      "host": {
        "AzureML": {
          "notebookHasBeenCompleted": true
        }
      },
      "ms_spell_check": {
        "ms_spell_check_language": "en"
      }
    },
    "nteract": {
      "version": "nteract-front-end@1.0.0"
    }
  },
  "nbformat": 4,
  "nbformat_minor": 2
}
