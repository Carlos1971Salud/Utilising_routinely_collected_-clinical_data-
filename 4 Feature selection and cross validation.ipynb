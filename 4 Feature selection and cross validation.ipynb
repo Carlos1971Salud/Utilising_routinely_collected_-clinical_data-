{
  "cells": [
    {
      "cell_type": "code",
      "source": [
        "import pandas as pd\n",
        "import numpy as np\n",
        "from functions.tools import *\n",
        "from numpy.random import seed\n",
        "seed(30)\n",
        "#import tensorflow as tf\n",
        "\n",
        "df = pd.read_pickle(r'./combined_data_feb2023.pkl')"
      ],
      "outputs": [],
      "execution_count": 1,
      "metadata": {
        "gather": {
          "logged": 1692093079866
        }
      }
    },
    {
      "cell_type": "code",
      "source": [
        "features = ['Ward Glucose', 'Haemoglobin',\n",
        "       'Mean cell volume, blood', 'White blood cell count, blood',\n",
        "       'Haematocrit', 'Platelets', 'Urea level, blood', 'Creatinine', 'Sodium',\n",
        "       'Potassium', 'Lymphocytes', 'Neutrophils', 'C-Reactive Protein',\n",
        "       'Eosinophils', 'Alkaline Phosphatase', 'Albumin',\n",
        "       'Alanine Transaminase', 'Bilirubin', 'Total Protein',\n",
        "       'Fibrinogen (clauss)', 'Glucose POCT Strip Blood', 'Ferritin',\n",
        "       'D-Dimer', 'Ward Lactate', 'age', 'sex', 'SARS CoV-2 RNA']"
      ],
      "outputs": [],
      "execution_count": 2,
      "metadata": {
        "jupyter": {
          "source_hidden": false,
          "outputs_hidden": false
        },
        "nteract": {
          "transient": {
            "deleting": false
          }
        },
        "gather": {
          "logged": 1692093080061
        }
      }
    },
    {
      "cell_type": "code",
      "source": [
        "#panels for feature selection\n",
        "\n",
        "full_features = ['Ward Glucose', 'Haemoglobin',\n",
        "       'Mean cell volume, blood', 'White blood cell count, blood',\n",
        "       'Haematocrit', 'Platelets', 'Urea level, blood', 'Creatinine', 'Sodium',\n",
        "       'Potassium', 'Lymphocytes', 'Neutrophils', 'C-Reactive Protein',\n",
        "       'Eosinophils', 'Alkaline Phosphatase', 'Albumin',\n",
        "       'Alanine Transaminase', 'Bilirubin', 'Total Protein',\n",
        "       'Fibrinogen (clauss)', 'Glucose POCT Strip Blood', 'Ferritin',\n",
        "       'D-Dimer', 'Ward Lactate', 'age', 'sex', 'SARS CoV-2 RNA']\n",
        "\n",
        "fbc = ['Haemoglobin',\n",
        "       'Mean cell volume, blood', \n",
        "       'White blood cell count, blood',\n",
        "       'Haematocrit', \n",
        "       'Platelets',\n",
        "       'Lymphocytes', \n",
        "       'Neutrophils',\n",
        "       'Eosinophils']\n",
        "\n",
        "demographics = ['age','sex']\n",
        "\n",
        "crp = ['C-Reactive Protein']\n",
        "\n",
        "ue = ['Urea level, blood', \n",
        "       'Creatinine', \n",
        "       'Sodium',\n",
        "       'Potassium']\n",
        "\n",
        "lft = ['Alkaline Phosphatase', \n",
        "       'Albumin',\n",
        "       'Alanine Transaminase', \n",
        "       'Bilirubin', \n",
        "       'Total Protein']\n",
        "\n",
        "clotting = ['Fibrinogen (clauss)',\n",
        "              'D-Dimer',\n",
        "              'Ferritin']\n",
        "\n",
        "lactate = ['Ward Lactate']\n",
        "\n",
        "covid = ['SARS CoV-2 RNA']\n",
        "\n",
        "panel1 = demographics+fbc\n",
        "panel2 = demographics+fbc+ue+lft\n",
        "panel3 = demographics+fbc+ue+lft+crp\n",
        "panel4 = demographics+fbc+ue+lft+crp+clotting+lactate\n",
        "panel5 = full_features\n"
      ],
      "outputs": [],
      "execution_count": 3,
      "metadata": {
        "jupyter": {
          "source_hidden": false,
          "outputs_hidden": false
        },
        "nteract": {
          "transient": {
            "deleting": false
          }
        },
        "gather": {
          "logged": 1692093080720
        }
      }
    },
    {
      "cell_type": "code",
      "source": [
        "# Train and test set given this undergoes 5-fold cross validation\n",
        "\n",
        "start_date = '2014-1-1'\n",
        "val_date = '2021-03-1'\n",
        "\n",
        "train = df[(df['date_culture']>=start_date)&(df['date_culture']<val_date)]\n",
        "test = df[df['date_culture']>=val_date]\n",
        "\n",
        "display('Train')\n",
        "display(train['pathogenic'].value_counts(normalize=True))\n",
        "display(len(train.groupby(['id','date_culture'])))\n",
        "\n",
        "display('Test')\n",
        "display(test['pathogenic'].value_counts(normalize=True))\n",
        "display(len(test.groupby(['id','date_culture'])))"
      ],
      "outputs": [
        {
          "output_type": "display_data",
          "data": {
            "text/plain": "'Train'\npathogenic\n0.0    0.777018\n1.0    0.222982\nName: proportion, dtype: float64"
          },
          "metadata": {}
        },
        {
          "output_type": "display_data",
          "data": {
            "text/plain": "15212\n'Test'\npathogenic\n0.0    0.915928\n1.0    0.084072\nName: proportion, dtype: float64"
          },
          "metadata": {}
        },
        {
          "output_type": "display_data",
          "data": {
            "text/plain": "5638"
          },
          "metadata": {}
        }
      ],
      "execution_count": 4,
      "metadata": {
        "jupyter": {
          "source_hidden": false,
          "outputs_hidden": false
        },
        "nteract": {
          "transient": {
            "deleting": false
          }
        },
        "gather": {
          "logged": 1692093082198
        }
      }
    },
    {
      "cell_type": "code",
      "source": [
        "from sklearn.model_selection import GroupShuffleSplit\n",
        "from sklearn.model_selection import cross_val_score\n",
        "from sklearn.model_selection import GroupKFold"
      ],
      "outputs": [],
      "execution_count": 5,
      "metadata": {
        "jupyter": {
          "source_hidden": false,
          "outputs_hidden": false
        },
        "nteract": {
          "transient": {
            "deleting": false
          }
        },
        "gather": {
          "logged": 1692093083062
        }
      }
    },
    {
      "cell_type": "code",
      "source": [
        "split = 5\n",
        "fraction = (split-1)/split\n",
        "\n",
        "cv = GroupKFold(n_splits=split)\n",
        "\n",
        "from keras.models import Sequential\n",
        "from keras.layers import Dense\n",
        "from keras.layers import Flatten\n",
        "from keras.layers import Dropout\n",
        "from keras.layers import Activation\n",
        "from keras.layers import LSTM\n",
        "from keras import regularizers\n",
        "from keras.layers import BatchNormalization\n",
        "import tensorflow as tf\n",
        "from keras.optimizers import Adam\n",
        "\n",
        "neg, pos = np.bincount(train['pathogenic'])\n",
        "initial_bias = np.log([pos/neg])\n",
        "initial_bias\n",
        "\n",
        "model_callbacks = [\n",
        "    tf.keras.callbacks.EarlyStopping(monitor='val_loss',patience=3, restore_best_weights=True)\n",
        "    ]\n",
        "\n",
        "METRICS = [\n",
        "\n",
        "      tf.keras.metrics.Precision(name='precision'),\n",
        "      tf.keras.metrics.Recall(name='recall'),\n",
        "      tf.keras.metrics.AUC(name='auc'),\n",
        "      tf.keras.metrics.TruePositives(thresholds=None, name=None, dtype=None),\n",
        "      tf.keras.metrics.TrueNegatives(thresholds=None, name=None, dtype=None),\n",
        "      tf.keras.metrics.FalsePositives(thresholds=None, name=None, dtype=None),\n",
        "      tf.keras.metrics.FalseNegatives(thresholds=None, name=None, dtype=None)\n",
        "\n",
        "    \n",
        "]\n",
        "\n",
        "from sklearn.preprocessing import StandardScaler\n",
        "scale = StandardScaler()\n",
        "\n"
      ],
      "outputs": [
        {
          "output_type": "stream",
          "name": "stderr",
          "text": "2023-08-15 09:51:22.781680: I tensorflow/core/platform/cpu_feature_guard.cc:182] This TensorFlow binary is optimized to use available CPU instructions in performance-critical operations.\nTo enable the following instructions: AVX2 AVX512F FMA, in other operations, rebuild TensorFlow with the appropriate compiler flags.\n2023-08-15 09:51:23.923279: W tensorflow/compiler/tf2tensorrt/utils/py_utils.cc:38] TF-TRT Warning: Could not find TensorRT\n2023-08-15 09:51:25.247382: E tensorflow/compiler/xla/stream_executor/cuda/cuda_driver.cc:266] failed call to cuInit: CUDA_ERROR_NO_DEVICE: no CUDA-capable device is detected\n"
        }
      ],
      "execution_count": 6,
      "metadata": {
        "jupyter": {
          "source_hidden": false,
          "outputs_hidden": false
        },
        "nteract": {
          "transient": {
            "deleting": false
          }
        },
        "gather": {
          "logged": 1692093086076
        }
      }
    },
    {
      "cell_type": "code",
      "source": [
        "\n",
        "def run_model(train, test, feature):\n",
        "    summary_val = pd.DataFrame()\n",
        "    summary_test = pd.DataFrame()\n",
        "    for train_index, test_index in cv.split(train, train['pathogenic'],  train['id']):\n",
        "        X_train = train.iloc[train_index]\n",
        "        X_val = train.iloc[test_index]\n",
        "\n",
        "        train_samples = len(X_train.groupby('id'))\n",
        "        train_steps = len(X_train)/ len(X_train.groupby('id'))\n",
        "        train_steps = int(train_steps)\n",
        "        train_feature_size = len(X_train[feature].columns)\n",
        "        train_feature_size = int(train_feature_size)\n",
        "\n",
        "        val_samples = len(X_val.groupby('id'))\n",
        "        val_steps = len(X_val)/ len(X_val.groupby('id'))\n",
        "        val_steps = int(val_steps)\n",
        "        val_feature_size = len(X_val[feature].columns)\n",
        "        val_feature_size = int(val_feature_size)\n",
        "\n",
        "        y_train = X_train.groupby(['id'])['pathogenic'].max().astype(int).values\n",
        "        y_train = y_train.reshape(len(y_train),1)\n",
        "\n",
        "        y_val = X_val.groupby(['id'])['pathogenic'].max().astype(int).values\n",
        "        y_val = y_val.reshape(len(y_val),1)\n",
        "\n",
        "        X_train_scaled=X_train.copy()\n",
        "        X_train_scaled[feature] = scale.fit_transform(X_train[feature])\n",
        "        X_train = X_train_scaled\n",
        "        \n",
        "        X_val_scaled=X_val.copy()\n",
        "        X_val_scaled[feature] = scale.transform(X_val[feature])\n",
        "        X_val = X_val_scaled\n",
        "\n",
        "        X_test = test\n",
        "        X_test[feature] = scale.transform(test[feature])\n",
        "        \n",
        "        test_samples = len(test.groupby('id'))\n",
        "        test_steps = len(test)/ len(test.groupby('id'))\n",
        "        test_steps = int(test_steps)\n",
        "        test_feature_size = len(test[feature].columns)\n",
        "\n",
        "        y_test = test.groupby(['id'])['pathogenic'].max().astype(int).values\n",
        "        y_test = y_test.reshape(len(y_test),1)\n",
        "\n",
        "        X_train = X_train[feature].fillna(0).values.reshape(train_samples,train_steps,train_feature_size)\n",
        "        X_val = X_val[feature].fillna(0).values.reshape(val_samples,val_steps,val_feature_size)\n",
        "        X_test = X_test[feature].fillna(0).values.reshape(test_samples, test_steps, test_feature_size)\n",
        "\n",
        "        \n",
        "        model = Sequential()\n",
        "        model.add(tf.keras.layers.Masking(mask_value=0., input_shape=(X_train.shape[1], X_train.shape[2])))\n",
        "        model.add(LSTM(10, input_shape=(X_train.shape[1], X_train.shape[2]), return_sequences=True))\n",
        "        model.add(Dropout(0.2))\n",
        "        model.add(BatchNormalization())\n",
        "        model.add(LSTM(10))\n",
        "        model.add(Dense(1, activation= 'sigmoid'))\n",
        "        model.compile(loss='binary_crossentropy', optimizer='adam', metrics=[tf.keras.metrics.AUC(curve='ROC',from_logits=True, name='auc'),tf.keras.metrics.AUC(curve='PR',from_logits=True, name='auprc')])\n",
        "\n",
        "        history = model.fit(X_train,y_train, validation_split=0.2, epochs=20, batch_size=64, callbacks=model_callbacks)\n",
        "\n",
        "        #Scores on CV for one-fold\n",
        "        val_outputs = model.evaluate(X_val,y_val, return_dict=True)\n",
        "        results_val = pd.DataFrame.from_dict(val_outputs,orient='index')\n",
        "        summary_val = pd.concat([summary_val,results_val],axis=1)\n",
        "\n",
        "        test_outputs = model.evaluate(X_test,y_test, return_dict=True)\n",
        "        results_test = pd.DataFrame.from_dict(test_outputs,orient='index')\n",
        "        summary_test = pd.concat([summary_test, results_test],axis=1)\n",
        "  \n",
        "    a=pd.concat([summary_val,summary_test],axis=1)\n",
        "    a.columns=[\n",
        "                                                        '1_val',\n",
        "                                                        '2_val',\n",
        "                                                        '3_val',\n",
        "                                                        '4_val',\n",
        "                                                        '5_val',\n",
        "                                                        '1_test',\n",
        "                                                        '2_test',\n",
        "                                                        '3_test',\n",
        "                                                        '4_test',\n",
        "                                                        '5_test']\n",
        "    return(a)\n",
        "\n",
        "\n",
        "\n",
        "\n",
        "\n",
        "    \n"
      ],
      "outputs": [],
      "execution_count": 7,
      "metadata": {
        "jupyter": {
          "source_hidden": false,
          "outputs_hidden": false
        },
        "nteract": {
          "transient": {
            "deleting": false
          }
        },
        "gather": {
          "logged": 1692093086756
        }
      }
    },
    {
      "cell_type": "code",
      "source": [
        "#The full panel\n",
        "result_panel5 = run_model(train, test, panel5)\n",
        "display(result_panel5)"
      ],
      "outputs": [
        {
          "output_type": "stream",
          "name": "stderr",
          "text": "/tmp/ipykernel_23391/115137444.py:35: SettingWithCopyWarning: \nA value is trying to be set on a copy of a slice from a DataFrame.\nTry using .loc[row_indexer,col_indexer] = value instead\n\nSee the caveats in the documentation: https://pandas.pydata.org/pandas-docs/stable/user_guide/indexing.html#returning-a-view-versus-a-copy\n  X_test[feature] = scale.transform(test[feature])\n2023-08-15 09:51:29.734603: W tensorflow/tsl/framework/cpu_allocator_impl.cc:83] Allocation of 15770700 exceeds 10% of free system memory.\n/tmp/ipykernel_23391/115137444.py:35: SettingWithCopyWarning: \nA value is trying to be set on a copy of a slice from a DataFrame.\nTry using .loc[row_indexer,col_indexer] = value instead\n\nSee the caveats in the documentation: https://pandas.pydata.org/pandas-docs/stable/user_guide/indexing.html#returning-a-view-versus-a-copy\n  X_test[feature] = scale.transform(test[feature])\n2023-08-15 09:52:11.736143: W tensorflow/tsl/framework/cpu_allocator_impl.cc:83] Allocation of 15770700 exceeds 10% of free system memory.\n/tmp/ipykernel_23391/115137444.py:35: SettingWithCopyWarning: \nA value is trying to be set on a copy of a slice from a DataFrame.\nTry using .loc[row_indexer,col_indexer] = value instead\n\nSee the caveats in the documentation: https://pandas.pydata.org/pandas-docs/stable/user_guide/indexing.html#returning-a-view-versus-a-copy\n  X_test[feature] = scale.transform(test[feature])\n2023-08-15 09:55:17.903099: W tensorflow/tsl/framework/cpu_allocator_impl.cc:83] Allocation of 15772320 exceeds 10% of free system memory.\n/tmp/ipykernel_23391/115137444.py:35: SettingWithCopyWarning: \nA value is trying to be set on a copy of a slice from a DataFrame.\nTry using .loc[row_indexer,col_indexer] = value instead\n\nSee the caveats in the documentation: https://pandas.pydata.org/pandas-docs/stable/user_guide/indexing.html#returning-a-view-versus-a-copy\n  X_test[feature] = scale.transform(test[feature])\n2023-08-15 09:57:22.746666: W tensorflow/tsl/framework/cpu_allocator_impl.cc:83] Allocation of 15772320 exceeds 10% of free system memory.\n/tmp/ipykernel_23391/115137444.py:35: SettingWithCopyWarning: \nA value is trying to be set on a copy of a slice from a DataFrame.\nTry using .loc[row_indexer,col_indexer] = value instead\n\nSee the caveats in the documentation: https://pandas.pydata.org/pandas-docs/stable/user_guide/indexing.html#returning-a-view-versus-a-copy\n  X_test[feature] = scale.transform(test[feature])\n2023-08-15 09:59:42.711675: W tensorflow/tsl/framework/cpu_allocator_impl.cc:83] Allocation of 15772320 exceeds 10% of free system memory.\n"
        },
        {
          "output_type": "stream",
          "name": "stdout",
          "text": "Epoch 1/20\n153/153 [==============================] - 15s 42ms/step - loss: 0.4013 - auc: 0.7518 - auprc: 0.3130 - val_loss: 1.0116 - val_auc: 0.6065 - val_auprc: 0.6870\b\b\b\b\b\b\b\b\b\b\b\b\b\b\b\b\b\b\b\b\b\b\b\b\b\b\b\b\b\b\b\b\b\b\b\b\b\b\nEpoch 2/20\n153/153 [==============================] - 3s 22ms/step - loss: 0.2368 - auc: 0.9080 - auprc: 0.6045 - val_loss: 0.8012 - val_auc: 0.6475 - val_auprc: 0.7351\b\b\b\b\b\b\b\b\b\b\b\b\b\b\b\b\b\b\b\b\b\b\b\b\b\b\b\b\b\b\b\b\b\nEpoch 3/20\n153/153 [==============================] - 3s 21ms/step - loss: 0.1965 - auc: 0.9417 - auprc: 0.6745 - val_loss: 0.7635 - val_auc: 0.6755 - val_auprc: 0.7506\b\b\b\b\b\b\b\b\b\b\b\b\b\b\b\b\b\b\b\b\b\b\b\b\b\b\b\b\b\b\b\b\b\nEpoch 4/20\n153/153 [==============================] - 3s 20ms/step - loss: 0.1736 - auc: 0.9528 - auprc: 0.7188 - val_loss: 0.7797 - val_auc: 0.6888 - val_auprc: 0.7554\b\b\b\b\b\b\b\b\b\b\b\b\b\b\b\b\b\b\b\b\b\b\b\b\b\b\b\b\b\b\b\b\b\nEpoch 5/20\n153/153 [==============================] - 3s 22ms/step - loss: 0.1634 - auc: 0.9578 - auprc: 0.7386 - val_loss: 0.7638 - val_auc: 0.6982 - val_auprc: 0.7639\b\b\b\b\b\b\b\b\b\b\b\b\b\b\b\b\b\b\b\b\b\b\b\b\b\b\b\b\b\b\b\b\b\nEpoch 6/20\n153/153 [==============================] - 3s 23ms/step - loss: 0.1558 - auc: 0.9628 - auprc: 0.7664 - val_loss: 0.7742 - val_auc: 0.7045 - val_auprc: 0.7718\b\b\b\b\b\b\b\b\b\b\b\b\b\b\b\b\b\b\b\b\b\b\b\b\b\b\b\b\b\b\b\b\b\n96/96 [==============================] - 1s 7ms/step - loss: 0.3092 - auc: 0.9092 - auprc: 0.6832\b\b\b\b\b\b\b\b\b\b\b\b\b\b\b\b\b\b\b\b\b\b\b\b\b\b\b\b\b\b\b\b\b\b\b\b\b\b\b\b\b\b\b\b\b\b\b\b\b\b\b\b\b\b\b\b\b\b\b\b\b\b\b\b\b\b\b\b\b\b\b\b\b\b\b\b\b\b\b\b\b\b\b\b\b\b\b\b\b\n177/177 [==============================] - 1s 7ms/step - loss: 0.1595 - auc: 0.9400 - auprc: 0.5838\b\b\b\b\b\b\b\b\b\b\b\b\b\b\b\b\b\b\b\b\b\b\b\b\b\b\b\b\b\b\b\b\b\b\b\b\b\b\b\b\b\b\b\b\b\b\b\b\b\b\b\b\b\b\b\b\b\b\b\b\b\b\b\b\b\b\b\b\b\b\b\b\b\b\b\b\b\b\b\b\b\b\b\b\b\b\b\b\b\b\b\b\b\nEpoch 1/20\n153/153 [==============================] - 45s 126ms/step - loss: 0.3970 - auc: 0.7654 - auprc: 0.3899 - val_loss: 1.0308 - val_auc: 0.6077 - val_auprc: 0.7026\b\b\b\b\b\b\b\b\b\b\b\b\b\b\b\b\b\b\b\b\b\b\b\b\b\b\b\b\b\b\b\b\b\b\b\b\b\b\b\b\b\nEpoch 2/20\n153/153 [==============================] - 9s 57ms/step - loss: 0.2280 - auc: 0.9154 - auprc: 0.6487 - val_loss: 0.8541 - val_auc: 0.6431 - val_auprc: 0.7336\b\b\b\b\b\b\b\b\b\b\b\b\b\b\b\b\b\b\b\b\b\b\b\b\b\b\b\b\b\b\b\b\b\nEpoch 3/20\n153/153 [==============================] - 10s 65ms/step - loss: 0.1902 - auc: 0.9452 - auprc: 0.7118 - val_loss: 0.7798 - val_auc: 0.6699 - val_auprc: 0.7549\b\b\b\b\b\b\b\b\b\b\b\b\b\b\b\b\b\b\b\b\b\b\b\b\b\b\b\b\b\b\b\b\nEpoch 4/20\n153/153 [==============================] - 9s 56ms/step - loss: 0.1686 - auc: 0.9533 - auprc: 0.7461 - val_loss: 0.7328 - val_auc: 0.6857 - val_auprc: 0.7703\b\b\b\b\b\b\b\b\b\b\b\b\b\b\b\b\b\b\b\b\b\b\b\b\b\b\b\b\b\b\b\b\b\nEpoch 5/20\n153/153 [==============================] - 12s 78ms/step - loss: 0.1582 - auc: 0.9588 - auprc: 0.7670 - val_loss: 0.7492 - val_auc: 0.6906 - val_auprc: 0.7768\b\b\b\b\b\b\b\b\b\b\b\b\b\b\b\b\b\b\b\b\b\b\b\b\b\b\b\b\b\b\b\b\b\b\nEpoch 6/20\n153/153 [==============================] - 13s 83ms/step - loss: 0.1479 - auc: 0.9657 - auprc: 0.7866 - val_loss: 0.7610 - val_auc: 0.6946 - val_auprc: 0.7802\b\b\b\b\b\b\b\b\b\b\b\b\b\b\b\b\b\b\b\b\b\b\b\b\b\b\b\b\b\b\b\b\b\b\nEpoch 7/20\n153/153 [==============================] - 10s 62ms/step - loss: 0.1425 - auc: 0.9679 - auprc: 0.7988 - val_loss: 0.7594 - val_auc: 0.7000 - val_auprc: 0.7874\b\b\b\b\b\b\b\b\b\b\b\b\b\b\b\b\b\b\b\b\b\b\b\b\b\b\b\b\b\b\b\b\b\b\n96/96 [==============================] - 1s 9ms/step - loss: 0.2819 - auc: 0.9177 - auprc: 0.7267\b\b\b\b\b\b\b\b\b\b\b\b\b\b\b\b\b\b\b\b\b\b\b\b\b\b\b\b\b\b\b\b\b\b\b\b\b\b\b\b\b\b\b\b\b\b\b\b\b\b\b\b\b\b\b\b\b\b\b\b\b\b\b\b\b\b\b\b\b\b\b\b\b\b\b\b\b\b\b\b\b\b\b\b\b\b\b\b\b\n177/177 [==============================] - 2s 11ms/step - loss: 0.1701 - auc: 0.9281 - auprc: 0.5669\b\b\b\b\b\b\b\b\b\b\b\b\b\b\b\b\b\b\b\b\b\b\b\b\b\b\b\b\b\b\b\b\b\b\b\b\b\b\b\b\b\b\b\b\b\b\b\b\b\b\b\b\b\b\b\b\b\b\b\b\b\b\b\b\b\b\b\b\b\b\b\b\b\b\b\b\b\b\b\b\b\b\b\b\b\b\b\b\b\b\b\b\nEpoch 1/20\n153/153 [==============================] - 61s 184ms/step - loss: 0.3910 - auc: 0.7481 - auprc: 0.3307 - val_loss: 1.2067 - val_auc: 0.5556 - val_auprc: 0.6632\b\b\b\b\b\b\b\b\b\b\b\b\b\b\b\b\b\b\b\b\b\b\b\b\b\b\b\b\b\b\b\b\b\b\b\b\b\b\b\b\b\nEpoch 2/20\n153/153 [==============================] - 9s 61ms/step - loss: 0.2327 - auc: 0.9096 - auprc: 0.6091 - val_loss: 0.9833 - val_auc: 0.5909 - val_auprc: 0.6817\b\b\b\b\b\b\b\b\b\b\b\b\b\b\b\b\b\b\b\b\b\b\b\b\b\b\b\b\b\b\b\b\b\nEpoch 3/20\n153/153 [==============================] - 7s 49ms/step - loss: 0.1950 - auc: 0.9426 - auprc: 0.6611 - val_loss: 0.8155 - val_auc: 0.6274 - val_auprc: 0.7122\b\b\b\b\b\b\b\b\b\b\b\b\b\b\b\b\b\b\b\b\b\b\b\b\b\b\b\b\b\b\b\b\b\b\b\nEpoch 4/20\n153/153 [==============================] - 6s 41ms/step - loss: 0.1716 - auc: 0.9534 - auprc: 0.7137 - val_loss: 0.7720 - val_auc: 0.6541 - val_auprc: 0.7315\b\b\b\b\b\b\b\b\b\b\b\b\b\b\b\b\b\b\b\b\b\b\b\b\b\b\b\b\b\b\b\b\b\nEpoch 5/20\n153/153 [==============================] - 6s 40ms/step - loss: 0.1620 - auc: 0.9591 - auprc: 0.7333 - val_loss: 0.7558 - val_auc: 0.6666 - val_auprc: 0.7403\b\b\b\b\b\b\b\b\b\b\b\b\b\b\b\b\b\b\b\b\b\b\b\b\b\b\b\b\b\b\b\b\b\nEpoch 6/20\n153/153 [==============================] - 7s 44ms/step - loss: 0.1510 - auc: 0.9628 - auprc: 0.7557 - val_loss: 0.7697 - val_auc: 0.6746 - val_auprc: 0.7492\b\b\b\b\b\b\b\b\b\b\b\b\b\b\b\b\b\b\b\b\b\b\b\b\b\b\b\b\b\b\b\b\b\nEpoch 7/20\n153/153 [==============================] - 7s 43ms/step - loss: 0.1468 - auc: 0.9651 - auprc: 0.7760 - val_loss: 0.7686 - val_auc: 0.6833 - val_auprc: 0.7561\b\b\b\b\b\b\b\b\b\b\b\b\b\b\b\b\b\b\b\b\b\b\b\b\b\b\b\b\b\b\b\b\b\nEpoch 8/20\n153/153 [==============================] - 7s 44ms/step - loss: 0.1437 - auc: 0.9672 - auprc: 0.7815 - val_loss: 0.7585 - val_auc: 0.6891 - val_auprc: 0.7617\b\b\b\b\b\b\b\b\b\b\b\b\b\b\b\b\b\b\b\b\b\b\b\b\b\b\b\b\b\b\b\b\b\n96/96 [==============================] - 1s 9ms/step - loss: 0.2882 - auc: 0.9155 - auprc: 0.6946\b\b\b\b\b\b\b\b\b\b\b\b\b\b\b\b\b\b\b\b\b\b\b\b\b\b\b\b\b\b\b\b\b\b\b\b\b\b\b\b\b\b\b\b\b\b\b\b\b\b\b\b\b\b\b\b\b\b\b\b\b\b\b\b\b\b\b\b\b\b\b\b\b\b\b\b\b\b\b\b\b\b\b\b\b\b\b\b\b\b\b\n177/177 [==============================] - 2s 8ms/step - loss: 0.8755 - auc: 0.5786 - auprc: 0.2043\b\b\b\b\b\b\b\b\b\b\b\b\b\b\b\b\b\b\b\b\b\b\b\b\b\b\b\b\b\b\b\b\b\b\b\b\b\b\b\b\b\b\b\b\b\b\b\b\b\b\b\b\b\b\b\b\b\b\b\b\b\b\b\b\b\b\b\b\b\b\b\b\b\b\b\b\b\b\b\b\b\b\b\b\b\b\b\b\b\b\b\b\b\nEpoch 1/20\n153/153 [==============================] - 55s 145ms/step - loss: 0.4033 - auc: 0.7244 - auprc: 0.3050 - val_loss: 1.1091 - val_auc: 0.5887 - val_auprc: 0.6648\b\b\b\b\b\b\b\b\b\b\b\b\b\b\b\b\b\b\b\b\b\b\b\b\b\b\b\b\b\b\b\b\b\b\b\b\b\b\b\b\b\nEpoch 2/20\n153/153 [==============================] - 10s 63ms/step - loss: 0.2404 - auc: 0.9024 - auprc: 0.5932 - val_loss: 0.9125 - val_auc: 0.6003 - val_auprc: 0.6813\b\b\b\b\b\b\b\b\b\b\b\b\b\b\b\b\b\b\b\b\b\b\b\b\b\b\b\b\b\b\b\b\b\b\nEpoch 3/20\n153/153 [==============================] - 10s 65ms/step - loss: 0.2053 - auc: 0.9350 - auprc: 0.6528 - val_loss: 0.8256 - val_auc: 0.6282 - val_auprc: 0.7108\b\b\b\b\b\b\b\b\b\b\b\b\b\b\b\b\b\b\b\b\b\b\b\b\b\b\b\b\b\b\b\b\b\b\nEpoch 4/20\n153/153 [==============================] - 11s 73ms/step - loss: 0.1820 - auc: 0.9466 - auprc: 0.6726 - val_loss: 0.7989 - val_auc: 0.6435 - val_auprc: 0.7265\b\b\b\b\b\b\b\b\b\b\b\b\b\b\b\b\b\b\b\b\b\b\b\b\b\b\b\b\b\b\b\b\nEpoch 5/20\n153/153 [==============================] - 12s 76ms/step - loss: 0.1682 - auc: 0.9542 - auprc: 0.7040 - val_loss: 0.7774 - val_auc: 0.6502 - val_auprc: 0.7341\b\b\b\b\b\b\b\b\b\b\b\b\b\b\b\b\b\b\b\b\b\b\b\b\b\b\b\b\b\b\b\b\nEpoch 6/20\n153/153 [==============================] - 8s 54ms/step - loss: 0.1591 - auc: 0.9607 - auprc: 0.7242 - val_loss: 0.7681 - val_auc: 0.6634 - val_auprc: 0.7461\b\b\b\b\b\b\b\b\b\b\b\b\b\b\b\b\b\b\b\b\b\b\b\b\b\b\b\b\b\b\b\b\b\b\b\nEpoch 7/20\n153/153 [==============================] - 6s 42ms/step - loss: 0.1550 - auc: 0.9604 - auprc: 0.7341 - val_loss: 0.7851 - val_auc: 0.6735 - val_auprc: 0.7566\b\b\b\b\b\b\b\b\b\b\b\b\b\b\b\b\b\b\b\b\b\b\b\b\b\b\b\b\b\b\b\b\b\nEpoch 8/20\n153/153 [==============================] - 6s 40ms/step - loss: 0.1509 - auc: 0.9620 - auprc: 0.7526 - val_loss: 0.8001 - val_auc: 0.6803 - val_auprc: 0.7622\b\b\b\b\b\b\b\b\b\b\b\b\b\b\b\b\b\b\b\b\b\b\b\b\b\b\b\b\b\b\b\b\b\nEpoch 9/20\n153/153 [==============================] - 6s 40ms/step - loss: 0.1447 - auc: 0.9664 - auprc: 0.7700 - val_loss: 0.7806 - val_auc: 0.6868 - val_auprc: 0.7689\b\b\b\b\b\b\b\b\b\b\b\b\b\b\b\b\b\b\b\b\b\b\b\b\b\b\b\b\b\b\b\b\b\n96/96 [==============================] - 1s 10ms/step - loss: 0.2937 - auc: 0.9131 - auprc: 0.7095\b\b\b\b\b\b\b\b\b\b\b\b\b\b\b\b\b\b\b\b\b\b\b\b\b\b\b\b\b\b\b\b\b\b\b\b\b\b\b\b\b\b\b\b\b\b\b\b\b\b\b\b\b\b\b\b\b\b\b\b\b\b\b\b\b\b\b\b\b\b\b\b\b\b\b\b\b\b\b\b\b\b\b\b\b\b\b\b\b\b\n177/177 [==============================] - 2s 11ms/step - loss: 1.1817 - auc: 0.3414 - auprc: 0.0660\b\b\b\b\b\b\b\b\b\b\b\b\b\b\b\b\b\b\b\b\b\b\b\b\b\b\b\b\b\b\b\b\b\b\b\b\b\b\b\b\b\b\b\b\b\b\b\b\b\b\b\b\b\b\b\b\b\b\b\b\b\b\b\b\b\b\b\b\b\b\b\b\b\b\b\b\b\b\b\b\b\b\b\b\b\b\b\b\b\b\b\b\nEpoch 1/20\n153/153 [==============================] - 51s 128ms/step - loss: 0.4399 - auc: 0.6898 - auprc: 0.2574 - val_loss: 1.0716 - val_auc: 0.5535 - val_auprc: 0.6394\b\b\b\b\b\b\b\b\b\b\b\b\b\b\b\b\b\b\b\b\b\b\b\b\b\b\b\b\b\b\b\b\b\b\b\b\b\b\b\b\b\nEpoch 2/20\n153/153 [==============================] - 10s 69ms/step - loss: 0.2579 - auc: 0.8749 - auprc: 0.5742 - val_loss: 0.9066 - val_auc: 0.6007 - val_auprc: 0.6743\b\b\b\b\b\b\b\b\b\b\b\b\b\b\b\b\b\b\b\b\b\b\b\b\b\b\b\b\b\b\b\b\nEpoch 3/20\n153/153 [==============================] - 11s 75ms/step - loss: 0.2130 - auc: 0.9261 - auprc: 0.6571 - val_loss: 0.7707 - val_auc: 0.6375 - val_auprc: 0.7135\b\b\b\b\b\b\b\b\b\b\b\b\b\b\b\b\b\b\b\b\b\b\b\b\b\b\b\b\b\b\b\b\b\b\nEpoch 4/20\n153/153 [==============================] - 12s 76ms/step - loss: 0.1841 - auc: 0.9516 - auprc: 0.7055 - val_loss: 0.7748 - val_auc: 0.6626 - val_auprc: 0.7366\b\b\b\b\b\b\b\b\b\b\b\b\b\b\b\b\b\b\b\b\b\b\b\b\b\b\b\b\b\b\b\b\b\b\nEpoch 5/20\n153/153 [==============================] - 14s 90ms/step - loss: 0.1610 - auc: 0.9592 - auprc: 0.7398 - val_loss: 0.7452 - val_auc: 0.6787 - val_auprc: 0.7533\b\b\b\b\b\b\b\b\b\b\b\b\b\b\b\b\b\b\b\b\b\b\b\b\b\b\b\b\b\b\b\b\b\b\nEpoch 6/20\n153/153 [==============================] - 7s 48ms/step - loss: 0.1519 - auc: 0.9635 - auprc: 0.7640 - val_loss: 0.7551 - val_auc: 0.6876 - val_auprc: 0.7647\b\b\b\b\b\b\b\b\b\b\b\b\b\b\b\b\b\b\b\b\b\b\b\b\b\b\b\b\b\b\b\b\b\b\b\nEpoch 7/20\n153/153 [==============================] - 8s 54ms/step - loss: 0.1450 - auc: 0.9659 - auprc: 0.7745 - val_loss: 0.7665 - val_auc: 0.6931 - val_auprc: 0.7704\b\b\b\b\b\b\b\b\b\b\b\b\b\b\b\b\b\b\b\b\b\b\b\b\b\b\b\b\b\b\b\b\b\nEpoch 8/20\n153/153 [==============================] - 8s 55ms/step - loss: 0.1401 - auc: 0.9670 - auprc: 0.7849 - val_loss: 0.7738 - val_auc: 0.6928 - val_auprc: 0.7678\b\b\b\b\b\b\b\b\b\b\b\b\b\b\b\b\b\b\b\b\b\b\b\b\b\b\b\b\b\b\b\b\b\b\b\n96/96 [==============================] - 1s 10ms/step - loss: 0.2673 - auc: 0.9340 - auprc: 0.8036\b\b\b\b\b\b\b\b\b\b\b\b\b\b\b\b\b\b\b\b\b\b\b\b\b\b\b\b\b\b\b\b\b\b\b\b\b\b\b\b\b\b\b\b\b\b\b\b\b\b\b\b\b\b\b\b\b\b\b\b\b\b\b\b\b\b\b\b\b\b\b\b\b\b\b\b\b\b\b\b\b\b\b\b\b\b\b\b\b\b\n177/177 [==============================] - 2s 12ms/step - loss: 0.9195 - auc: 0.5985 - auprc: 0.3185\b\b\b\b\b\b\b\b\b\b\b\b\b\b\b\b\b\b\b\b\b\b\b\b\b\b\b\b\b\b\b\b\b\b\b\b\b\b\b\b\b\b\b\b\b\b\b\b\b\b\b\b\b\b\b\b\b\b\b\b\b\b\b\b\b\b\b\b\b\b\b\b\b\b\b\b\b\b\b\b\b\b\b\b\b\b\b\b\b\b\b\b\n"
        },
        {
          "output_type": "display_data",
          "data": {
            "text/plain": "          1_val     2_val     3_val     4_val     5_val    1_test    2_test   \nloss   0.309193  0.281867  0.288200  0.293654  0.267343  0.159544  0.170141  \\\nauc    0.909172  0.917707  0.915472  0.913081  0.934018  0.940046  0.928126   \nauprc  0.683236  0.726715  0.694590  0.709453  0.803561  0.583835  0.566885   \n\n         3_test    4_test    5_test  \nloss   0.875495  1.181650  0.919525  \nauc    0.578564  0.341369  0.598471  \nauprc  0.204322  0.066048  0.318464  ",
            "text/html": "<div>\n<style scoped>\n    .dataframe tbody tr th:only-of-type {\n        vertical-align: middle;\n    }\n\n    .dataframe tbody tr th {\n        vertical-align: top;\n    }\n\n    .dataframe thead th {\n        text-align: right;\n    }\n</style>\n<table border=\"1\" class=\"dataframe\">\n  <thead>\n    <tr style=\"text-align: right;\">\n      <th></th>\n      <th>1_val</th>\n      <th>2_val</th>\n      <th>3_val</th>\n      <th>4_val</th>\n      <th>5_val</th>\n      <th>1_test</th>\n      <th>2_test</th>\n      <th>3_test</th>\n      <th>4_test</th>\n      <th>5_test</th>\n    </tr>\n  </thead>\n  <tbody>\n    <tr>\n      <th>loss</th>\n      <td>0.309193</td>\n      <td>0.281867</td>\n      <td>0.288200</td>\n      <td>0.293654</td>\n      <td>0.267343</td>\n      <td>0.159544</td>\n      <td>0.170141</td>\n      <td>0.875495</td>\n      <td>1.181650</td>\n      <td>0.919525</td>\n    </tr>\n    <tr>\n      <th>auc</th>\n      <td>0.909172</td>\n      <td>0.917707</td>\n      <td>0.915472</td>\n      <td>0.913081</td>\n      <td>0.934018</td>\n      <td>0.940046</td>\n      <td>0.928126</td>\n      <td>0.578564</td>\n      <td>0.341369</td>\n      <td>0.598471</td>\n    </tr>\n    <tr>\n      <th>auprc</th>\n      <td>0.683236</td>\n      <td>0.726715</td>\n      <td>0.694590</td>\n      <td>0.709453</td>\n      <td>0.803561</td>\n      <td>0.583835</td>\n      <td>0.566885</td>\n      <td>0.204322</td>\n      <td>0.066048</td>\n      <td>0.318464</td>\n    </tr>\n  </tbody>\n</table>\n</div>"
          },
          "metadata": {}
        }
      ],
      "execution_count": 8,
      "metadata": {
        "jupyter": {
          "source_hidden": false,
          "outputs_hidden": false
        },
        "nteract": {
          "transient": {
            "deleting": false
          }
        },
        "gather": {
          "logged": 1692093748118
        }
      }
    },
    {
      "cell_type": "code",
      "source": [
        "result_panel1 = run_model(train, test, panel1)\n",
        "display(result_panel1)\n"
      ],
      "outputs": [
        {
          "output_type": "stream",
          "name": "stderr",
          "text": "/tmp/ipykernel_23391/115137444.py:35: SettingWithCopyWarning: \nA value is trying to be set on a copy of a slice from a DataFrame.\nTry using .loc[row_indexer,col_indexer] = value instead\n\nSee the caveats in the documentation: https://pandas.pydata.org/pandas-docs/stable/user_guide/indexing.html#returning-a-view-versus-a-copy\n  X_test[feature] = scale.transform(test[feature])\n/tmp/ipykernel_23391/115137444.py:35: SettingWithCopyWarning: \nA value is trying to be set on a copy of a slice from a DataFrame.\nTry using .loc[row_indexer,col_indexer] = value instead\n\nSee the caveats in the documentation: https://pandas.pydata.org/pandas-docs/stable/user_guide/indexing.html#returning-a-view-versus-a-copy\n  X_test[feature] = scale.transform(test[feature])\n/tmp/ipykernel_23391/115137444.py:35: SettingWithCopyWarning: \nA value is trying to be set on a copy of a slice from a DataFrame.\nTry using .loc[row_indexer,col_indexer] = value instead\n\nSee the caveats in the documentation: https://pandas.pydata.org/pandas-docs/stable/user_guide/indexing.html#returning-a-view-versus-a-copy\n  X_test[feature] = scale.transform(test[feature])\n/tmp/ipykernel_23391/115137444.py:35: SettingWithCopyWarning: \nA value is trying to be set on a copy of a slice from a DataFrame.\nTry using .loc[row_indexer,col_indexer] = value instead\n\nSee the caveats in the documentation: https://pandas.pydata.org/pandas-docs/stable/user_guide/indexing.html#returning-a-view-versus-a-copy\n  X_test[feature] = scale.transform(test[feature])\n/tmp/ipykernel_23391/115137444.py:35: SettingWithCopyWarning: \nA value is trying to be set on a copy of a slice from a DataFrame.\nTry using .loc[row_indexer,col_indexer] = value instead\n\nSee the caveats in the documentation: https://pandas.pydata.org/pandas-docs/stable/user_guide/indexing.html#returning-a-view-versus-a-copy\n  X_test[feature] = scale.transform(test[feature])\n"
        },
        {
          "output_type": "stream",
          "name": "stdout",
          "text": "Epoch 1/20\n153/153 [==============================] - 55s 153ms/step - loss: 0.3831 - auc: 0.7575 - auprc: 0.3707 - val_loss: 0.9521 - val_auc: 0.5927 - val_auprc: 0.6791\b\b\b\b\b\b\b\b\b\b\b\b\b\b\b\b\b\b\b\b\b\b\b\b\b\b\b\b\b\b\b\b\b\b\b\b\b\b\b\b\b\nEpoch 2/20\n153/153 [==============================] - 11s 71ms/step - loss: 0.2461 - auc: 0.8971 - auprc: 0.5782 - val_loss: 0.8417 - val_auc: 0.6260 - val_auprc: 0.7050\b\b\b\b\b\b\b\b\b\b\b\b\b\b\b\b\b\b\b\b\b\b\b\b\b\b\b\b\b\b\b\b\nEpoch 3/20\n153/153 [==============================] - 12s 79ms/step - loss: 0.2163 - auc: 0.9265 - auprc: 0.6247 - val_loss: 0.7808 - val_auc: 0.6458 - val_auprc: 0.7196\b\b\b\b\b\b\b\b\b\b\b\b\b\b\b\b\b\b\b\b\b\b\b\b\b\b\b\b\b\b\b\b\b\b\nEpoch 4/20\n153/153 [==============================] - 10s 63ms/step - loss: 0.1936 - auc: 0.9435 - auprc: 0.6651 - val_loss: 0.8002 - val_auc: 0.6573 - val_auprc: 0.7337\b\b\b\b\b\b\b\b\b\b\b\b\b\b\b\b\b\b\b\b\b\b\b\b\b\b\b\b\b\b\b\b\nEpoch 5/20\n153/153 [==============================] - 9s 61ms/step - loss: 0.1797 - auc: 0.9501 - auprc: 0.6863 - val_loss: 0.7848 - val_auc: 0.6678 - val_auprc: 0.7420\b\b\b\b\b\b\b\b\b\b\b\b\b\b\b\b\b\b\b\b\b\b\b\b\b\b\b\b\b\b\b\b\b\b\b\nEpoch 6/20\n153/153 [==============================] - 10s 63ms/step - loss: 0.1701 - auc: 0.9522 - auprc: 0.6911 - val_loss: 0.7975 - val_auc: 0.6762 - val_auprc: 0.7532\b\b\b\b\b\b\b\b\b\b\b\b\b\b\b\b\b\b\b\b\b\b\b\b\b\b\b\b\b\b\b\b\n96/96 [==============================] - 1s 9ms/step - loss: 0.3353 - auc: 0.8944 - auprc: 0.6660\b\b\b\b\b\b\b\b\b\b\b\b\b\b\b\b\b\b\b\b\b\b\b\b\b\b\b\b\b\b\b\b\b\b\b\b\b\b\b\b\b\b\b\b\b\b\b\b\b\b\b\b\b\b\b\b\b\b\b\b\b\b\b\b\b\b\b\b\b\b\b\b\b\b\b\b\b\b\b\b\b\b\b\b\b\b\b\b\b\n177/177 [==============================] - 2s 8ms/step - loss: 0.2084 - auc: 0.8838 - auprc: 0.4635\b\b\b\b\b\b\b\b\b\b\b\b\b\b\b\b\b\b\b\b\b\b\b\b\b\b\b\b\b\b\b\b\b\b\b\b\b\b\b\b\b\b\b\b\b\b\b\b\b\b\b\b\b\b\b\b\b\b\b\b\b\b\b\b\b\b\b\b\b\b\b\b\b\b\b\b\b\b\b\b\b\b\b\b\b\b\b\b\b\b\b\b\b\nEpoch 1/20\n153/153 [==============================] - 61s 158ms/step - loss: 0.4229 - auc: 0.6745 - auprc: 0.2285 - val_loss: 1.0821 - val_auc: 0.5816 - val_auprc: 0.6680\b\b\b\b\b\b\b\b\b\b\b\b\b\b\b\b\b\b\b\b\b\b\b\b\b\b\b\b\b\b\b\b\b\b\b\b\b\b\b\b\b\nEpoch 2/20\n153/153 [==============================] - 11s 70ms/step - loss: 0.2527 - auc: 0.9033 - auprc: 0.5702 - val_loss: 1.0198 - val_auc: 0.5915 - val_auprc: 0.6784\b\b\b\b\b\b\b\b\b\b\b\b\b\b\b\b\b\b\b\b\b\b\b\b\b\b\b\b\b\b\b\b\nEpoch 3/20\n153/153 [==============================] - 7s 45ms/step - loss: 0.2101 - auc: 0.9326 - auprc: 0.5892 - val_loss: 0.8615 - val_auc: 0.5877 - val_auprc: 0.6676\b\b\b\b\b\b\b\b\b\b\b\b\b\b\b\b\b\b\b\b\b\b\b\b\b\b\b\b\b\b\b\b\b\nEpoch 4/20\n153/153 [==============================] - 8s 52ms/step - loss: 0.1881 - auc: 0.9425 - auprc: 0.6213 - val_loss: 0.8140 - val_auc: 0.6086 - val_auprc: 0.6865\b\b\b\b\b\b\b\b\b\b\b\b\b\b\b\b\b\b\b\b\b\b\b\b\b\b\b\b\b\b\b\b\b\nEpoch 5/20\n153/153 [==============================] - 9s 62ms/step - loss: 0.1724 - auc: 0.9501 - auprc: 0.6668 - val_loss: 0.8213 - val_auc: 0.6374 - val_auprc: 0.7220\b\b\b\b\b\b\b\b\b\b\b\b\b\b\b\b\b\b\b\b\b\b\b\b\b\b\b\b\b\b\b\b\b\nEpoch 6/20\n153/153 [==============================] - 10s 64ms/step - loss: 0.1676 - auc: 0.9521 - auprc: 0.6778 - val_loss: 0.8044 - val_auc: 0.6409 - val_auprc: 0.7233\b\b\b\b\b\b\b\b\b\b\b\b\b\b\b\b\b\b\b\b\b\b\b\b\b\b\b\b\b\b\b\b\b\b\nEpoch 7/20\n153/153 [==============================] - 10s 64ms/step - loss: 0.1635 - auc: 0.9547 - auprc: 0.6952 - val_loss: 0.7963 - val_auc: 0.6551 - val_auprc: 0.7376\b\b\b\b\b\b\b\b\b\b\b\b\b\b\b\b\b\b\b\b\b\b\b\b\b\b\b\b\b\b\b\b\b\b\nEpoch 8/20\n153/153 [==============================] - 11s 70ms/step - loss: 0.1577 - auc: 0.9586 - auprc: 0.7108 - val_loss: 0.8075 - val_auc: 0.6644 - val_auprc: 0.7505\b\b\b\b\b\b\b\b\b\b\b\b\b\b\b\b\b\b\b\b\b\b\b\b\b\b\b\b\b\b\b\b\nEpoch 9/20\n153/153 [==============================] - 10s 64ms/step - loss: 0.1543 - auc: 0.9595 - auprc: 0.7233 - val_loss: 0.8127 - val_auc: 0.6662 - val_auprc: 0.7490\b\b\b\b\b\b\b\b\b\b\b\b\b\b\b\b\b\b\b\b\b\b\b\b\b\b\b\b\b\b\b\b\b\b\nEpoch 10/20\n153/153 [==============================] - 10s 63ms/step - loss: 0.1538 - auc: 0.9597 - auprc: 0.7343 - val_loss: 0.7996 - val_auc: 0.6705 - val_auprc: 0.7565\b\b\b\b\b\b\b\b\b\b\b\b\b\b\b\b\b\b\b\b\b\b\b\b\b\b\b\b\b\b\b\b\b\b\n96/96 [==============================] - 1s 11ms/step - loss: 0.2844 - auc: 0.9126 - auprc: 0.6992\b\b\b\b\b\b\b\b\b\b\b\b\b\b\b\b\b\b\b\b\b\b\b\b\b\b\b\b\b\b\b\b\b\b\b\b\b\b\b\b\b\b\b\b\b\b\b\b\b\b\b\b\b\b\b\b\b\b\b\b\b\b\b\b\b\b\b\b\b\b\b\b\b\b\b\b\b\b\b\b\b\b\b\b\b\b\b\b\b\b\n177/177 [==============================] - 3s 15ms/step - loss: 0.1624 - auc: 0.9571 - auprc: 0.5339\b\b\b\b\b\b\b\b\b\b\b\b\b\b\b\b\b\b\b\b\b\b\b\b\b\b\b\b\b\b\b\b\b\b\b\b\b\b\b\b\b\b\b\b\b\b\b\b\b\b\b\b\b\b\b\b\b\b\b\b\b\b\b\b\b\b\b\b\b\b\b\b\b\b\b\b\b\b\b\b\b\b\b\b\b\b\b\b\b\b\b\b\nEpoch 1/20\n153/153 [==============================] - 48s 114ms/step - loss: 0.4620 - auc: 0.6136 - auprc: 0.1580 - val_loss: 1.0993 - val_auc: 0.5733 - val_auprc: 0.6717\b\b\b\b\b\b\b\b\b\b\b\b\b\b\b\b\b\b\b\b\b\b\b\b\b\b\b\b\b\b\b\b\b\b\b\b\b\b\b\b\b\nEpoch 2/20\n153/153 [==============================] - 10s 65ms/step - loss: 0.2712 - auc: 0.8859 - auprc: 0.5477 - val_loss: 1.1111 - val_auc: 0.5997 - val_auprc: 0.6883\b\b\b\b\b\b\b\b\b\b\b\b\b\b\b\b\b\b\b\b\b\b\b\b\b\b\b\b\b\b\b\b\nEpoch 3/20\n153/153 [==============================] - 10s 65ms/step - loss: 0.2146 - auc: 0.9289 - auprc: 0.6100 - val_loss: 0.8843 - val_auc: 0.6165 - val_auprc: 0.7056\b\b\b\b\b\b\b\b\b\b\b\b\b\b\b\b\b\b\b\b\b\b\b\b\b\b\b\b\b\b\b\b\b\b\nEpoch 4/20\n153/153 [==============================] - 9s 60ms/step - loss: 0.1897 - auc: 0.9434 - auprc: 0.6261 - val_loss: 0.8238 - val_auc: 0.6234 - val_auprc: 0.7013\b\b\b\b\b\b\b\b\b\b\b\b\b\b\b\b\b\b\b\b\b\b\b\b\b\b\b\b\b\b\b\b\b\nEpoch 5/20\n153/153 [==============================] - 7s 46ms/step - loss: 0.1742 - auc: 0.9489 - auprc: 0.6563 - val_loss: 0.8087 - val_auc: 0.6385 - val_auprc: 0.7147\b\b\b\b\b\b\b\b\b\b\b\b\b\b\b\b\b\b\b\b\b\b\b\b\b\b\b\b\b\b\b\b\b\b\b\nEpoch 6/20\n153/153 [==============================] - 7s 44ms/step - loss: 0.1623 - auc: 0.9553 - auprc: 0.6898 - val_loss: 0.8197 - val_auc: 0.6560 - val_auprc: 0.7392\b\b\b\b\b\b\b\b\b\b\b\b\b\b\b\b\b\b\b\b\b\b\b\b\b\b\b\b\b\b\b\b\b\nEpoch 7/20\n153/153 [==============================] - 7s 45ms/step - loss: 0.1551 - auc: 0.9579 - auprc: 0.7082 - val_loss: 0.8136 - val_auc: 0.6626 - val_auprc: 0.7550\b\b\b\b\b\b\b\b\b\b\b\b\b\b\b\b\b\b\b\b\b\b\b\b\b\b\b\b\b\b\b\b\b\nEpoch 8/20\n153/153 [==============================] - 7s 48ms/step - loss: 0.1503 - auc: 0.9622 - auprc: 0.7178 - val_loss: 0.8208 - val_auc: 0.6709 - val_auprc: 0.7623\b\b\b\b\b\b\b\b\b\b\b\b\b\b\b\b\b\b\b\b\b\b\b\b\b\b\b\b\b\b\b\b\b\n96/96 [==============================] - 1s 9ms/step - loss: 0.2918 - auc: 0.9079 - auprc: 0.6740\b\b\b\b\b\b\b\b\b\b\b\b\b\b\b\b\b\b\b\b\b\b\b\b\b\b\b\b\b\b\b\b\b\b\b\b\b\b\b\b\b\b\b\b\b\b\b\b\b\b\b\b\b\b\b\b\b\b\b\b\b\b\b\b\b\b\b\b\b\b\b\b\b\b\b\b\b\b\b\b\b\b\b\b\b\b\b\b\b\n177/177 [==============================] - 1s 7ms/step - loss: 0.7612 - auc: 0.5291 - auprc: 0.1716\b\b\b\b\b\b\b\b\b\b\b\b\b\b\b\b\b\b\b\b\b\b\b\b\b\b\b\b\b\b\b\b\b\b\b\b\b\b\b\b\b\b\b\b\b\b\b\b\b\b\b\b\b\b\b\b\b\b\b\b\b\b\b\b\b\b\b\b\b\b\b\b\b\b\b\b\b\b\b\b\b\b\b\b\b\b\b\b\b\b\b\b\b\nEpoch 1/20\n153/153 [==============================] - 49s 99ms/step - loss: 0.4003 - auc: 0.7089 - auprc: 0.2618 - val_loss: 1.0397 - val_auc: 0.5682 - val_auprc: 0.6625\b\b\b\b\b\b\b\b\b\b\b\b\b\b\b\b\b\b\b\b\b\b\b\b\b\b\b\b\b\b\b\b\b\b\b\b\b\b\b\b\b\b\nEpoch 2/20\n153/153 [==============================] - 7s 46ms/step - loss: 0.2543 - auc: 0.8975 - auprc: 0.5416 - val_loss: 0.9511 - val_auc: 0.5950 - val_auprc: 0.6809\b\b\b\b\b\b\b\b\b\b\b\b\b\b\b\b\b\b\b\b\b\b\b\b\b\b\b\b\b\b\b\b\b\nEpoch 3/20\n153/153 [==============================] - 9s 62ms/step - loss: 0.2089 - auc: 0.9319 - auprc: 0.5983 - val_loss: 0.8196 - val_auc: 0.6174 - val_auprc: 0.6888\b\b\b\b\b\b\b\b\b\b\b\b\b\b\b\b\b\b\b\b\b\b\b\b\b\b\b\b\b\b\b\b\b\b\b\nEpoch 4/20\n153/153 [==============================] - 9s 60ms/step - loss: 0.1853 - auc: 0.9410 - auprc: 0.6342 - val_loss: 0.7967 - val_auc: 0.6263 - val_auprc: 0.6984\b\b\b\b\b\b\b\b\b\b\b\b\b\b\b\b\b\b\b\b\b\b\b\b\b\b\b\b\b\b\b\b\b\b\b\nEpoch 5/20\n153/153 [==============================] - 10s 63ms/step - loss: 0.1756 - auc: 0.9454 - auprc: 0.6575 - val_loss: 0.8060 - val_auc: 0.6376 - val_auprc: 0.7122\b\b\b\b\b\b\b\b\b\b\b\b\b\b\b\b\b\b\b\b\b\b\b\b\b\b\b\b\b\b\b\b\b\b\nEpoch 6/20\n153/153 [==============================] - 9s 60ms/step - loss: 0.1686 - auc: 0.9483 - auprc: 0.6664 - val_loss: 0.7995 - val_auc: 0.6446 - val_auprc: 0.7184\b\b\b\b\b\b\b\b\b\b\b\b\b\b\b\b\b\b\b\b\b\b\b\b\b\b\b\b\b\b\b\b\b\b\b\nEpoch 7/20\n153/153 [==============================] - 7s 47ms/step - loss: 0.1616 - auc: 0.9545 - auprc: 0.6874 - val_loss: 0.8056 - val_auc: 0.6549 - val_auprc: 0.7320\b\b\b\b\b\b\b\b\b\b\b\b\b\b\b\b\b\b\b\b\b\b\b\b\b\b\b\b\b\b\b\b\b\b\b\n96/96 [==============================] - 1s 7ms/step - loss: 0.3029 - auc: 0.9016 - auprc: 0.6667\b\b\b\b\b\b\b\b\b\b\b\b\b\b\b\b\b\b\b\b\b\b\b\b\b\b\b\b\b\b\b\b\b\b\b\b\b\b\b\b\b\b\b\b\b\b\b\b\b\b\b\b\b\b\b\b\b\b\b\b\b\b\b\b\b\b\b\b\b\b\b\b\b\b\b\b\b\b\b\b\b\b\b\b\b\b\b\b\b\n177/177 [==============================] - 1s 8ms/step - loss: 0.3551 - auc: 0.8449 - auprc: 0.4337\b\b\b\b\b\b\b\b\b\b\b\b\b\b\b\b\b\b\b\b\b\b\b\b\b\b\b\b\b\b\b\b\b\b\b\b\b\b\b\b\b\b\b\b\b\b\b\b\b\b\b\b\b\b\b\b\b\b\b\b\b\b\b\b\b\b\b\b\b\b\b\b\b\b\b\b\b\b\b\b\b\b\b\b\b\b\b\b\b\b\b\b\b\nEpoch 1/20\n153/153 [==============================] - 47s 138ms/step - loss: 0.4063 - auc: 0.7112 - auprc: 0.2504 - val_loss: 1.1765 - val_auc: 0.5538 - val_auprc: 0.6373\b\b\b\b\b\b\b\b\b\b\b\b\b\b\b\b\b\b\b\b\b\b\b\b\b\b\b\b\b\b\b\b\b\b\b\b\b\b\b\b\b\nEpoch 2/20\n153/153 [==============================] - 11s 69ms/step - loss: 0.2450 - auc: 0.8970 - auprc: 0.5561 - val_loss: 0.8517 - val_auc: 0.5977 - val_auprc: 0.6723\b\b\b\b\b\b\b\b\b\b\b\b\b\b\b\b\b\b\b\b\b\b\b\b\b\b\b\b\b\b\b\b\nEpoch 3/20\n153/153 [==============================] - 11s 74ms/step - loss: 0.2097 - auc: 0.9285 - auprc: 0.5950 - val_loss: 0.7920 - val_auc: 0.6105 - val_auprc: 0.6739\b\b\b\b\b\b\b\b\b\b\b\b\b\b\b\b\b\b\b\b\b\b\b\b\b\b\b\b\b\b\b\b\nEpoch 4/20\n153/153 [==============================] - 9s 60ms/step - loss: 0.1893 - auc: 0.9411 - auprc: 0.6186 - val_loss: 0.7904 - val_auc: 0.6249 - val_auprc: 0.6891\b\b\b\b\b\b\b\b\b\b\b\b\b\b\b\b\b\b\b\b\b\b\b\b\b\b\b\b\b\b\b\b\b\b\b\nEpoch 5/20\n153/153 [==============================] - 8s 50ms/step - loss: 0.1744 - auc: 0.9467 - auprc: 0.6475 - val_loss: 0.7944 - val_auc: 0.6423 - val_auprc: 0.7079\b\b\b\b\b\b\b\b\b\b\b\b\b\b\b\b\b\b\b\b\b\b\b\b\b\b\b\b\b\b\b\b\b\nEpoch 6/20\n153/153 [==============================] - 8s 52ms/step - loss: 0.1651 - auc: 0.9524 - auprc: 0.6703 - val_loss: 0.8035 - val_auc: 0.6481 - val_auprc: 0.7169\b\b\b\b\b\b\b\b\b\b\b\b\b\b\b\b\b\b\b\b\b\b\b\b\b\b\b\b\b\b\b\b\b\b\b\nEpoch 7/20\n153/153 [==============================] - 6s 40ms/step - loss: 0.1619 - auc: 0.9530 - auprc: 0.6708 - val_loss: 0.8243 - val_auc: 0.6546 - val_auprc: 0.7218\b\b\b\b\b\b\b\b\b\b\b\b\b\b\b\b\b\b\b\b\b\b\b\b\b\b\b\b\b\b\b\b\b\n96/96 [==============================] - 1s 8ms/step - loss: 0.3007 - auc: 0.9085 - auprc: 0.6667\b\b\b\b\b\b\b\b\b\b\b\b\b\b\b\b\b\b\b\b\b\b\b\b\b\b\b\b\b\b\b\b\b\b\b\b\b\b\b\b\b\b\b\b\b\b\b\b\b\b\b\b\b\b\b\b\b\b\b\b\b\b\b\b\b\b\b\b\b\b\b\b\b\b\b\b\b\b\b\b\b\b\b\b\b\b\b\b\b\b\b\n177/177 [==============================] - 2s 8ms/step - loss: 0.9979 - auc: 0.1871 - auprc: 0.0481\b\b\b\b\b\b\b\b\b\b\b\b\b\b\b\b\b\b\b\b\b\b\b\b\b\b\b\b\b\b\b\b\b\b\b\b\b\b\b\b\b\b\b\b\b\b\b\b\b\b\b\b\b\b\b\b\b\b\b\b\b\b\b\b\b\b\b\b\b\b\b\b\b\b\b\b\b\b\b\b\b\b\b\b\b\b\b\b\b\b\b\b\b\n"
        },
        {
          "output_type": "display_data",
          "data": {
            "text/plain": "          1_val     2_val     3_val     4_val     5_val    1_test    2_test   \nloss   0.335328  0.284383  0.291805  0.302875  0.300675  0.208435  0.162396  \\\nauc    0.894436  0.912647  0.907942  0.901593  0.908487  0.883767  0.957087   \nauprc  0.666045  0.699202  0.674002  0.666675  0.666659  0.463533  0.533859   \n\n         3_test    4_test    5_test  \nloss   0.761203  0.355053  0.997917  \nauc    0.529072  0.844922  0.187124  \nauprc  0.171603  0.433692  0.048072  ",
            "text/html": "<div>\n<style scoped>\n    .dataframe tbody tr th:only-of-type {\n        vertical-align: middle;\n    }\n\n    .dataframe tbody tr th {\n        vertical-align: top;\n    }\n\n    .dataframe thead th {\n        text-align: right;\n    }\n</style>\n<table border=\"1\" class=\"dataframe\">\n  <thead>\n    <tr style=\"text-align: right;\">\n      <th></th>\n      <th>1_val</th>\n      <th>2_val</th>\n      <th>3_val</th>\n      <th>4_val</th>\n      <th>5_val</th>\n      <th>1_test</th>\n      <th>2_test</th>\n      <th>3_test</th>\n      <th>4_test</th>\n      <th>5_test</th>\n    </tr>\n  </thead>\n  <tbody>\n    <tr>\n      <th>loss</th>\n      <td>0.335328</td>\n      <td>0.284383</td>\n      <td>0.291805</td>\n      <td>0.302875</td>\n      <td>0.300675</td>\n      <td>0.208435</td>\n      <td>0.162396</td>\n      <td>0.761203</td>\n      <td>0.355053</td>\n      <td>0.997917</td>\n    </tr>\n    <tr>\n      <th>auc</th>\n      <td>0.894436</td>\n      <td>0.912647</td>\n      <td>0.907942</td>\n      <td>0.901593</td>\n      <td>0.908487</td>\n      <td>0.883767</td>\n      <td>0.957087</td>\n      <td>0.529072</td>\n      <td>0.844922</td>\n      <td>0.187124</td>\n    </tr>\n    <tr>\n      <th>auprc</th>\n      <td>0.666045</td>\n      <td>0.699202</td>\n      <td>0.674002</td>\n      <td>0.666675</td>\n      <td>0.666659</td>\n      <td>0.463533</td>\n      <td>0.533859</td>\n      <td>0.171603</td>\n      <td>0.433692</td>\n      <td>0.048072</td>\n    </tr>\n  </tbody>\n</table>\n</div>"
          },
          "metadata": {}
        }
      ],
      "execution_count": 9,
      "metadata": {
        "jupyter": {
          "source_hidden": false,
          "outputs_hidden": false
        },
        "nteract": {
          "transient": {
            "deleting": false
          }
        },
        "gather": {
          "logged": 1692094409230
        }
      }
    },
    {
      "cell_type": "code",
      "source": [
        "result_panel2 = run_model(train, test, panel2)\n",
        "display(result_panel2)\n",
        "display(result_panel2.T)"
      ],
      "outputs": [
        {
          "output_type": "stream",
          "name": "stderr",
          "text": "/tmp/ipykernel_23391/115137444.py:35: SettingWithCopyWarning: \nA value is trying to be set on a copy of a slice from a DataFrame.\nTry using .loc[row_indexer,col_indexer] = value instead\n\nSee the caveats in the documentation: https://pandas.pydata.org/pandas-docs/stable/user_guide/indexing.html#returning-a-view-versus-a-copy\n  X_test[feature] = scale.transform(test[feature])\n/tmp/ipykernel_23391/115137444.py:35: SettingWithCopyWarning: \nA value is trying to be set on a copy of a slice from a DataFrame.\nTry using .loc[row_indexer,col_indexer] = value instead\n\nSee the caveats in the documentation: https://pandas.pydata.org/pandas-docs/stable/user_guide/indexing.html#returning-a-view-versus-a-copy\n  X_test[feature] = scale.transform(test[feature])\n/tmp/ipykernel_23391/115137444.py:35: SettingWithCopyWarning: \nA value is trying to be set on a copy of a slice from a DataFrame.\nTry using .loc[row_indexer,col_indexer] = value instead\n\nSee the caveats in the documentation: https://pandas.pydata.org/pandas-docs/stable/user_guide/indexing.html#returning-a-view-versus-a-copy\n  X_test[feature] = scale.transform(test[feature])\n/tmp/ipykernel_23391/115137444.py:35: SettingWithCopyWarning: \nA value is trying to be set on a copy of a slice from a DataFrame.\nTry using .loc[row_indexer,col_indexer] = value instead\n\nSee the caveats in the documentation: https://pandas.pydata.org/pandas-docs/stable/user_guide/indexing.html#returning-a-view-versus-a-copy\n  X_test[feature] = scale.transform(test[feature])\n/tmp/ipykernel_23391/115137444.py:35: SettingWithCopyWarning: \nA value is trying to be set on a copy of a slice from a DataFrame.\nTry using .loc[row_indexer,col_indexer] = value instead\n\nSee the caveats in the documentation: https://pandas.pydata.org/pandas-docs/stable/user_guide/indexing.html#returning-a-view-versus-a-copy\n  X_test[feature] = scale.transform(test[feature])\n"
        },
        {
          "output_type": "stream",
          "name": "stdout",
          "text": "Epoch 1/20\n153/153 [==============================] - 41s 129ms/step - loss: 0.4131 - auc: 0.7173 - auprc: 0.2665 - val_loss: 1.0649 - val_auc: 0.5792 - val_auprc: 0.6601\b\b\b\b\b\b\b\b\b\b\b\b\b\b\b\b\b\b\b\b\b\b\b\b\b\b\b\b\b\b\b\b\b\b\b\b\b\nEpoch 2/20\n153/153 [==============================] - 10s 66ms/step - loss: 0.2557 - auc: 0.8864 - auprc: 0.5582 - val_loss: 0.9281 - val_auc: 0.6048 - val_auprc: 0.6883\b\b\b\b\b\b\b\b\b\b\b\b\b\b\b\b\b\b\b\b\b\b\b\b\b\b\b\b\b\b\b\b\nEpoch 3/20\n153/153 [==============================] - 9s 56ms/step - loss: 0.2147 - auc: 0.9282 - auprc: 0.6244 - val_loss: 0.7883 - val_auc: 0.6358 - val_auprc: 0.7055\b\b\b\b\b\b\b\b\b\b\b\b\b\b\b\b\b\b\b\b\b\b\b\b\b\b\b\b\b\b\b\b\b\nEpoch 4/20\n153/153 [==============================] - 9s 57ms/step - loss: 0.1893 - auc: 0.9439 - auprc: 0.6689 - val_loss: 0.7919 - val_auc: 0.6471 - val_auprc: 0.7133\b\b\b\b\b\b\b\b\b\b\b\b\b\b\b\b\b\b\b\b\b\b\b\b\b\b\b\b\b\b\b\b\b\nEpoch 5/20\n153/153 [==============================] - 9s 57ms/step - loss: 0.1728 - auc: 0.9540 - auprc: 0.6859 - val_loss: 0.8103 - val_auc: 0.6601 - val_auprc: 0.7238\b\b\b\b\b\b\b\b\b\b\b\b\b\b\b\b\b\b\b\b\b\b\b\b\b\b\b\b\b\b\b\b\b\b\b\nEpoch 6/20\n153/153 [==============================] - 7s 48ms/step - loss: 0.1656 - auc: 0.9559 - auprc: 0.6946 - val_loss: 0.7988 - val_auc: 0.6719 - val_auprc: 0.7358\b\b\b\b\b\b\b\b\b\b\b\b\b\b\b\b\b\b\b\b\b\b\b\b\b\b\b\b\b\b\b\b\b\n96/96 [==============================] - 2s 14ms/step - loss: 0.3208 - auc: 0.9030 - auprc: 0.6625\b\b\b\b\b\b\b\b\b\b\b\b\b\b\b\b\b\b\b\b\b\b\b\b\b\b\b\b\b\b\b\b\b\b\b\b\b\b\b\b\b\b\b\b\b\b\b\b\b\b\b\b\b\b\b\b\b\b\b\b\b\b\b\b\b\b\b\b\b\b\b\b\b\b\b\b\b\b\b\b\b\b\b\b\b\b\b\b\b\b\n177/177 [==============================] - 2s 12ms/step - loss: 0.3925 - auc: 0.8642 - auprc: 0.4759\b\b\b\b\b\b\b\b\b\b\b\b\b\b\b\b\b\b\b\b\b\b\b\b\b\b\b\b\b\b\b\b\b\b\b\b\b\b\b\b\b\b\b\b\b\b\b\b\b\b\b\b\b\b\b\b\b\b\b\b\b\b\b\b\b\b\b\b\b\b\b\b\b\b\b\b\b\b\b\b\b\b\b\b\b\b\b\b\b\b\b\b\nEpoch 1/20\n153/153 [==============================] - 33s 92ms/step - loss: 0.4162 - auc: 0.6958 - auprc: 0.2581 - val_loss: 1.0588 - val_auc: 0.5533 - val_auprc: 0.6531\b\b\b\b\b\b\b\b\b\b\b\b\b\b\b\b\b\b\b\b\b\b\b\b\b\b\b\b\b\b\b\b\b\b\b\b\b\b\nEpoch 2/20\n153/153 [==============================] - 9s 59ms/step - loss: 0.2499 - auc: 0.8949 - auprc: 0.5625 - val_loss: 0.9791 - val_auc: 0.5710 - val_auprc: 0.6644\b\b\b\b\b\b\b\b\b\b\b\b\b\b\b\b\b\b\b\b\b\b\b\b\b\b\b\b\b\b\b\b\b\nEpoch 3/20\n153/153 [==============================] - 9s 62ms/step - loss: 0.2090 - auc: 0.9324 - auprc: 0.6264 - val_loss: 0.8779 - val_auc: 0.5953 - val_auprc: 0.6835\b\b\b\b\b\b\b\b\b\b\b\b\b\b\b\b\b\b\b\b\b\b\b\b\b\b\b\b\b\b\b\b\b\nEpoch 4/20\n153/153 [==============================] - 9s 58ms/step - loss: 0.1890 - auc: 0.9435 - auprc: 0.6662 - val_loss: 0.8248 - val_auc: 0.6165 - val_auprc: 0.7056\b\b\b\b\b\b\b\b\b\b\b\b\b\b\b\b\b\b\b\b\b\b\b\b\b\b\b\b\b\b\b\b\b\b\b\nEpoch 5/20\n153/153 [==============================] - 10s 63ms/step - loss: 0.1788 - auc: 0.9471 - auprc: 0.6907 - val_loss: 0.8099 - val_auc: 0.6317 - val_auprc: 0.7166\b\b\b\b\b\b\b\b\b\b\b\b\b\b\b\b\b\b\b\b\b\b\b\b\b\b\b\b\b\b\b\b\b\b\nEpoch 6/20\n153/153 [==============================] - 8s 53ms/step - loss: 0.1695 - auc: 0.9534 - auprc: 0.7179 - val_loss: 0.8128 - val_auc: 0.6462 - val_auprc: 0.7271\b\b\b\b\b\b\b\b\b\b\b\b\b\b\b\b\b\b\b\b\b\b\b\b\b\b\b\b\b\b\b\b\b\nEpoch 7/20\n153/153 [==============================] - 7s 47ms/step - loss: 0.1621 - auc: 0.9588 - auprc: 0.7324 - val_loss: 0.8132 - val_auc: 0.6540 - val_auprc: 0.7300\b\b\b\b\b\b\b\b\b\b\b\b\b\b\b\b\b\b\b\b\b\b\b\b\b\b\b\b\b\b\b\b\b\nEpoch 8/20\n153/153 [==============================] - 6s 41ms/step - loss: 0.1565 - auc: 0.9600 - auprc: 0.7468 - val_loss: 0.8015 - val_auc: 0.6661 - val_auprc: 0.7412\b\b\b\b\b\b\b\b\b\b\b\b\b\b\b\b\b\b\b\b\b\b\b\b\b\b\b\b\b\b\b\b\b\nEpoch 9/20\n153/153 [==============================] - 6s 37ms/step - loss: 0.1554 - auc: 0.9608 - auprc: 0.7486 - val_loss: 0.8096 - val_auc: 0.6709 - val_auprc: 0.7476\b\b\b\b\b\b\b\b\b\b\b\b\b\b\b\b\b\b\b\b\b\b\b\b\b\b\b\b\b\b\b\b\b\nEpoch 10/20\n153/153 [==============================] - 8s 50ms/step - loss: 0.1488 - auc: 0.9655 - auprc: 0.7598 - val_loss: 0.8098 - val_auc: 0.6757 - val_auprc: 0.7500\b\b\b\b\b\b\b\b\b\b\b\b\b\b\b\b\b\b\b\b\b\b\b\b\b\b\b\b\b\b\b\b\b\b\b\nEpoch 11/20\n153/153 [==============================] - 8s 51ms/step - loss: 0.1498 - auc: 0.9626 - auprc: 0.7573 - val_loss: 0.8122 - val_auc: 0.6751 - val_auprc: 0.7513\b\b\b\b\b\b\b\b\b\b\b\b\b\b\b\b\b\b\b\b\b\b\b\b\b\b\b\b\b\b\b\b\b\n96/96 [==============================] - 1s 10ms/step - loss: 0.2901 - auc: 0.9117 - auprc: 0.6882\b\b\b\b\b\b\b\b\b\b\b\b\b\b\b\b\b\b\b\b\b\b\b\b\b\b\b\b\b\b\b\b\b\b\b\b\b\b\b\b\b\b\b\b\b\b\b\b\b\b\b\b\b\b\b\b\b\b\b\b\b\b\b\b\b\b\b\b\b\b\b\b\b\b\b\b\b\b\b\b\b\b\b\b\b\b\b\b\b\b\n177/177 [==============================] - 2s 9ms/step - loss: 0.6116 - auc: 0.5733 - auprc: 0.1658\b\b\b\b\b\b\b\b\b\b\b\b\b\b\b\b\b\b\b\b\b\b\b\b\b\b\b\b\b\b\b\b\b\b\b\b\b\b\b\b\b\b\b\b\b\b\b\b\b\b\b\b\b\b\b\b\b\b\b\b\b\b\b\b\b\b\b\b\b\b\b\b\b\b\b\b\b\b\b\b\b\b\b\b\b\b\b\b\b\b\b\b\b\nEpoch 1/20\n153/153 [==============================] - 41s 116ms/step - loss: 0.4038 - auc: 0.7353 - auprc: 0.3026 - val_loss: 1.0571 - val_auc: 0.5893 - val_auprc: 0.7018\b\b\b\b\b\b\b\b\b\b\b\b\b\b\b\b\b\b\b\b\b\b\b\b\b\b\b\b\b\b\b\b\b\b\b\b\b\nEpoch 2/20\n153/153 [==============================] - 11s 69ms/step - loss: 0.2537 - auc: 0.8947 - auprc: 0.5808 - val_loss: 0.9871 - val_auc: 0.5996 - val_auprc: 0.6924\b\b\b\b\b\b\b\b\b\b\b\b\b\b\b\b\b\b\b\b\b\b\b\b\b\b\b\b\b\b\b\b\b\b\nEpoch 3/20\n153/153 [==============================] - 12s 75ms/step - loss: 0.2168 - auc: 0.9273 - auprc: 0.6221 - val_loss: 0.8354 - val_auc: 0.6068 - val_auprc: 0.6997\b\b\b\b\b\b\b\b\b\b\b\b\b\b\b\b\b\b\b\b\b\b\b\b\b\b\b\b\b\b\b\b\b\b\nEpoch 4/20\n153/153 [==============================] - 9s 58ms/step - loss: 0.1914 - auc: 0.9442 - auprc: 0.6675 - val_loss: 0.8305 - val_auc: 0.6174 - val_auprc: 0.7099\b\b\b\b\b\b\b\b\b\b\b\b\b\b\b\b\b\b\b\b\b\b\b\b\b\b\b\b\b\b\b\b\b\b\b\nEpoch 5/20\n153/153 [==============================] - 9s 60ms/step - loss: 0.1768 - auc: 0.9500 - auprc: 0.6804 - val_loss: 0.7789 - val_auc: 0.6392 - val_auprc: 0.7282\b\b\b\b\b\b\b\b\b\b\b\b\b\b\b\b\b\b\b\b\b\b\b\b\b\b\b\b\b\b\b\b\b\nEpoch 6/20\n153/153 [==============================] - 9s 58ms/step - loss: 0.1633 - auc: 0.9553 - auprc: 0.7146 - val_loss: 0.7891 - val_auc: 0.6491 - val_auprc: 0.7380\b\b\b\b\b\b\b\b\b\b\b\b\b\b\b\b\b\b\b\b\b\b\b\b\b\b\b\b\b\b\b\b\b\b\b\nEpoch 7/20\n153/153 [==============================] - 8s 53ms/step - loss: 0.1576 - auc: 0.9593 - auprc: 0.7303 - val_loss: 0.7879 - val_auc: 0.6609 - val_auprc: 0.7498\b\b\b\b\b\b\b\b\b\b\b\b\b\b\b\b\b\b\b\b\b\b\b\b\b\b\b\b\b\b\b\b\b\nEpoch 8/20\n153/153 [==============================] - 8s 54ms/step - loss: 0.1552 - auc: 0.9617 - auprc: 0.7324 - val_loss: 0.7844 - val_auc: 0.6682 - val_auprc: 0.7565\b\b\b\b\b\b\b\b\b\b\b\b\b\b\b\b\b\b\b\b\b\b\b\b\b\b\b\b\b\b\b\b\b\n96/96 [==============================] - 1s 10ms/step - loss: 0.2974 - auc: 0.8994 - auprc: 0.6458\b\b\b\b\b\b\b\b\b\b\b\b\b\b\b\b\b\b\b\b\b\b\b\b\b\b\b\b\b\b\b\b\b\b\b\b\b\b\b\b\b\b\b\b\b\b\b\b\b\b\b\b\b\b\b\b\b\b\b\b\b\b\b\b\b\b\b\b\b\b\b\b\b\b\b\b\b\b\b\b\b\b\b\b\b\b\b\b\b\b\n177/177 [==============================] - 2s 10ms/step - loss: 0.6315 - auc: 0.9226 - auprc: 0.5019\b\b\b\b\b\b\b\b\b\b\b\b\b\b\b\b\b\b\b\b\b\b\b\b\b\b\b\b\b\b\b\b\b\b\b\b\b\b\b\b\b\b\b\b\b\b\b\b\b\b\b\b\b\b\b\b\b\b\b\b\b\b\b\b\b\b\b\b\b\b\b\b\b\b\b\b\b\b\b\b\b\b\b\b\b\b\b\b\b\b\b\b\nEpoch 1/20\n153/153 [==============================] - 51s 80ms/step - loss: 0.4097 - auc: 0.7410 - auprc: 0.2833 - val_loss: 1.0204 - val_auc: 0.6079 - val_auprc: 0.6803\b\b\b\b\b\b\b\b\b\b\b\b\b\b\b\b\b\b\b\b\b\b\b\b\b\b\b\b\b\b\b\b\b\b\b\b\b\b\b\b\b\b\nEpoch 2/20\n153/153 [==============================] - 7s 47ms/step - loss: 0.2357 - auc: 0.9193 - auprc: 0.5900 - val_loss: 0.8291 - val_auc: 0.6339 - val_auprc: 0.7070\b\b\b\b\b\b\b\b\b\b\b\b\b\b\b\b\b\b\b\b\b\b\b\b\b\b\b\b\b\b\b\b\b\b\b\nEpoch 3/20\n153/153 [==============================] - 8s 51ms/step - loss: 0.1963 - auc: 0.9419 - auprc: 0.6461 - val_loss: 0.8104 - val_auc: 0.6516 - val_auprc: 0.7234\b\b\b\b\b\b\b\b\b\b\b\b\b\b\b\b\b\b\b\b\b\b\b\b\b\b\b\b\b\b\b\b\b\nEpoch 4/20\n153/153 [==============================] - 7s 47ms/step - loss: 0.1785 - auc: 0.9514 - auprc: 0.6760 - val_loss: 0.8018 - val_auc: 0.6595 - val_auprc: 0.7359\b\b\b\b\b\b\b\b\b\b\b\b\b\b\b\b\b\b\b\b\b\b\b\b\b\b\b\b\b\b\b\b\b\b\b\nEpoch 5/20\n153/153 [==============================] - 8s 53ms/step - loss: 0.1674 - auc: 0.9535 - auprc: 0.6991 - val_loss: 0.8070 - val_auc: 0.6684 - val_auprc: 0.7404\b\b\b\b\b\b\b\b\b\b\b\b\b\b\b\b\b\b\b\b\b\b\b\b\b\b\b\b\b\b\b\b\b\nEpoch 6/20\n153/153 [==============================] - 8s 54ms/step - loss: 0.1613 - auc: 0.9570 - auprc: 0.7179 - val_loss: 0.8028 - val_auc: 0.6718 - val_auprc: 0.7436\b\b\b\b\b\b\b\b\b\b\b\b\b\b\b\b\b\b\b\b\b\b\b\b\b\b\b\b\b\b\b\b\b\nEpoch 7/20\n153/153 [==============================] - 8s 54ms/step - loss: 0.1523 - auc: 0.9630 - auprc: 0.7389 - val_loss: 0.8072 - val_auc: 0.6779 - val_auprc: 0.7495\b\b\b\b\b\b\b\b\b\b\b\b\b\b\b\b\b\b\b\b\b\b\b\b\b\b\b\b\b\b\b\b\b\n96/96 [==============================] - 1s 10ms/step - loss: 0.3025 - auc: 0.9092 - auprc: 0.7079\b\b\b\b\b\b\b\b\b\b\b\b\b\b\b\b\b\b\b\b\b\b\b\b\b\b\b\b\b\b\b\b\b\b\b\b\b\b\b\b\b\b\b\b\b\b\b\b\b\b\b\b\b\b\b\b\b\b\b\b\b\b\b\b\b\b\b\b\b\b\b\b\b\b\b\b\b\b\b\b\b\b\b\b\b\b\b\b\b\b\n177/177 [==============================] - 2s 11ms/step - loss: 0.2080 - auc: 0.8859 - auprc: 0.5032\b\b\b\b\b\b\b\b\b\b\b\b\b\b\b\b\b\b\b\b\b\b\b\b\b\b\b\b\b\b\b\b\b\b\b\b\b\b\b\b\b\b\b\b\b\b\b\b\b\b\b\b\b\b\b\b\b\b\b\b\b\b\b\b\b\b\b\b\b\b\b\b\b\b\b\b\b\b\b\b\b\b\b\b\b\b\b\b\b\b\b\b\nEpoch 1/20\n153/153 [==============================] - 42s 90ms/step - loss: 0.4234 - auc: 0.7057 - auprc: 0.2364 - val_loss: 0.9692 - val_auc: 0.5631 - val_auprc: 0.6519\b\b\b\b\b\b\b\b\b\b\b\b\b\b\b\b\b\b\b\b\b\b\b\b\b\b\b\b\b\b\b\b\b\b\b\b\b\b\b\b\b\b\nEpoch 2/20\n153/153 [==============================] - 8s 52ms/step - loss: 0.2555 - auc: 0.8946 - auprc: 0.5543 - val_loss: 0.8933 - val_auc: 0.5753 - val_auprc: 0.6654\b\b\b\b\b\b\b\b\b\b\b\b\b\b\b\b\b\b\b\b\b\b\b\b\b\b\b\b\b\b\b\b\b\nEpoch 3/20\n153/153 [==============================] - 8s 51ms/step - loss: 0.2143 - auc: 0.9281 - auprc: 0.6135 - val_loss: 0.8232 - val_auc: 0.5786 - val_auprc: 0.6639\b\b\b\b\b\b\b\b\b\b\b\b\b\b\b\b\b\b\b\b\b\b\b\b\b\b\b\b\b\b\b\b\b\nEpoch 4/20\n153/153 [==============================] - 9s 58ms/step - loss: 0.1965 - auc: 0.9362 - auprc: 0.6281 - val_loss: 0.8275 - val_auc: 0.5890 - val_auprc: 0.6638\b\b\b\b\b\b\b\b\b\b\b\b\b\b\b\b\b\b\b\b\b\b\b\b\b\b\b\b\b\b\b\b\b\nEpoch 5/20\n153/153 [==============================] - 11s 69ms/step - loss: 0.1823 - auc: 0.9466 - auprc: 0.6465 - val_loss: 0.8450 - val_auc: 0.5989 - val_auprc: 0.6668\b\b\b\b\b\b\b\b\b\b\b\b\b\b\b\b\b\b\b\b\b\b\b\b\b\b\b\b\b\b\b\b\nEpoch 6/20\n153/153 [==============================] - 7s 48ms/step - loss: 0.1680 - auc: 0.9528 - auprc: 0.6627 - val_loss: 0.8329 - val_auc: 0.6171 - val_auprc: 0.6778\b\b\b\b\b\b\b\b\b\b\b\b\b\b\b\b\b\b\b\b\b\b\b\b\b\b\b\b\b\b\b\b\b\n96/96 [==============================] - 1s 10ms/step - loss: 0.3354 - auc: 0.8936 - auprc: 0.6499\b\b\b\b\b\b\b\b\b\b\b\b\b\b\b\b\b\b\b\b\b\b\b\b\b\b\b\b\b\b\b\b\b\b\b\b\b\b\b\b\b\b\b\b\b\b\b\b\b\b\b\b\b\b\b\b\b\b\b\b\b\b\b\b\b\b\b\b\b\b\b\b\b\b\b\b\b\b\b\b\b\b\b\b\b\b\b\b\b\b\n177/177 [==============================] - 2s 11ms/step - loss: 0.6149 - auc: 0.9362 - auprc: 0.5466\b\b\b\b\b\b\b\b\b\b\b\b\b\b\b\b\b\b\b\b\b\b\b\b\b\b\b\b\b\b\b\b\b\b\b\b\b\b\b\b\b\b\b\b\b\b\b\b\b\b\b\b\b\b\b\b\b\b\b\b\b\b\b\b\b\b\b\b\b\b\b\b\b\b\b\b\b\b\b\b\b\b\b\b\b\b\b\b\b\b\b\b\n"
        },
        {
          "output_type": "display_data",
          "data": {
            "text/plain": "          1_val     2_val     3_val     4_val     5_val    1_test    2_test   \nloss   0.320842  0.290079  0.297381  0.302538  0.335394  0.392521  0.611584  \\\nauc    0.903039  0.911730  0.899401  0.909196  0.893629  0.864222  0.573315   \nauprc  0.662454  0.688245  0.645813  0.707859  0.649863  0.475889  0.165791   \n\n         3_test    4_test    5_test  \nloss   0.631494  0.207968  0.614881  \nauc    0.922631  0.885940  0.936221  \nauprc  0.501900  0.503241  0.546559  ",
            "text/html": "<div>\n<style scoped>\n    .dataframe tbody tr th:only-of-type {\n        vertical-align: middle;\n    }\n\n    .dataframe tbody tr th {\n        vertical-align: top;\n    }\n\n    .dataframe thead th {\n        text-align: right;\n    }\n</style>\n<table border=\"1\" class=\"dataframe\">\n  <thead>\n    <tr style=\"text-align: right;\">\n      <th></th>\n      <th>1_val</th>\n      <th>2_val</th>\n      <th>3_val</th>\n      <th>4_val</th>\n      <th>5_val</th>\n      <th>1_test</th>\n      <th>2_test</th>\n      <th>3_test</th>\n      <th>4_test</th>\n      <th>5_test</th>\n    </tr>\n  </thead>\n  <tbody>\n    <tr>\n      <th>loss</th>\n      <td>0.320842</td>\n      <td>0.290079</td>\n      <td>0.297381</td>\n      <td>0.302538</td>\n      <td>0.335394</td>\n      <td>0.392521</td>\n      <td>0.611584</td>\n      <td>0.631494</td>\n      <td>0.207968</td>\n      <td>0.614881</td>\n    </tr>\n    <tr>\n      <th>auc</th>\n      <td>0.903039</td>\n      <td>0.911730</td>\n      <td>0.899401</td>\n      <td>0.909196</td>\n      <td>0.893629</td>\n      <td>0.864222</td>\n      <td>0.573315</td>\n      <td>0.922631</td>\n      <td>0.885940</td>\n      <td>0.936221</td>\n    </tr>\n    <tr>\n      <th>auprc</th>\n      <td>0.662454</td>\n      <td>0.688245</td>\n      <td>0.645813</td>\n      <td>0.707859</td>\n      <td>0.649863</td>\n      <td>0.475889</td>\n      <td>0.165791</td>\n      <td>0.501900</td>\n      <td>0.503241</td>\n      <td>0.546559</td>\n    </tr>\n  </tbody>\n</table>\n</div>"
          },
          "metadata": {}
        },
        {
          "output_type": "display_data",
          "data": {
            "text/plain": "            loss       auc     auprc\n1_val   0.320842  0.903039  0.662454\n2_val   0.290079  0.911730  0.688245\n3_val   0.297381  0.899401  0.645813\n4_val   0.302538  0.909196  0.707859\n5_val   0.335394  0.893629  0.649863\n1_test  0.392521  0.864222  0.475889\n2_test  0.611584  0.573315  0.165791\n3_test  0.631494  0.922631  0.501900\n4_test  0.207968  0.885940  0.503241\n5_test  0.614881  0.936221  0.546559",
            "text/html": "<div>\n<style scoped>\n    .dataframe tbody tr th:only-of-type {\n        vertical-align: middle;\n    }\n\n    .dataframe tbody tr th {\n        vertical-align: top;\n    }\n\n    .dataframe thead th {\n        text-align: right;\n    }\n</style>\n<table border=\"1\" class=\"dataframe\">\n  <thead>\n    <tr style=\"text-align: right;\">\n      <th></th>\n      <th>loss</th>\n      <th>auc</th>\n      <th>auprc</th>\n    </tr>\n  </thead>\n  <tbody>\n    <tr>\n      <th>1_val</th>\n      <td>0.320842</td>\n      <td>0.903039</td>\n      <td>0.662454</td>\n    </tr>\n    <tr>\n      <th>2_val</th>\n      <td>0.290079</td>\n      <td>0.911730</td>\n      <td>0.688245</td>\n    </tr>\n    <tr>\n      <th>3_val</th>\n      <td>0.297381</td>\n      <td>0.899401</td>\n      <td>0.645813</td>\n    </tr>\n    <tr>\n      <th>4_val</th>\n      <td>0.302538</td>\n      <td>0.909196</td>\n      <td>0.707859</td>\n    </tr>\n    <tr>\n      <th>5_val</th>\n      <td>0.335394</td>\n      <td>0.893629</td>\n      <td>0.649863</td>\n    </tr>\n    <tr>\n      <th>1_test</th>\n      <td>0.392521</td>\n      <td>0.864222</td>\n      <td>0.475889</td>\n    </tr>\n    <tr>\n      <th>2_test</th>\n      <td>0.611584</td>\n      <td>0.573315</td>\n      <td>0.165791</td>\n    </tr>\n    <tr>\n      <th>3_test</th>\n      <td>0.631494</td>\n      <td>0.922631</td>\n      <td>0.501900</td>\n    </tr>\n    <tr>\n      <th>4_test</th>\n      <td>0.207968</td>\n      <td>0.885940</td>\n      <td>0.503241</td>\n    </tr>\n    <tr>\n      <th>5_test</th>\n      <td>0.614881</td>\n      <td>0.936221</td>\n      <td>0.546559</td>\n    </tr>\n  </tbody>\n</table>\n</div>"
          },
          "metadata": {}
        }
      ],
      "execution_count": 10,
      "metadata": {
        "jupyter": {
          "source_hidden": false,
          "outputs_hidden": false
        },
        "nteract": {
          "transient": {
            "deleting": false
          }
        },
        "gather": {
          "logged": 1692095039247
        }
      }
    },
    {
      "cell_type": "code",
      "source": [
        "result_panel3 = run_model(train, test, panel3)\n",
        "display(result_panel3)"
      ],
      "outputs": [
        {
          "output_type": "stream",
          "name": "stderr",
          "text": "/tmp/ipykernel_23391/115137444.py:35: SettingWithCopyWarning: \nA value is trying to be set on a copy of a slice from a DataFrame.\nTry using .loc[row_indexer,col_indexer] = value instead\n\nSee the caveats in the documentation: https://pandas.pydata.org/pandas-docs/stable/user_guide/indexing.html#returning-a-view-versus-a-copy\n  X_test[feature] = scale.transform(test[feature])\n/tmp/ipykernel_23391/115137444.py:35: SettingWithCopyWarning: \nA value is trying to be set on a copy of a slice from a DataFrame.\nTry using .loc[row_indexer,col_indexer] = value instead\n\nSee the caveats in the documentation: https://pandas.pydata.org/pandas-docs/stable/user_guide/indexing.html#returning-a-view-versus-a-copy\n  X_test[feature] = scale.transform(test[feature])\n/tmp/ipykernel_23391/115137444.py:35: SettingWithCopyWarning: \nA value is trying to be set on a copy of a slice from a DataFrame.\nTry using .loc[row_indexer,col_indexer] = value instead\n\nSee the caveats in the documentation: https://pandas.pydata.org/pandas-docs/stable/user_guide/indexing.html#returning-a-view-versus-a-copy\n  X_test[feature] = scale.transform(test[feature])\n/tmp/ipykernel_23391/115137444.py:35: SettingWithCopyWarning: \nA value is trying to be set on a copy of a slice from a DataFrame.\nTry using .loc[row_indexer,col_indexer] = value instead\n\nSee the caveats in the documentation: https://pandas.pydata.org/pandas-docs/stable/user_guide/indexing.html#returning-a-view-versus-a-copy\n  X_test[feature] = scale.transform(test[feature])\n/tmp/ipykernel_23391/115137444.py:35: SettingWithCopyWarning: \nA value is trying to be set on a copy of a slice from a DataFrame.\nTry using .loc[row_indexer,col_indexer] = value instead\n\nSee the caveats in the documentation: https://pandas.pydata.org/pandas-docs/stable/user_guide/indexing.html#returning-a-view-versus-a-copy\n  X_test[feature] = scale.transform(test[feature])\n"
        },
        {
          "output_type": "stream",
          "name": "stdout",
          "text": "Epoch 1/20\n153/153 [==============================] - 28s 87ms/step - loss: 0.4239 - auc: 0.7099 - auprc: 0.3052 - val_loss: 0.9501 - val_auc: 0.5660 - val_auprc: 0.6673\b\b\b\b\b\b\b\b\b\b\b\b\b\b\b\b\b\b\b\b\b\b\b\b\b\b\b\b\b\b\b\b\b\b\b\b\b\b\nEpoch 2/20\n153/153 [==============================] - 6s 41ms/step - loss: 0.2724 - auc: 0.8636 - auprc: 0.5658 - val_loss: 0.9587 - val_auc: 0.6063 - val_auprc: 0.6908\b\b\b\b\b\b\b\b\b\b\b\b\b\b\b\b\b\b\b\b\b\b\b\b\b\b\b\b\b\b\b\b\b\nEpoch 3/20\n153/153 [==============================] - 7s 45ms/step - loss: 0.2299 - auc: 0.9064 - auprc: 0.6341 - val_loss: 0.8404 - val_auc: 0.6404 - val_auprc: 0.7204\b\b\b\b\b\b\b\b\b\b\b\b\b\b\b\b\b\b\b\b\b\b\b\b\b\b\b\b\b\b\b\b\b\nEpoch 4/20\n153/153 [==============================] - 8s 53ms/step - loss: 0.2024 - auc: 0.9335 - auprc: 0.7017 - val_loss: 0.7738 - val_auc: 0.6665 - val_auprc: 0.7397\b\b\b\b\b\b\b\b\b\b\b\b\b\b\b\b\b\b\b\b\b\b\b\b\b\b\b\b\b\b\b\b\b\b\b\nEpoch 5/20\n153/153 [==============================] - 9s 61ms/step - loss: 0.1784 - auc: 0.9526 - auprc: 0.7419 - val_loss: 0.7524 - val_auc: 0.6884 - val_auprc: 0.7616\b\b\b\b\b\b\b\b\b\b\b\b\b\b\b\b\b\b\b\b\b\b\b\b\b\b\b\b\b\b\b\b\b\nEpoch 6/20\n153/153 [==============================] - 8s 55ms/step - loss: 0.1608 - auc: 0.9605 - auprc: 0.7638 - val_loss: 0.7616 - val_auc: 0.7007 - val_auprc: 0.7672\b\b\b\b\b\b\b\b\b\b\b\b\b\b\b\b\b\b\b\b\b\b\b\b\b\b\b\b\b\b\b\b\b\nEpoch 7/20\n153/153 [==============================] - 9s 56ms/step - loss: 0.1487 - auc: 0.9664 - auprc: 0.7781 - val_loss: 0.7733 - val_auc: 0.7060 - val_auprc: 0.7751\b\b\b\b\b\b\b\b\b\b\b\b\b\b\b\b\b\b\b\b\b\b\b\b\b\b\b\b\b\b\b\b\b\nEpoch 8/20\n153/153 [==============================] - 9s 60ms/step - loss: 0.1441 - auc: 0.9664 - auprc: 0.7865 - val_loss: 0.7876 - val_auc: 0.7084 - val_auprc: 0.7735\b\b\b\b\b\b\b\b\b\b\b\b\b\b\b\b\b\b\b\b\b\b\b\b\b\b\b\b\b\b\b\b\b\b\b\n96/96 [==============================] - 1s 10ms/step - loss: 0.2879 - auc: 0.9209 - auprc: 0.7512\b\b\b\b\b\b\b\b\b\b\b\b\b\b\b\b\b\b\b\b\b\b\b\b\b\b\b\b\b\b\b\b\b\b\b\b\b\b\b\b\b\b\b\b\b\b\b\b\b\b\b\b\b\b\b\b\b\b\b\b\b\b\b\b\b\b\b\b\b\b\b\b\b\b\b\b\b\b\b\b\b\b\b\b\b\b\b\b\b\b\n177/177 [==============================] - 2s 10ms/step - loss: 0.2526 - auc: 0.8531 - auprc: 0.4435\b\b\b\b\b\b\b\b\b\b\b\b\b\b\b\b\b\b\b\b\b\b\b\b\b\b\b\b\b\b\b\b\b\b\b\b\b\b\b\b\b\b\b\b\b\b\b\b\b\b\b\b\b\b\b\b\b\b\b\b\b\b\b\b\b\b\b\b\b\b\b\b\b\b\b\b\b\b\b\b\b\b\b\b\b\b\b\b\b\b\b\b\nEpoch 1/20\n153/153 [==============================] - 51s 71ms/step - loss: 0.4269 - auc: 0.7157 - auprc: 0.2400 - val_loss: 1.1444 - val_auc: 0.5604 - val_auprc: 0.6542\b\b\b\b\b\b\b\b\b\b\b\b\b\b\b\b\b\b\b\b\b\b\b\b\b\b\b\b\b\b\b\b\b\b\b\b\b\b\b\b\b\b\nEpoch 2/20\n153/153 [==============================] - 6s 36ms/step - loss: 0.2521 - auc: 0.8834 - auprc: 0.5532 - val_loss: 0.9425 - val_auc: 0.5840 - val_auprc: 0.6670\b\b\b\b\b\b\b\b\b\b\b\b\b\b\b\b\b\b\b\b\b\b\b\b\b\b\b\b\b\b\b\b\b\nEpoch 3/20\n153/153 [==============================] - 6s 40ms/step - loss: 0.2120 - auc: 0.9277 - auprc: 0.6164 - val_loss: 0.8373 - val_auc: 0.6003 - val_auprc: 0.6773\b\b\b\b\b\b\b\b\b\b\b\b\b\b\b\b\b\b\b\b\b\b\b\b\b\b\b\b\b\b\b\b\b\nEpoch 4/20\n153/153 [==============================] - 7s 45ms/step - loss: 0.1839 - auc: 0.9430 - auprc: 0.6489 - val_loss: 0.8212 - val_auc: 0.6210 - val_auprc: 0.6884\b\b\b\b\b\b\b\b\b\b\b\b\b\b\b\b\b\b\b\b\b\b\b\b\b\b\b\b\b\b\b\b\b\nEpoch 5/20\n153/153 [==============================] - 9s 57ms/step - loss: 0.1717 - auc: 0.9465 - auprc: 0.6827 - val_loss: 0.8152 - val_auc: 0.6359 - val_auprc: 0.7032\b\b\b\b\b\b\b\b\b\b\b\b\b\b\b\b\b\b\b\b\b\b\b\b\b\b\b\b\b\b\b\b\b\b\b\nEpoch 6/20\n153/153 [==============================] - 9s 57ms/step - loss: 0.1600 - auc: 0.9560 - auprc: 0.7171 - val_loss: 0.8022 - val_auc: 0.6519 - val_auprc: 0.7165\b\b\b\b\b\b\b\b\b\b\b\b\b\b\b\b\b\b\b\b\b\b\b\b\b\b\b\b\b\b\b\b\b\nEpoch 7/20\n153/153 [==============================] - 9s 58ms/step - loss: 0.1541 - auc: 0.9605 - auprc: 0.7397 - val_loss: 0.8114 - val_auc: 0.6630 - val_auprc: 0.7351\b\b\b\b\b\b\b\b\b\b\b\b\b\b\b\b\b\b\b\b\b\b\b\b\b\b\b\b\b\b\b\b\b\b\b\nEpoch 8/20\n153/153 [==============================] - 8s 55ms/step - loss: 0.1472 - auc: 0.9644 - auprc: 0.7482 - val_loss: 0.8109 - val_auc: 0.6680 - val_auprc: 0.7375\b\b\b\b\b\b\b\b\b\b\b\b\b\b\b\b\b\b\b\b\b\b\b\b\b\b\b\b\b\b\b\b\b\nEpoch 9/20\n153/153 [==============================] - 8s 54ms/step - loss: 0.1466 - auc: 0.9627 - auprc: 0.7474 - val_loss: 0.8067 - val_auc: 0.6733 - val_auprc: 0.7474\b\b\b\b\b\b\b\b\b\b\b\b\b\b\b\b\b\b\b\b\b\b\b\b\b\b\b\b\b\b\b\b\b\b\b\n96/96 [==============================] - 1s 9ms/step - loss: 0.2848 - auc: 0.9132 - auprc: 0.6855\b\b\b\b\b\b\b\b\b\b\b\b\b\b\b\b\b\b\b\b\b\b\b\b\b\b\b\b\b\b\b\b\b\b\b\b\b\b\b\b\b\b\b\b\b\b\b\b\b\b\b\b\b\b\b\b\b\b\b\b\b\b\b\b\b\b\b\b\b\b\b\b\b\b\b\b\b\b\b\b\b\b\b\b\b\b\b\b\b\n177/177 [==============================] - 2s 8ms/step - loss: 0.9666 - auc: 0.5141 - auprc: 0.1272\b\b\b\b\b\b\b\b\b\b\b\b\b\b\b\b\b\b\b\b\b\b\b\b\b\b\b\b\b\b\b\b\b\b\b\b\b\b\b\b\b\b\b\b\b\b\b\b\b\b\b\b\b\b\b\b\b\b\b\b\b\b\b\b\b\b\b\b\b\b\b\b\b\b\b\b\b\b\b\b\b\b\b\b\b\b\b\b\b\b\b\b\b\nEpoch 1/20\n153/153 [==============================] - 51s 105ms/step - loss: 0.3942 - auc: 0.7586 - auprc: 0.3664 - val_loss: 1.1224 - val_auc: 0.5557 - val_auprc: 0.6665\b\b\b\b\b\b\b\b\b\b\b\b\b\b\b\b\b\b\b\b\b\b\b\b\b\b\b\b\b\b\b\b\b\b\b\b\b\b\b\b\b\nEpoch 2/20\n153/153 [==============================] - 8s 55ms/step - loss: 0.2380 - auc: 0.8975 - auprc: 0.6000 - val_loss: 0.8922 - val_auc: 0.5997 - val_auprc: 0.7009\b\b\b\b\b\b\b\b\b\b\b\b\b\b\b\b\b\b\b\b\b\b\b\b\b\b\b\b\b\b\b\b\b\nEpoch 3/20\n153/153 [==============================] - 8s 52ms/step - loss: 0.2003 - auc: 0.9372 - auprc: 0.6701 - val_loss: 0.8247 - val_auc: 0.6236 - val_auprc: 0.7181\b\b\b\b\b\b\b\b\b\b\b\b\b\b\b\b\b\b\b\b\b\b\b\b\b\b\b\b\b\b\b\b\b\nEpoch 4/20\n153/153 [==============================] - 10s 65ms/step - loss: 0.1763 - auc: 0.9505 - auprc: 0.6940 - val_loss: 0.8047 - val_auc: 0.6471 - val_auprc: 0.7425\b\b\b\b\b\b\b\b\b\b\b\b\b\b\b\b\b\b\b\b\b\b\b\b\b\b\b\b\b\b\b\b\nEpoch 5/20\n153/153 [==============================] - 11s 71ms/step - loss: 0.1645 - auc: 0.9571 - auprc: 0.7212 - val_loss: 0.8111 - val_auc: 0.6521 - val_auprc: 0.7464\b\b\b\b\b\b\b\b\b\b\b\b\b\b\b\b\b\b\b\b\b\b\b\b\b\b\b\b\b\b\b\b\b\b\nEpoch 6/20\n153/153 [==============================] - 13s 82ms/step - loss: 0.1527 - auc: 0.9614 - auprc: 0.7545 - val_loss: 0.8074 - val_auc: 0.6675 - val_auprc: 0.7636\b\b\b\b\b\b\b\b\b\b\b\b\b\b\b\b\b\b\b\b\b\b\b\b\b\b\b\b\b\b\b\b\b\b\nEpoch 7/20\n153/153 [==============================] - 9s 56ms/step - loss: 0.1489 - auc: 0.9644 - auprc: 0.7618 - val_loss: 0.7988 - val_auc: 0.6748 - val_auprc: 0.7726\b\b\b\b\b\b\b\b\b\b\b\b\b\b\b\b\b\b\b\b\b\b\b\b\b\b\b\b\b\b\b\b\b\b\b\nEpoch 8/20\n153/153 [==============================] - 9s 56ms/step - loss: 0.1473 - auc: 0.9633 - auprc: 0.7721 - val_loss: 0.7989 - val_auc: 0.6782 - val_auprc: 0.7773\b\b\b\b\b\b\b\b\b\b\b\b\b\b\b\b\b\b\b\b\b\b\b\b\b\b\b\b\b\b\b\b\b\b\b\nEpoch 9/20\n153/153 [==============================] - 7s 44ms/step - loss: 0.1427 - auc: 0.9655 - auprc: 0.7786 - val_loss: 0.7869 - val_auc: 0.6830 - val_auprc: 0.7811\b\b\b\b\b\b\b\b\b\b\b\b\b\b\b\b\b\b\b\b\b\b\b\b\b\b\b\b\b\b\b\b\b\nEpoch 10/20\n153/153 [==============================] - 6s 42ms/step - loss: 0.1392 - auc: 0.9661 - auprc: 0.7899 - val_loss: 0.8085 - val_auc: 0.6876 - val_auprc: 0.7843\b\b\b\b\b\b\b\b\b\b\b\b\b\b\b\b\b\b\b\b\b\b\b\b\b\b\b\b\b\b\b\b\b\nEpoch 11/20\n153/153 [==============================] - 7s 43ms/step - loss: 0.1367 - auc: 0.9681 - auprc: 0.7991 - val_loss: 0.8242 - val_auc: 0.6861 - val_auprc: 0.7842\b\b\b\b\b\b\b\b\b\b\b\b\b\b\b\b\b\b\b\b\b\b\b\b\b\b\b\b\b\b\b\b\b\nEpoch 12/20\n153/153 [==============================] - 7s 44ms/step - loss: 0.1348 - auc: 0.9679 - auprc: 0.7980 - val_loss: 0.8084 - val_auc: 0.6855 - val_auprc: 0.7796\b\b\b\b\b\b\b\b\b\b\b\b\b\b\b\b\b\b\b\b\b\b\b\b\b\b\b\b\b\b\b\b\b\n96/96 [==============================] - 1s 9ms/step - loss: 0.2702 - auc: 0.9255 - auprc: 0.7474\b\b\b\b\b\b\b\b\b\b\b\b\b\b\b\b\b\b\b\b\b\b\b\b\b\b\b\b\b\b\b\b\b\b\b\b\b\b\b\b\b\b\b\b\b\b\b\b\b\b\b\b\b\b\b\b\b\b\b\b\b\b\b\b\b\b\b\b\b\b\b\b\b\b\b\b\b\b\b\b\b\b\b\b\b\b\b\b\b\n177/177 [==============================] - 2s 8ms/step - loss: 0.8380 - auc: 0.6833 - auprc: 0.3663\b\b\b\b\b\b\b\b\b\b\b\b\b\b\b\b\b\b\b\b\b\b\b\b\b\b\b\b\b\b\b\b\b\b\b\b\b\b\b\b\b\b\b\b\b\b\b\b\b\b\b\b\b\b\b\b\b\b\b\b\b\b\b\b\b\b\b\b\b\b\b\b\b\b\b\b\b\b\b\b\b\b\b\b\b\b\b\b\b\b\b\b\b\nEpoch 1/20\n153/153 [==============================] - 57s 144ms/step - loss: 0.3924 - auc: 0.7632 - auprc: 0.3915 - val_loss: 0.9516 - val_auc: 0.5958 - val_auprc: 0.6917\b\b\b\b\b\b\b\b\b\b\b\b\b\b\b\b\b\b\b\b\b\b\b\b\b\b\b\b\b\b\b\b\b\b\b\b\b\b\b\b\b\nEpoch 2/20\n153/153 [==============================] - 8s 55ms/step - loss: 0.2299 - auc: 0.9227 - auprc: 0.6222 - val_loss: 0.8240 - val_auc: 0.6387 - val_auprc: 0.7200\b\b\b\b\b\b\b\b\b\b\b\b\b\b\b\b\b\b\b\b\b\b\b\b\b\b\b\b\b\b\b\b\b\b\b\nEpoch 3/20\n153/153 [==============================] - 8s 49ms/step - loss: 0.1879 - auc: 0.9479 - auprc: 0.6877 - val_loss: 0.7752 - val_auc: 0.6613 - val_auprc: 0.7352\b\b\b\b\b\b\b\b\b\b\b\b\b\b\b\b\b\b\b\b\b\b\b\b\b\b\b\b\b\b\b\b\b\nEpoch 4/20\n153/153 [==============================] - 7s 45ms/step - loss: 0.1676 - auc: 0.9551 - auprc: 0.7145 - val_loss: 0.7637 - val_auc: 0.6763 - val_auprc: 0.7464\b\b\b\b\b\b\b\b\b\b\b\b\b\b\b\b\b\b\b\b\b\b\b\b\b\b\b\b\b\b\b\b\b\nEpoch 5/20\n153/153 [==============================] - 6s 41ms/step - loss: 0.1553 - auc: 0.9611 - auprc: 0.7451 - val_loss: 0.7738 - val_auc: 0.6851 - val_auprc: 0.7586\b\b\b\b\b\b\b\b\b\b\b\b\b\b\b\b\b\b\b\b\b\b\b\b\b\b\b\b\b\b\b\b\b\nEpoch 6/20\n153/153 [==============================] - 6s 41ms/step - loss: 0.1494 - auc: 0.9641 - auprc: 0.7609 - val_loss: 0.7765 - val_auc: 0.6917 - val_auprc: 0.7652\b\b\b\b\b\b\b\b\b\b\b\b\b\b\b\b\b\b\b\b\b\b\b\b\b\b\b\b\b\b\b\b\b\nEpoch 7/20\n153/153 [==============================] - 6s 38ms/step - loss: 0.1460 - auc: 0.9660 - auprc: 0.7750 - val_loss: 0.7711 - val_auc: 0.6973 - val_auprc: 0.7723\b\b\b\b\b\b\b\b\b\b\b\b\b\b\b\b\b\b\b\b\b\b\b\b\b\b\b\b\b\b\b\b\b\n96/96 [==============================] - 1s 8ms/step - loss: 0.2946 - auc: 0.9089 - auprc: 0.6974\b\b\b\b\b\b\b\b\b\b\b\b\b\b\b\b\b\b\b\b\b\b\b\b\b\b\b\b\b\b\b\b\b\b\b\b\b\b\b\b\b\b\b\b\b\b\b\b\b\b\b\b\b\b\b\b\b\b\b\b\b\b\b\b\b\b\b\b\b\b\b\b\b\b\b\b\b\b\b\b\b\b\b\b\b\b\b\b\b\n177/177 [==============================] - 1s 7ms/step - loss: 0.7620 - auc: 0.7711 - auprc: 0.4146\b\b\b\b\b\b\b\b\b\b\b\b\b\b\b\b\b\b\b\b\b\b\b\b\b\b\b\b\b\b\b\b\b\b\b\b\b\b\b\b\b\b\b\b\b\b\b\b\b\b\b\b\b\b\b\b\b\b\b\b\b\b\b\b\b\b\b\b\b\b\b\b\b\b\b\b\b\b\b\b\b\b\b\b\b\b\b\b\b\b\b\b\b\nEpoch 1/20\n153/153 [==============================] - 35s 90ms/step - loss: 0.4063 - auc: 0.7679 - auprc: 0.3574 - val_loss: 1.0364 - val_auc: 0.5707 - val_auprc: 0.6551\b\b\b\b\b\b\b\b\b\b\b\b\b\b\b\b\b\b\b\b\b\b\b\b\b\b\b\b\b\b\b\b\b\b\b\b\b\b\nEpoch 2/20\n153/153 [==============================] - 8s 53ms/step - loss: 0.2361 - auc: 0.9198 - auprc: 0.5897 - val_loss: 0.9042 - val_auc: 0.6056 - val_auprc: 0.6707\b\b\b\b\b\b\b\b\b\b\b\b\b\b\b\b\b\b\b\b\b\b\b\b\b\b\b\b\b\b\b\b\b\b\b\nEpoch 3/20\n153/153 [==============================] - 9s 59ms/step - loss: 0.1954 - auc: 0.9449 - auprc: 0.6422 - val_loss: 0.7792 - val_auc: 0.6373 - val_auprc: 0.7010\b\b\b\b\b\b\b\b\b\b\b\b\b\b\b\b\b\b\b\b\b\b\b\b\b\b\b\b\b\b\b\b\b\b\b\nEpoch 4/20\n153/153 [==============================] - 9s 56ms/step - loss: 0.1730 - auc: 0.9536 - auprc: 0.6784 - val_loss: 0.7790 - val_auc: 0.6611 - val_auprc: 0.7198\b\b\b\b\b\b\b\b\b\b\b\b\b\b\b\b\b\b\b\b\b\b\b\b\b\b\b\b\b\b\b\b\b\b\b\nEpoch 5/20\n153/153 [==============================] - 8s 54ms/step - loss: 0.1627 - auc: 0.9574 - auprc: 0.7098 - val_loss: 0.7766 - val_auc: 0.6756 - val_auprc: 0.7298\b\b\b\b\b\b\b\b\b\b\b\b\b\b\b\b\b\b\b\b\b\b\b\b\b\b\b\b\b\b\b\b\b\b\b\nEpoch 6/20\n153/153 [==============================] - 8s 51ms/step - loss: 0.1537 - auc: 0.9610 - auprc: 0.7217 - val_loss: 0.7840 - val_auc: 0.6808 - val_auprc: 0.7351\b\b\b\b\b\b\b\b\b\b\b\b\b\b\b\b\b\b\b\b\b\b\b\b\b\b\b\b\b\b\b\b\b\b\b\nEpoch 7/20\n153/153 [==============================] - 6s 40ms/step - loss: 0.1475 - auc: 0.9638 - auprc: 0.7439 - val_loss: 0.7894 - val_auc: 0.6940 - val_auprc: 0.7581\b\b\b\b\b\b\b\b\b\b\b\b\b\b\b\b\b\b\b\b\b\b\b\b\b\b\b\b\b\b\b\b\b\nEpoch 8/20\n153/153 [==============================] - 7s 45ms/step - loss: 0.1440 - auc: 0.9663 - auprc: 0.7497 - val_loss: 0.7883 - val_auc: 0.6957 - val_auprc: 0.7599\b\b\b\b\b\b\b\b\b\b\b\b\b\b\b\b\b\b\b\b\b\b\b\b\b\b\b\b\b\b\b\b\b\n96/96 [==============================] - 1s 9ms/step - loss: 0.2765 - auc: 0.9225 - auprc: 0.7468\b\b\b\b\b\b\b\b\b\b\b\b\b\b\b\b\b\b\b\b\b\b\b\b\b\b\b\b\b\b\b\b\b\b\b\b\b\b\b\b\b\b\b\b\b\b\b\b\b\b\b\b\b\b\b\b\b\b\b\b\b\b\b\b\b\b\b\b\b\b\b\b\b\b\b\b\b\b\b\b\b\b\b\b\b\b\b\b\b\n177/177 [==============================] - 2s 8ms/step - loss: 0.6512 - auc: 0.8036 - auprc: 0.4226\b\b\b\b\b\b\b\b\b\b\b\b\b\b\b\b\b\b\b\b\b\b\b\b\b\b\b\b\b\b\b\b\b\b\b\b\b\b\b\b\b\b\b\b\b\b\b\b\b\b\b\b\b\b\b\b\b\b\b\b\b\b\b\b\b\b\b\b\b\b\b\b\b\b\b\b\b\b\b\b\b\b\b\b\b\b\b\b\b\b\b\b\b\n"
        },
        {
          "output_type": "display_data",
          "data": {
            "text/plain": "          1_val     2_val     3_val     4_val     5_val    1_test    2_test   \nloss   0.287916  0.284811  0.270158  0.294598  0.276488  0.252639  0.966571  \\\nauc    0.920936  0.913197  0.925475  0.908915  0.922462  0.853144  0.514118   \nauprc  0.751230  0.685546  0.747392  0.697409  0.746807  0.443503  0.127171   \n\n         3_test    4_test    5_test  \nloss   0.837954  0.762001  0.651158  \nauc    0.683325  0.771117  0.803629  \nauprc  0.366314  0.414565  0.422616  ",
            "text/html": "<div>\n<style scoped>\n    .dataframe tbody tr th:only-of-type {\n        vertical-align: middle;\n    }\n\n    .dataframe tbody tr th {\n        vertical-align: top;\n    }\n\n    .dataframe thead th {\n        text-align: right;\n    }\n</style>\n<table border=\"1\" class=\"dataframe\">\n  <thead>\n    <tr style=\"text-align: right;\">\n      <th></th>\n      <th>1_val</th>\n      <th>2_val</th>\n      <th>3_val</th>\n      <th>4_val</th>\n      <th>5_val</th>\n      <th>1_test</th>\n      <th>2_test</th>\n      <th>3_test</th>\n      <th>4_test</th>\n      <th>5_test</th>\n    </tr>\n  </thead>\n  <tbody>\n    <tr>\n      <th>loss</th>\n      <td>0.287916</td>\n      <td>0.284811</td>\n      <td>0.270158</td>\n      <td>0.294598</td>\n      <td>0.276488</td>\n      <td>0.252639</td>\n      <td>0.966571</td>\n      <td>0.837954</td>\n      <td>0.762001</td>\n      <td>0.651158</td>\n    </tr>\n    <tr>\n      <th>auc</th>\n      <td>0.920936</td>\n      <td>0.913197</td>\n      <td>0.925475</td>\n      <td>0.908915</td>\n      <td>0.922462</td>\n      <td>0.853144</td>\n      <td>0.514118</td>\n      <td>0.683325</td>\n      <td>0.771117</td>\n      <td>0.803629</td>\n    </tr>\n    <tr>\n      <th>auprc</th>\n      <td>0.751230</td>\n      <td>0.685546</td>\n      <td>0.747392</td>\n      <td>0.697409</td>\n      <td>0.746807</td>\n      <td>0.443503</td>\n      <td>0.127171</td>\n      <td>0.366314</td>\n      <td>0.414565</td>\n      <td>0.422616</td>\n    </tr>\n  </tbody>\n</table>\n</div>"
          },
          "metadata": {}
        }
      ],
      "execution_count": 11,
      "metadata": {
        "jupyter": {
          "source_hidden": false,
          "outputs_hidden": false
        },
        "nteract": {
          "transient": {
            "deleting": false
          }
        },
        "gather": {
          "logged": 1692095671285
        }
      }
    },
    {
      "cell_type": "code",
      "source": [
        "result_panel4 = run_model(train, test, panel4)\n",
        "display(result_panel4)"
      ],
      "outputs": [
        {
          "output_type": "stream",
          "name": "stderr",
          "text": "/tmp/ipykernel_23391/115137444.py:35: SettingWithCopyWarning: \nA value is trying to be set on a copy of a slice from a DataFrame.\nTry using .loc[row_indexer,col_indexer] = value instead\n\nSee the caveats in the documentation: https://pandas.pydata.org/pandas-docs/stable/user_guide/indexing.html#returning-a-view-versus-a-copy\n  X_test[feature] = scale.transform(test[feature])\n/tmp/ipykernel_23391/115137444.py:35: SettingWithCopyWarning: \nA value is trying to be set on a copy of a slice from a DataFrame.\nTry using .loc[row_indexer,col_indexer] = value instead\n\nSee the caveats in the documentation: https://pandas.pydata.org/pandas-docs/stable/user_guide/indexing.html#returning-a-view-versus-a-copy\n  X_test[feature] = scale.transform(test[feature])\n/tmp/ipykernel_23391/115137444.py:35: SettingWithCopyWarning: \nA value is trying to be set on a copy of a slice from a DataFrame.\nTry using .loc[row_indexer,col_indexer] = value instead\n\nSee the caveats in the documentation: https://pandas.pydata.org/pandas-docs/stable/user_guide/indexing.html#returning-a-view-versus-a-copy\n  X_test[feature] = scale.transform(test[feature])\n/tmp/ipykernel_23391/115137444.py:35: SettingWithCopyWarning: \nA value is trying to be set on a copy of a slice from a DataFrame.\nTry using .loc[row_indexer,col_indexer] = value instead\n\nSee the caveats in the documentation: https://pandas.pydata.org/pandas-docs/stable/user_guide/indexing.html#returning-a-view-versus-a-copy\n  X_test[feature] = scale.transform(test[feature])\n/tmp/ipykernel_23391/115137444.py:35: SettingWithCopyWarning: \nA value is trying to be set on a copy of a slice from a DataFrame.\nTry using .loc[row_indexer,col_indexer] = value instead\n\nSee the caveats in the documentation: https://pandas.pydata.org/pandas-docs/stable/user_guide/indexing.html#returning-a-view-versus-a-copy\n  X_test[feature] = scale.transform(test[feature])\n"
        },
        {
          "output_type": "stream",
          "name": "stdout",
          "text": "Epoch 1/20\n153/153 [==============================] - 44s 129ms/step - loss: 0.4006 - auc: 0.7356 - auprc: 0.2777 - val_loss: 1.0571 - val_auc: 0.5910 - val_auprc: 0.6750\b\b\b\b\b\b\b\b\b\b\b\b\b\b\b\b\b\b\b\b\b\b\b\b\b\b\b\b\b\b\b\b\b\b\b\b\b\b\b\b\b\nEpoch 2/20\n153/153 [==============================] - 6s 42ms/step - loss: 0.2442 - auc: 0.9014 - auprc: 0.5907 - val_loss: 0.8875 - val_auc: 0.6123 - val_auprc: 0.6889\b\b\b\b\b\b\b\b\b\b\b\b\b\b\b\b\b\b\b\b\b\b\b\b\b\b\b\b\b\b\b\b\b\nEpoch 3/20\n153/153 [==============================] - 6s 39ms/step - loss: 0.2061 - auc: 0.9357 - auprc: 0.6412 - val_loss: 0.8052 - val_auc: 0.6310 - val_auprc: 0.6943\b\b\b\b\b\b\b\b\b\b\b\b\b\b\b\b\b\b\b\b\b\b\b\b\b\b\b\b\b\b\b\b\b\nEpoch 4/20\n153/153 [==============================] - 6s 41ms/step - loss: 0.1764 - auc: 0.9522 - auprc: 0.6979 - val_loss: 0.7728 - val_auc: 0.6517 - val_auprc: 0.7068\b\b\b\b\b\b\b\b\b\b\b\b\b\b\b\b\b\b\b\b\b\b\b\b\b\b\b\b\b\b\b\b\b\nEpoch 5/20\n153/153 [==============================] - 6s 40ms/step - loss: 0.1675 - auc: 0.9554 - auprc: 0.6974 - val_loss: 0.7876 - val_auc: 0.6661 - val_auprc: 0.7240\b\b\b\b\b\b\b\b\b\b\b\b\b\b\b\b\b\b\b\b\b\b\b\b\b\b\b\b\b\b\b\b\b\nEpoch 6/20\n153/153 [==============================] - 6s 38ms/step - loss: 0.1610 - auc: 0.9576 - auprc: 0.7240 - val_loss: 0.7893 - val_auc: 0.6698 - val_auprc: 0.7294\b\b\b\b\b\b\b\b\b\b\b\b\b\b\b\b\b\b\b\b\b\b\b\b\b\b\b\b\b\b\b\b\b\nEpoch 7/20\n153/153 [==============================] - 6s 39ms/step - loss: 0.1510 - auc: 0.9634 - auprc: 0.7464 - val_loss: 0.7912 - val_auc: 0.6732 - val_auprc: 0.7351\b\b\b\b\b\b\b\b\b\b\b\b\b\b\b\b\b\b\b\b\b\b\b\b\b\b\b\b\b\b\b\b\b\n96/96 [==============================] - 1s 7ms/step - loss: 0.2867 - auc: 0.9147 - auprc: 0.6981\b\b\b\b\b\b\b\b\b\b\b\b\b\b\b\b\b\b\b\b\b\b\b\b\b\b\b\b\b\b\b\b\b\b\b\b\b\b\b\b\b\b\b\b\b\b\b\b\b\b\b\b\b\b\b\b\b\b\b\b\b\b\b\b\b\b\b\b\b\b\b\b\b\b\b\b\b\b\b\b\b\b\b\b\b\b\b\b\b\n177/177 [==============================] - 2s 8ms/step - loss: 0.5635 - auc: 0.8591 - auprc: 0.4554\b\b\b\b\b\b\b\b\b\b\b\b\b\b\b\b\b\b\b\b\b\b\b\b\b\b\b\b\b\b\b\b\b\b\b\b\b\b\b\b\b\b\b\b\b\b\b\b\b\b\b\b\b\b\b\b\b\b\b\b\b\b\b\b\b\b\b\b\b\b\b\b\b\b\b\b\b\b\b\b\b\b\b\b\b\b\b\b\b\b\b\b\b\nEpoch 1/20\n153/153 [==============================] - 33s 96ms/step - loss: 0.4716 - auc: 0.6296 - auprc: 0.2003 - val_loss: 1.0236 - val_auc: 0.5321 - val_auprc: 0.6421\b\b\b\b\b\b\b\b\b\b\b\b\b\b\b\b\b\b\b\b\b\b\b\b\b\b\b\b\b\b\b\b\b\b\b\b\b\b\nEpoch 2/20\n153/153 [==============================] - 7s 48ms/step - loss: 0.2746 - auc: 0.8597 - auprc: 0.5414 - val_loss: 1.0917 - val_auc: 0.5805 - val_auprc: 0.6743\b\b\b\b\b\b\b\b\b\b\b\b\b\b\b\b\b\b\b\b\b\b\b\b\b\b\b\b\b\b\b\b\b\nEpoch 3/20\n153/153 [==============================] - 8s 50ms/step - loss: 0.2229 - auc: 0.9167 - auprc: 0.6432 - val_loss: 0.8568 - val_auc: 0.6318 - val_auprc: 0.7209\b\b\b\b\b\b\b\b\b\b\b\b\b\b\b\b\b\b\b\b\b\b\b\b\b\b\b\b\b\b\b\b\b\nEpoch 4/20\n153/153 [==============================] - 8s 51ms/step - loss: 0.1949 - auc: 0.9435 - auprc: 0.6914 - val_loss: 0.7745 - val_auc: 0.6580 - val_auprc: 0.7417\b\b\b\b\b\b\b\b\b\b\b\b\b\b\b\b\b\b\b\b\b\b\b\b\b\b\b\b\b\b\b\b\b\nEpoch 5/20\n153/153 [==============================] - 8s 51ms/step - loss: 0.1758 - auc: 0.9534 - auprc: 0.7265 - val_loss: 0.7575 - val_auc: 0.6705 - val_auprc: 0.7534\b\b\b\b\b\b\b\b\b\b\b\b\b\b\b\b\b\b\b\b\b\b\b\b\b\b\b\b\b\b\b\b\b\nEpoch 6/20\n153/153 [==============================] - 8s 51ms/step - loss: 0.1613 - auc: 0.9594 - auprc: 0.7477 - val_loss: 0.7767 - val_auc: 0.6790 - val_auprc: 0.7620\b\b\b\b\b\b\b\b\b\b\b\b\b\b\b\b\b\b\b\b\b\b\b\b\b\b\b\b\b\b\b\b\b\b\b\nEpoch 7/20\n153/153 [==============================] - 9s 58ms/step - loss: 0.1514 - auc: 0.9632 - auprc: 0.7714 - val_loss: 0.7791 - val_auc: 0.6791 - val_auprc: 0.7609\b\b\b\b\b\b\b\b\b\b\b\b\b\b\b\b\b\b\b\b\b\b\b\b\b\b\b\b\b\b\b\b\b\nEpoch 8/20\n153/153 [==============================] - 9s 56ms/step - loss: 0.1452 - auc: 0.9665 - auprc: 0.7732 - val_loss: 0.7806 - val_auc: 0.6837 - val_auprc: 0.7690\b\b\b\b\b\b\b\b\b\b\b\b\b\b\b\b\b\b\b\b\b\b\b\b\b\b\b\b\b\b\b\b\b\b\b\n96/96 [==============================] - 1s 8ms/step - loss: 0.2918 - auc: 0.9116 - auprc: 0.7140\b\b\b\b\b\b\b\b\b\b\b\b\b\b\b\b\b\b\b\b\b\b\b\b\b\b\b\b\b\b\b\b\b\b\b\b\b\b\b\b\b\b\b\b\b\b\b\b\b\b\b\b\b\b\b\b\b\b\b\b\b\b\b\b\b\b\b\b\b\b\b\b\b\b\b\b\b\b\b\b\b\b\b\b\b\b\b\b\b\n177/177 [==============================] - 1s 8ms/step - loss: 0.5967 - auc: 0.6285 - auprc: 0.3260\b\b\b\b\b\b\b\b\b\b\b\b\b\b\b\b\b\b\b\b\b\b\b\b\b\b\b\b\b\b\b\b\b\b\b\b\b\b\b\b\b\b\b\b\b\b\b\b\b\b\b\b\b\b\b\b\b\b\b\b\b\b\b\b\b\b\b\b\b\b\b\b\b\b\b\b\b\b\b\b\b\b\b\b\b\b\b\b\b\b\b\b\b\nEpoch 1/20\n153/153 [==============================] - 25s 73ms/step - loss: 0.3917 - auc: 0.7589 - auprc: 0.3829 - val_loss: 0.9805 - val_auc: 0.5893 - val_auprc: 0.6998\b\b\b\b\b\b\b\b\b\b\b\b\b\b\b\b\b\b\b\b\b\b\b\b\b\b\b\b\b\b\b\b\b\b\b\b\b\b\nEpoch 2/20\n153/153 [==============================] - 6s 40ms/step - loss: 0.2488 - auc: 0.8875 - auprc: 0.6025 - val_loss: 0.8921 - val_auc: 0.6307 - val_auprc: 0.7383\b\b\b\b\b\b\b\b\b\b\b\b\b\b\b\b\b\b\b\b\b\b\b\b\b\b\b\b\b\b\b\b\b\nEpoch 3/20\n153/153 [==============================] - 6s 38ms/step - loss: 0.2116 - auc: 0.9227 - auprc: 0.6829 - val_loss: 0.7901 - val_auc: 0.6646 - val_auprc: 0.7648\b\b\b\b\b\b\b\b\b\b\b\b\b\b\b\b\b\b\b\b\b\b\b\b\b\b\b\b\b\b\b\b\b\nEpoch 4/20\n153/153 [==============================] - 7s 43ms/step - loss: 0.1838 - auc: 0.9473 - auprc: 0.7126 - val_loss: 0.7628 - val_auc: 0.6802 - val_auprc: 0.7774\b\b\b\b\b\b\b\b\b\b\b\b\b\b\b\b\b\b\b\b\b\b\b\b\b\b\b\b\b\b\b\b\b\nEpoch 5/20\n153/153 [==============================] - 6s 39ms/step - loss: 0.1667 - auc: 0.9575 - auprc: 0.7422 - val_loss: 0.7696 - val_auc: 0.6944 - val_auprc: 0.7878\b\b\b\b\b\b\b\b\b\b\b\b\b\b\b\b\b\b\b\b\b\b\b\b\b\b\b\b\b\b\b\b\b\nEpoch 6/20\n153/153 [==============================] - 6s 37ms/step - loss: 0.1567 - auc: 0.9584 - auprc: 0.7611 - val_loss: 0.7777 - val_auc: 0.6975 - val_auprc: 0.7926\b\b\b\b\b\b\b\b\b\b\b\b\b\b\b\b\b\b\b\b\b\b\b\b\b\b\b\b\b\b\b\b\b\nEpoch 7/20\n153/153 [==============================] - 6s 42ms/step - loss: 0.1486 - auc: 0.9645 - auprc: 0.7838 - val_loss: 0.7597 - val_auc: 0.7018 - val_auprc: 0.7944\b\b\b\b\b\b\b\b\b\b\b\b\b\b\b\b\b\b\b\b\b\b\b\b\b\b\b\b\b\b\b\b\b\nEpoch 8/20\n153/153 [==============================] - 4s 23ms/step - loss: 0.1415 - auc: 0.9676 - auprc: 0.7955 - val_loss: 0.7655 - val_auc: 0.7063 - val_auprc: 0.7979\b\b\b\b\b\b\b\b\b\b\b\b\b\b\b\b\b\b\b\b\b\b\b\b\b\b\b\b\b\b\b\b\b\nEpoch 9/20\n153/153 [==============================] - 4s 24ms/step - loss: 0.1420 - auc: 0.9666 - auprc: 0.7996 - val_loss: 0.7729 - val_auc: 0.7104 - val_auprc: 0.8030\b\b\b\b\b\b\b\b\b\b\b\b\b\b\b\b\b\b\b\b\b\b\b\b\b\b\b\b\b\b\b\b\b\nEpoch 10/20\n153/153 [==============================] - 4s 24ms/step - loss: 0.1383 - auc: 0.9699 - auprc: 0.7983 - val_loss: 0.7717 - val_auc: 0.7082 - val_auprc: 0.7992\b\b\b\b\b\b\b\b\b\b\b\b\b\b\b\b\b\b\b\b\b\b\b\b\b\b\b\b\b\b\b\b\b\n96/96 [==============================] - 1s 5ms/step - loss: 0.2729 - auc: 0.9250 - auprc: 0.7400\b\b\b\b\b\b\b\b\b\b\b\b\b\b\b\b\b\b\b\b\b\b\b\b\b\b\b\b\b\b\b\b\b\b\b\b\b\b\b\b\b\b\b\b\b\b\b\b\b\b\b\b\b\b\b\b\b\b\b\b\b\b\b\b\b\b\b\b\b\b\b\b\b\b\b\b\b\b\b\b\b\b\b\b\b\b\b\b\b\n177/177 [==============================] - 1s 5ms/step - loss: 0.6528 - auc: 0.6182 - auprc: 0.3431\b\b\b\b\b\b\b\b\b\b\b\b\b\b\b\b\b\b\b\b\b\b\b\b\b\b\b\b\b\b\b\b\b\b\b\b\b\b\b\b\b\b\b\b\b\b\b\b\b\b\b\b\b\b\b\b\b\b\b\b\b\b\b\b\b\b\b\b\b\b\b\b\b\b\b\b\b\b\b\b\b\b\b\b\b\b\b\b\b\b\b\b\b\nEpoch 1/20\n153/153 [==============================] - 15s 43ms/step - loss: 0.3926 - auc: 0.7770 - auprc: 0.3729 - val_loss: 1.1095 - val_auc: 0.5855 - val_auprc: 0.6799\b\b\b\b\b\b\b\b\b\b\b\b\b\b\b\b\b\b\b\b\b\b\b\b\b\b\b\b\b\b\b\b\b\b\b\b\b\b\nEpoch 2/20\n153/153 [==============================] - 3s 23ms/step - loss: 0.2334 - auc: 0.9076 - auprc: 0.6099 - val_loss: 0.9446 - val_auc: 0.6305 - val_auprc: 0.7164\b\b\b\b\b\b\b\b\b\b\b\b\b\b\b\b\b\b\b\b\b\b\b\b\b\b\b\b\b\b\b\b\b\nEpoch 3/20\n153/153 [==============================] - 4s 24ms/step - loss: 0.1933 - auc: 0.9429 - auprc: 0.6974 - val_loss: 0.8132 - val_auc: 0.6781 - val_auprc: 0.7616\b\b\b\b\b\b\b\b\b\b\b\b\b\b\b\b\b\b\b\b\b\b\b\b\b\b\b\b\b\b\b\b\b\nEpoch 4/20\n153/153 [==============================] - 3s 23ms/step - loss: 0.1694 - auc: 0.9562 - auprc: 0.7306 - val_loss: 0.7872 - val_auc: 0.6962 - val_auprc: 0.7763\b\b\b\b\b\b\b\b\b\b\b\b\b\b\b\b\b\b\b\b\b\b\b\b\b\b\b\b\b\b\b\b\b\nEpoch 5/20\n153/153 [==============================] - 4s 24ms/step - loss: 0.1588 - auc: 0.9606 - auprc: 0.7499 - val_loss: 0.7452 - val_auc: 0.7078 - val_auprc: 0.7876\b\b\b\b\b\b\b\b\b\b\b\b\b\b\b\b\b\b\b\b\b\b\b\b\b\b\b\b\b\b\b\b\b\nEpoch 6/20\n153/153 [==============================] - 4s 25ms/step - loss: 0.1520 - auc: 0.9638 - auprc: 0.7532 - val_loss: 0.7555 - val_auc: 0.7150 - val_auprc: 0.7910\b\b\b\b\b\b\b\b\b\b\b\b\b\b\b\b\b\b\b\b\b\b\b\b\b\b\b\b\b\b\b\b\b\nEpoch 7/20\n153/153 [==============================] - 3s 22ms/step - loss: 0.1446 - auc: 0.9684 - auprc: 0.7752 - val_loss: 0.7701 - val_auc: 0.7188 - val_auprc: 0.7953\b\b\b\b\b\b\b\b\b\b\b\b\b\b\b\b\b\b\b\b\b\b\b\b\b\b\b\b\b\b\b\b\b\nEpoch 8/20\n153/153 [==============================] - 3s 23ms/step - loss: 0.1423 - auc: 0.9690 - auprc: 0.7800 - val_loss: 0.7720 - val_auc: 0.7202 - val_auprc: 0.7935\b\b\b\b\b\b\b\b\b\b\b\b\b\b\b\b\b\b\b\b\b\b\b\b\b\b\b\b\b\b\b\b\b\n96/96 [==============================] - 1s 5ms/step - loss: 0.2771 - auc: 0.9254 - auprc: 0.7527\b\b\b\b\b\b\b\b\b\b\b\b\b\b\b\b\b\b\b\b\b\b\b\b\b\b\b\b\b\b\b\b\b\b\b\b\b\b\b\b\b\b\b\b\b\b\b\b\b\b\b\b\b\b\b\b\b\b\b\b\b\b\b\b\b\b\b\b\b\b\b\b\b\b\b\b\b\b\b\b\b\b\b\b\b\b\b\b\b\n177/177 [==============================] - 1s 5ms/step - loss: 1.3295 - auc: 0.2709 - auprc: 0.0697\b\b\b\b\b\b\b\b\b\b\b\b\b\b\b\b\b\b\b\b\b\b\b\b\b\b\b\b\b\b\b\b\b\b\b\b\b\b\b\b\b\b\b\b\b\b\b\b\b\b\b\b\b\b\b\b\b\b\b\b\b\b\b\b\b\b\b\b\b\b\b\b\b\b\b\b\b\b\b\b\b\b\b\b\b\b\b\b\b\b\b\b\b\nEpoch 1/20\n153/153 [==============================] - 16s 43ms/step - loss: 0.4070 - auc: 0.7286 - auprc: 0.3062 - val_loss: 0.9831 - val_auc: 0.5816 - val_auprc: 0.6627\b\b\b\b\b\b\b\b\b\b\b\b\b\b\b\b\b\b\b\b\b\b\b\b\b\b\b\b\b\b\b\b\b\b\b\b\b\b\nEpoch 2/20\n153/153 [==============================] - 3s 22ms/step - loss: 0.2481 - auc: 0.8916 - auprc: 0.5727 - val_loss: 0.9647 - val_auc: 0.5935 - val_auprc: 0.6633\b\b\b\b\b\b\b\b\b\b\b\b\b\b\b\b\b\b\b\b\b\b\b\b\b\b\b\b\b\b\b\b\b\nEpoch 3/20\n153/153 [==============================] - 3s 23ms/step - loss: 0.2110 - auc: 0.9268 - auprc: 0.6505 - val_loss: 0.8947 - val_auc: 0.6050 - val_auprc: 0.6626\b\b\b\b\b\b\b\b\b\b\b\b\b\b\b\b\b\b\b\b\b\b\b\b\b\b\b\b\b\b\b\b\b\nEpoch 4/20\n153/153 [==============================] - 3s 21ms/step - loss: 0.1857 - auc: 0.9418 - auprc: 0.6873 - val_loss: 0.8305 - val_auc: 0.6291 - val_auprc: 0.6830\b\b\b\b\b\b\b\b\b\b\b\b\b\b\b\b\b\b\b\b\b\b\b\b\b\b\b\b\b\b\b\b\b\nEpoch 5/20\n153/153 [==============================] - 3s 22ms/step - loss: 0.1732 - auc: 0.9513 - auprc: 0.7047 - val_loss: 0.8063 - val_auc: 0.6419 - val_auprc: 0.6953\b\b\b\b\b\b\b\b\b\b\b\b\b\b\b\b\b\b\b\b\b\b\b\b\b\b\b\b\b\b\b\b\b\nEpoch 6/20\n153/153 [==============================] - 3s 22ms/step - loss: 0.1639 - auc: 0.9550 - auprc: 0.7213 - val_loss: 0.8130 - val_auc: 0.6520 - val_auprc: 0.7048\b\b\b\b\b\b\b\b\b\b\b\b\b\b\b\b\b\b\b\b\b\b\b\b\b\b\b\b\b\b\b\b\b\nEpoch 7/20\n153/153 [==============================] - 3s 21ms/step - loss: 0.1590 - auc: 0.9589 - auprc: 0.7361 - val_loss: 0.8131 - val_auc: 0.6587 - val_auprc: 0.7105\b\b\b\b\b\b\b\b\b\b\b\b\b\b\b\b\b\b\b\b\b\b\b\b\b\b\b\b\b\b\b\b\b\nEpoch 8/20\n153/153 [==============================] - 3s 21ms/step - loss: 0.1500 - auc: 0.9636 - auprc: 0.7576 - val_loss: 0.8139 - val_auc: 0.6631 - val_auprc: 0.7175\b\b\b\b\b\b\b\b\b\b\b\b\b\b\b\b\b\b\b\b\b\b\b\b\b\b\b\b\b\b\b\b\b\n96/96 [==============================] - 0s 5ms/step - loss: 0.2822 - auc: 0.9224 - auprc: 0.7418\b\b\b\b\b\b\b\b\b\b\b\b\b\b\b\b\b\b\b\b\b\b\b\b\b\b\b\b\b\b\b\b\b\b\b\b\b\b\b\b\b\b\b\b\b\b\b\b\b\b\b\b\b\b\b\b\b\b\b\b\b\b\b\b\b\b\b\b\b\b\b\b\b\b\b\b\b\b\b\b\b\b\b\b\b\b\b\b\b\n177/177 [==============================] - 1s 5ms/step - loss: 0.5963 - auc: 0.7466 - auprc: 0.3512\b\b\b\b\b\b\b\b\b\b\b\b\b\b\b\b\b\b\b\b\b\b\b\b\b\b\b\b\b\b\b\b\b\b\b\b\b\b\b\b\b\b\b\b\b\b\b\b\b\b\b\b\b\b\b\b\b\b\b\b\b\b\b\b\b\b\b\b\b\b\b\b\b\b\b\b\b\b\b\b\b\b\b\b\b\b\b\b\b\b\b\n"
        },
        {
          "output_type": "display_data",
          "data": {
            "text/plain": "          1_val     2_val     3_val     4_val     5_val    1_test    2_test   \nloss   0.286725  0.291844  0.272901  0.277092  0.282188  0.563532  0.596677  \\\nauc    0.914716  0.911633  0.925003  0.925355  0.922429  0.859104  0.628508   \nauprc  0.698118  0.713973  0.739954  0.752736  0.741788  0.455434  0.325994   \n\n         3_test    4_test    5_test  \nloss   0.652829  1.329476  0.596308  \nauc    0.618249  0.270878  0.746611  \nauprc  0.343124  0.069699  0.351151  ",
            "text/html": "<div>\n<style scoped>\n    .dataframe tbody tr th:only-of-type {\n        vertical-align: middle;\n    }\n\n    .dataframe tbody tr th {\n        vertical-align: top;\n    }\n\n    .dataframe thead th {\n        text-align: right;\n    }\n</style>\n<table border=\"1\" class=\"dataframe\">\n  <thead>\n    <tr style=\"text-align: right;\">\n      <th></th>\n      <th>1_val</th>\n      <th>2_val</th>\n      <th>3_val</th>\n      <th>4_val</th>\n      <th>5_val</th>\n      <th>1_test</th>\n      <th>2_test</th>\n      <th>3_test</th>\n      <th>4_test</th>\n      <th>5_test</th>\n    </tr>\n  </thead>\n  <tbody>\n    <tr>\n      <th>loss</th>\n      <td>0.286725</td>\n      <td>0.291844</td>\n      <td>0.272901</td>\n      <td>0.277092</td>\n      <td>0.282188</td>\n      <td>0.563532</td>\n      <td>0.596677</td>\n      <td>0.652829</td>\n      <td>1.329476</td>\n      <td>0.596308</td>\n    </tr>\n    <tr>\n      <th>auc</th>\n      <td>0.914716</td>\n      <td>0.911633</td>\n      <td>0.925003</td>\n      <td>0.925355</td>\n      <td>0.922429</td>\n      <td>0.859104</td>\n      <td>0.628508</td>\n      <td>0.618249</td>\n      <td>0.270878</td>\n      <td>0.746611</td>\n    </tr>\n    <tr>\n      <th>auprc</th>\n      <td>0.698118</td>\n      <td>0.713973</td>\n      <td>0.739954</td>\n      <td>0.752736</td>\n      <td>0.741788</td>\n      <td>0.455434</td>\n      <td>0.325994</td>\n      <td>0.343124</td>\n      <td>0.069699</td>\n      <td>0.351151</td>\n    </tr>\n  </tbody>\n</table>\n</div>"
          },
          "metadata": {}
        }
      ],
      "execution_count": 12,
      "metadata": {
        "jupyter": {
          "source_hidden": false,
          "outputs_hidden": false
        },
        "nteract": {
          "transient": {
            "deleting": false
          }
        },
        "gather": {
          "logged": 1692096068135
        }
      }
    },
    {
      "cell_type": "code",
      "source": [
        "print('AUC for CV with validation')\n",
        "display(result_panel1.T.iloc[:5,:]['auc'].describe())\n",
        "display(result_panel2.T.iloc[:5,:]['auc'].describe())\n",
        "display(result_panel3.T.iloc[:5,:]['auc'].describe())\n",
        "display(result_panel4.T.iloc[:5,:]['auc'].describe())\n",
        "display(result_panel5.T.iloc[:5,:]['auc'].describe())\n",
        "print()\n",
        "print('AUPRC fr CV with validation')\n",
        "display(result_panel1.T.iloc[:5,:]['auprc'].describe())\n",
        "display(result_panel2.T.iloc[:5,:]['auprc'].describe())\n",
        "display(result_panel3.T.iloc[:5,:]['auprc'].describe())\n",
        "display(result_panel4.T.iloc[:5,:]['auprc'].describe())\n",
        "display(result_panel5.T.iloc[:5,:]['auprc'].describe())\n",
        "print()\n",
        "print('AUC for hold out set evaluation')\n",
        "display(result_panel1.T.iloc[5:,:]['auc'].describe())\n",
        "display(result_panel2.T.iloc[5:,:]['auc'].describe())\n",
        "display(result_panel3.T.iloc[5:,:]['auc'].describe())\n",
        "display(result_panel4.T.iloc[5:,:]['auc'].describe())\n",
        "display(result_panel5.T.iloc[5:,:]['auc'].describe())\n",
        "print()\n",
        "print('AUPRC for hold out set evaluation')\n",
        "display(result_panel1.T.iloc[5:,:]['auprc'].describe())\n",
        "display(result_panel2.T.iloc[5:,:]['auprc'].describe())\n",
        "display(result_panel3.T.iloc[5:,:]['auprc'].describe())\n",
        "display(result_panel4.T.iloc[5:,:]['auprc'].describe())\n",
        "display(result_panel5.T.iloc[5:,:]['auprc'].describe())"
      ],
      "outputs": [
        {
          "output_type": "stream",
          "name": "stdout",
          "text": "AUC for CV with validation\n"
        },
        {
          "output_type": "display_data",
          "data": {
            "text/plain": "count    5.000000\nmean     0.905021\nstd      0.007115\nmin      0.894436\n25%      0.901593\n50%      0.907942\n75%      0.908487\nmax      0.912647\nName: auc, dtype: float64\ncount    5.000000\nmean     0.903399\nstd      0.007324\nmin      0.893629\n25%      0.899401\n50%      0.903039\n75%      0.909196\nmax      0.911730\nName: auc, dtype: float64\ncount    5.000000\nmean     0.918197\nstd      0.006889\nmin      0.908915\n25%      0.913197\n50%      0.920936\n75%      0.922462\nmax      0.925475\nName: auc, dtype: float64\ncount    5.000000\nmean     0.919827\nstd      0.006273\nmin      0.911633\n25%      0.914716\n50%      0.922429\n75%      0.925003\nmax      0.925355\nName: auc, dtype: float64\ncount    5.000000\nmean     0.917890\nstd      0.009554\nmin      0.909172\n25%      0.913081\n50%      0.915472\n75%      0.917707\nmax      0.934018\nName: auc, dtype: float64"
          },
          "metadata": {}
        },
        {
          "output_type": "stream",
          "name": "stdout",
          "text": "\nAUPRC fr CV with validation\n"
        },
        {
          "output_type": "display_data",
          "data": {
            "text/plain": "count    5.000000\nmean     0.674517\nstd      0.014183\nmin      0.666045\n25%      0.666659\n50%      0.666675\n75%      0.674002\nmax      0.699202\nName: auprc, dtype: float64\ncount    5.000000\nmean     0.670847\nstd      0.026505\nmin      0.645813\n25%      0.649863\n50%      0.662454\n75%      0.688245\nmax      0.707859\nName: auprc, dtype: float64\ncount    5.000000\nmean     0.725677\nstd      0.031546\nmin      0.685546\n25%      0.697409\n50%      0.746807\n75%      0.747392\nmax      0.751230\nName: auprc, dtype: float64\ncount    5.000000\nmean     0.729314\nstd      0.022505\nmin      0.698118\n25%      0.713973\n50%      0.739954\n75%      0.741788\nmax      0.752736\nName: auprc, dtype: float64\ncount    5.000000\nmean     0.723511\nstd      0.047630\nmin      0.683236\n25%      0.694590\n50%      0.709453\n75%      0.726715\nmax      0.803561\nName: auprc, dtype: float64"
          },
          "metadata": {}
        },
        {
          "output_type": "stream",
          "name": "stdout",
          "text": "\nAUC for hold out set evaluation\n"
        },
        {
          "output_type": "display_data",
          "data": {
            "text/plain": "count    5.000000\nmean     0.680394\nstd      0.320625\nmin      0.187124\n25%      0.529072\n50%      0.844922\n75%      0.883767\nmax      0.957087\nName: auc, dtype: float64\ncount    5.000000\nmean     0.836466\nstd      0.149869\nmin      0.573315\n25%      0.864222\n50%      0.885940\n75%      0.922631\nmax      0.936221\nName: auc, dtype: float64\ncount    5.000000\nmean     0.725067\nstd      0.133171\nmin      0.514118\n25%      0.683325\n50%      0.771117\n75%      0.803629\nmax      0.853144\nName: auc, dtype: float64\ncount    5.000000\nmean     0.624670\nstd      0.220824\nmin      0.270878\n25%      0.618249\n50%      0.628508\n75%      0.746611\nmax      0.859104\nName: auc, dtype: float64"
          },
          "metadata": {}
        },
        {
          "output_type": "display_data",
          "data": {
            "text/plain": "count    5.000000\nmean     0.677315\nstd      0.255324\nmin      0.341369\n25%      0.578564\n50%      0.598471\n75%      0.928126\nmax      0.940046\nName: auc, dtype: float64"
          },
          "metadata": {}
        },
        {
          "output_type": "stream",
          "name": "stdout",
          "text": "\nAUPRC for hold out set evaluation\n"
        },
        {
          "output_type": "display_data",
          "data": {
            "text/plain": "count    5.000000\nmean     0.330152\nstd      0.208994\nmin      0.048072\n25%      0.171603\n50%      0.433692\n75%      0.463533\nmax      0.533859\nName: auprc, dtype: float64\ncount    5.000000\nmean     0.438676\nstd      0.154641\nmin      0.165791\n25%      0.475889\n50%      0.501900\n75%      0.503241\nmax      0.546559\nName: auprc, dtype: float64\ncount    5.000000\nmean     0.354834\nstd      0.130371\nmin      0.127171\n25%      0.366314\n50%      0.414565\n75%      0.422616\nmax      0.443503\nName: auprc, dtype: float64\ncount    5.000000\nmean     0.309080\nstd      0.143124\nmin      0.069699\n25%      0.325994\n50%      0.343124\n75%      0.351151\nmax      0.455434\nName: auprc, dtype: float64\ncount    5.000000\nmean     0.347911\nstd      0.226131\nmin      0.066048\n25%      0.204322\n50%      0.318464\n75%      0.566885\nmax      0.583835\nName: auprc, dtype: float64"
          },
          "metadata": {}
        }
      ],
      "execution_count": 13,
      "metadata": {
        "jupyter": {
          "source_hidden": false,
          "outputs_hidden": false
        },
        "nteract": {
          "transient": {
            "deleting": false
          }
        },
        "gather": {
          "logged": 1692096069055
        }
      }
    }
  ],
  "metadata": {
    "kernelspec": {
      "name": "python38-azureml-pt-tf",
      "language": "python",
      "display_name": "Python 3.8 - Pytorch and Tensorflow"
    },
    "language_info": {
      "name": "python",
      "version": "3.8.5",
      "mimetype": "text/x-python",
      "codemirror_mode": {
        "name": "ipython",
        "version": 3
      },
      "pygments_lexer": "ipython3",
      "nbconvert_exporter": "python",
      "file_extension": ".py"
    },
    "microsoft": {
      "ms_spell_check": {
        "ms_spell_check_language": "en"
      },
      "host": {
        "AzureML": {
          "notebookHasBeenCompleted": true
        }
      }
    },
    "nteract": {
      "version": "nteract-front-end@1.0.0"
    },
    "kernel_info": {
      "name": "python38-azureml-pt-tf"
    }
  },
  "nbformat": 4,
  "nbformat_minor": 2
}