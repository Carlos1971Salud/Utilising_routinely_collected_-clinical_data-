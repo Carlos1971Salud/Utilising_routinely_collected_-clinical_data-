{
  "cells": [
    {
      "cell_type": "code",
      "execution_count": 1,
      "metadata": {
        "gather": {
          "logged": 1695743398420
        },
        "jupyter": {
          "outputs_hidden": false,
          "source_hidden": false
        },
        "nteract": {
          "transient": {
            "deleting": false
          }
        }
      },
      "outputs": [],
      "source": [
        "import numpy as np\n",
        "import pandas as pd\n",
        "from numpy.random import seed\n",
        "seed(30)\n",
        "#import tensorflow as tf\n",
        "#tf.random.set_seed(30)\n",
        "df = pd.read_pickle(r'./combined_data_feb2023.pkl')"
      ]
    },
    {
      "cell_type": "code",
      "execution_count": 2,
      "metadata": {
        "gather": {
          "logged": 1695743398883
        },
        "jupyter": {
          "outputs_hidden": false,
          "source_hidden": false
        },
        "nteract": {
          "transient": {
            "deleting": false
          }
        }
      },
      "outputs": [],
      "source": [
        "features = ['Ward Glucose', 'Haemoglobin',\n",
        "       'Mean cell volume, blood', 'White blood cell count, blood',\n",
        "       'Haematocrit', 'Platelets', 'Urea level, blood', 'Creatinine', 'Sodium',\n",
        "       'Potassium', 'Lymphocytes', 'Neutrophils', 'C-Reactive Protein',\n",
        "       'Eosinophils', 'Alkaline Phosphatase', 'Albumin',\n",
        "       'Alanine Transaminase', 'Bilirubin', 'Total Protein',\n",
        "       'Fibrinogen (clauss)', 'Glucose POCT Strip Blood', 'Ferritin',\n",
        "       'D-Dimer', 'Ward Lactate', 'age', 'sex', 'SARS CoV-2 RNA']"
      ]
    },
    {
      "cell_type": "code",
      "execution_count": 3,
      "metadata": {
        "gather": {
          "logged": 1695743399296
        },
        "jupyter": {
          "outputs_hidden": false,
          "source_hidden": false
        },
        "nteract": {
          "transient": {
            "deleting": false
          }
        }
      },
      "outputs": [
        {
          "data": {
            "text/plain": [
              "array([    1,     2,     3, ..., 20845, 20846, 20847])\n",
              "4933"
            ]
          },
          "metadata": {},
          "output_type": "display_data"
        }
      ],
      "source": [
        "df['missing']=df[features].isnull().sum(axis=1)/24\n",
        "list_HAI = df[(df['date_diff']==-2)&(df['missing']<1)\\\n",
        "|(df['date_diff']==-3)&(df['missing']<1)\\\n",
        "|(df['date_diff']==-4)&(df['missing']<1)\\\n",
        "|(df['date_diff']==-5)&(df['missing']<1)\\\n",
        "|(df['date_diff']==-6)&(df['missing']<1)\\\n",
        "|(df['date_diff']==-7)&(df['missing']<1)]['id'].unique()\n",
        "display(list_HAI)\n",
        "display(len(list_HAI))"
      ]
    },
    {
      "cell_type": "code",
      "execution_count": 4,
      "metadata": {
        "gather": {
          "logged": 1695743400519
        },
        "jupyter": {
          "outputs_hidden": false,
          "source_hidden": false
        },
        "nteract": {
          "transient": {
            "deleting": false
          }
        }
      },
      "outputs": [
        {
          "data": {
            "text/plain": [
              "'Train'\n",
              "pathogenic\n",
              "0.0    0.761944\n",
              "1.0    0.238056\n",
              "Name: proportion, dtype: float64\n",
              "13354\n",
              "'Val'\n",
              "pathogenic\n",
              "0.0    0.885361\n",
              "1.0    0.114639\n",
              "Name: proportion, dtype: float64\n",
              "1858\n",
              "'Test'\n",
              "pathogenic\n",
              "0.0    0.915928\n",
              "1.0    0.084072\n",
              "Name: proportion, dtype: float64"
            ]
          },
          "metadata": {},
          "output_type": "display_data"
        },
        {
          "data": {
            "text/plain": [
              "5638"
            ]
          },
          "metadata": {},
          "output_type": "display_data"
        }
      ],
      "source": [
        "start_date = '2014-1-1'\n",
        "train_date = '2020-12-1'\n",
        "val_date = '2021-03-1'\n",
        "\n",
        "train = df[(df['date_culture']>=start_date)&(df['date_culture']<train_date)]\n",
        "\n",
        "val = df[(df['date_culture']>=train_date)&(df['date_culture']<val_date)]\n",
        "\n",
        "test = df[df['date_culture']>=val_date]\n",
        "\n",
        "display('Train')\n",
        "display(train['pathogenic'].value_counts(normalize=True))\n",
        "display(len(train.groupby(['id','date_culture'])))\n",
        "\n",
        "display('Val')\n",
        "display(val['pathogenic'].value_counts(normalize=True))\n",
        "display(len(val.groupby(['id','date_culture'])))\n",
        "\n",
        "display('Test')\n",
        "display(test['pathogenic'].value_counts(normalize=True))\n",
        "display(len(test.groupby(['id','date_culture'])))"
      ]
    },
    {
      "cell_type": "code",
      "execution_count": 5,
      "metadata": {
        "gather": {
          "logged": 1695743475230
        },
        "jupyter": {
          "outputs_hidden": false,
          "source_hidden": false
        },
        "nteract": {
          "transient": {
            "deleting": false
          }
        }
      },
      "outputs": [
        {
          "name": "stderr",
          "output_type": "stream",
          "text": [
            "2023-09-26 15:50:02.450952: I tensorflow/core/platform/cpu_feature_guard.cc:182] This TensorFlow binary is optimized to use available CPU instructions in performance-critical operations.\n",
            "To enable the following instructions: AVX2 AVX512F FMA, in other operations, rebuild TensorFlow with the appropriate compiler flags.\n",
            "2023-09-26 15:50:03.293321: W tensorflow/compiler/tf2tensorrt/utils/py_utils.cc:38] TF-TRT Warning: Could not find TensorRT\n",
            "2023-09-26 15:50:04.228375: E tensorflow/compiler/xla/stream_executor/cuda/cuda_driver.cc:266] failed call to cuInit: CUDA_ERROR_NO_DEVICE: no CUDA-capable device is detected\n"
          ]
        },
        {
          "name": "stdout",
          "output_type": "stream",
          "text": [
            "Epoch 1/30\n",
            "209/209 [==============================] - 12s 26ms/step - loss: 0.3977 - auc: 0.8632 - val_loss: 0.2528 - val_auc: 0.9080\b\b\b\b\b\b\b\b\b\b\b\b\b\b\b\b\b\b\b\b\b\b\b\b\b\b\b\b\b\b\b\b\b\b\b\b\b\b\b\b\b\b\n",
            "Epoch 2/30\n",
            "209/209 [==============================] - 3s 16ms/step - loss: 0.3006 - auc: 0.9157 - val_loss: 0.1894 - val_auc: 0.9413\b\b\b\b\b\b\b\b\b\b\b\b\b\b\b\b\b\b\b\b\b\b\b\b\b\b\b\b\b\b\b\b\b\b\b\b\b\n",
            "Epoch 3/30\n",
            "209/209 [==============================] - 3s 16ms/step - loss: 0.2808 - auc: 0.9216 - val_loss: 0.1670 - val_auc: 0.9562\b\b\b\b\b\b\b\b\b\b\b\b\b\b\b\b\b\b\b\b\b\b\b\b\b\b\b\b\b\b\b\b\b\b\b\b\b\n",
            "Epoch 4/30\n",
            "209/209 [==============================] - 3s 15ms/step - loss: 0.2742 - auc: 0.9270 - val_loss: 0.1651 - val_auc: 0.9567\b\b\b\b\b\b\b\b\b\b\b\b\b\b\b\b\b\b\b\b\b\b\b\b\b\b\b\b\b\b\b\b\b\b\b\b\b\n",
            "Epoch 5/30\n",
            "209/209 [==============================] - 3s 15ms/step - loss: 0.2712 - auc: 0.9293 - val_loss: 0.1645 - val_auc: 0.9571\b\b\b\b\b\b\b\b\b\b\b\b\b\b\b\b\b\b\b\b\b\b\b\b\b\b\b\b\b\b\b\b\b\b\b\b\b\n",
            "Epoch 6/30\n",
            "209/209 [==============================] - 4s 21ms/step - loss: 0.2702 - auc: 0.9308 - val_loss: 0.1602 - val_auc: 0.9567\b\b\b\b\b\b\b\b\b\b\b\b\b\b\b\b\b\b\b\b\b\b\b\b\b\b\b\b\b\b\b\b\b\b\b\b\b\n",
            "Epoch 7/30\n",
            "209/209 [==============================] - 3s 15ms/step - loss: 0.2669 - auc: 0.9323 - val_loss: 0.1599 - val_auc: 0.9567\b\b\b\b\b\b\b\b\b\b\b\b\b\b\b\b\b\b\b\b\b\b\b\b\b\b\b\b\b\b\b\b\b\b\b\b\b\n",
            "Epoch 8/30\n",
            "209/209 [==============================] - 3s 15ms/step - loss: 0.2651 - auc: 0.9338 - val_loss: 0.1625 - val_auc: 0.9589\b\b\b\b\b\b\b\b\b\b\b\b\b\b\b\b\b\b\b\b\b\b\b\b\b\b\b\b\b\b\b\b\b\b\b\b\b\n",
            "Epoch 9/30\n",
            "209/209 [==============================] - 3s 15ms/step - loss: 0.2643 - auc: 0.9344 - val_loss: 0.1586 - val_auc: 0.9582\b\b\b\b\b\b\b\b\b\b\b\b\b\b\b\b\b\b\b\b\b\b\b\b\b\b\b\b\b\b\b\b\b\b\b\b\b\n",
            "Epoch 10/30\n",
            "209/209 [==============================] - 3s 15ms/step - loss: 0.2634 - auc: 0.9354 - val_loss: 0.1591 - val_auc: 0.9606\b\b\b\b\b\b\b\b\b\b\b\b\b\b\b\b\b\b\b\b\b\b\b\b\b\b\b\b\b\b\b\b\b\b\b\b\b\n",
            "Epoch 11/30\n",
            "209/209 [==============================] - 3s 15ms/step - loss: 0.2625 - auc: 0.9350 - val_loss: 0.1589 - val_auc: 0.9601\b\b\b\b\b\b\b\b\b\b\b\b\b\b\b\b\b\b\b\b\b\b\b\b\b\b\b\b\b\b\b\b\b\b\b\b\b\n",
            "Epoch 12/30\n",
            "209/209 [==============================] - 3s 16ms/step - loss: 0.2601 - auc: 0.9365 - val_loss: 0.1585 - val_auc: 0.9598\b\b\b\b\b\b\b\b\b\b\b\b\b\b\b\b\b\b\b\b\b\b\b\b\b\b\b\b\b\b\b\b\b\b\b\b\b\n",
            "Epoch 13/30\n",
            "209/209 [==============================] - 3s 16ms/step - loss: 0.2599 - auc: 0.9370 - val_loss: 0.1544 - val_auc: 0.9607\b\b\b\b\b\b\b\b\b\b\b\b\b\b\b\b\b\b\b\b\b\b\b\b\b\b\b\b\b\b\b\b\b\b\b\b\b\n",
            "Epoch 14/30\n",
            "209/209 [==============================] - 3s 16ms/step - loss: 0.2598 - auc: 0.9367 - val_loss: 0.1545 - val_auc: 0.9615\b\b\b\b\b\b\b\b\b\b\b\b\b\b\b\b\b\b\b\b\b\b\b\b\b\b\b\b\b\b\b\b\b\b\b\b\b\n",
            "Epoch 15/30\n",
            "209/209 [==============================] - 3s 16ms/step - loss: 0.2584 - auc: 0.9378 - val_loss: 0.1552 - val_auc: 0.9616\b\b\b\b\b\b\b\b\b\b\b\b\b\b\b\b\b\b\b\b\b\b\b\b\b\b\b\b\b\b\b\b\b\b\b\b\b\n",
            "Epoch 16/30\n",
            "209/209 [==============================] - 3s 15ms/step - loss: 0.2564 - auc: 0.9389 - val_loss: 0.1561 - val_auc: 0.9599\b\b\b\b\b\b\b\b\b\b\b\b\b\b\b\b\b\b\b\b\b\b\b\b\b\b\b\b\b\b\b\b\b\b\b\b\b\n",
            "Epoch 17/30\n",
            "209/209 [==============================] - 3s 15ms/step - loss: 0.2555 - auc: 0.9391 - val_loss: 0.1563 - val_auc: 0.9608\b\b\b\b\b\b\b\b\b\b\b\b\b\b\b\b\b\b\b\b\b\b\b\b\b\b\b\b\b\b\b\b\b\b\b\b\b\n",
            "Epoch 18/30\n",
            "209/209 [==============================] - 3s 16ms/step - loss: 0.2566 - auc: 0.9385 - val_loss: 0.1583 - val_auc: 0.9622\b\b\b\b\b\b\b\b\b\b\b\b\b\b\b\b\b\b\b\b\b\b\b\b\b\b\b\b\b\b\b\b\b\b\b\b\b\n"
          ]
        }
      ],
      "source": [
        "def scale_data(train_data, val_data, test_data, feature_list):\n",
        "   \n",
        "    from sklearn.preprocessing import MinMaxScaler\n",
        "    scale = MinMaxScaler(feature_range=(-1,1))\n",
        "    \n",
        "    train_scaled=train_data.copy()\n",
        "    train_scaled[feature_list] = scale.fit_transform(train_scaled[feature_list])\n",
        "    \n",
        "    val_scaled = val_data.copy()\n",
        "    val_scaled[feature_list]=scale.transform(val_scaled[feature_list])\n",
        "\n",
        "    test_scaled = test_data.copy()\n",
        "    test_scaled[feature_list] = scale.transform(test_scaled[feature_list])\n",
        "\n",
        "    return train_scaled, val_scaled, test_scaled\n",
        "\n",
        "\n",
        "train_scaled, val_scaled, test_scaled = scale_data(train, val, test, features)\n",
        "\n",
        "#Fillna(0) done after scaling\n",
        "train_scaled = train_scaled.fillna(0)\n",
        "val_scaled = val_scaled.fillna(0)\n",
        "test_scaled = test_scaled.fillna(0)\n",
        "# Reshape function takes features listed above and slices them into train, test sets and reshapes to (samples,steps,features)\n",
        "\n",
        "def reshape(data):\n",
        "    data_samples = len(data.groupby('id'))\n",
        "    data_steps = len(data)/ len(data.groupby(['id']))\n",
        "    data_steps = int(data_steps)\n",
        "    data_feature_size = len(data[features].columns)\n",
        "\n",
        "    data_features = data[features].fillna(0).values.reshape(data_samples,data_steps,data_feature_size)\n",
        "    y_data = data.groupby(['id'])['pathogenic'].max().astype(int).values \n",
        "\n",
        "    return data_features, y_data\n",
        "\n",
        "X_train, y_train = reshape(train_scaled)\n",
        "X_val, y_val = reshape(val_scaled)\n",
        "X_test, y_test = reshape(test_scaled)\n",
        "\n",
        "from keras.models import Sequential\n",
        "from keras.layers import Dense\n",
        "from keras.layers import Flatten\n",
        "from keras.layers import Dropout\n",
        "from keras.layers import Activation\n",
        "from keras.layers import LSTM\n",
        "from keras import regularizers\n",
        "from keras.layers import BatchNormalization\n",
        "import tensorflow as tf\n",
        "\n",
        "model_callbacks = [\n",
        "    tf.keras.callbacks.EarlyStopping(monitor='val_loss',patience=5)\n",
        "    ]\n",
        "\n",
        "model = Sequential()\n",
        "model.add(tf.keras.layers.Masking(mask_value=0., input_shape=(X_train.shape[1], X_train.shape[2])))\n",
        "model.add(LSTM(10, input_shape=(X_train.shape[1], X_train.shape[2]), return_sequences=True))\n",
        "model.add(Dropout(0.2))\n",
        "model.add(BatchNormalization())\n",
        "model.add(LSTM(10))\n",
        "model.add(Dense(1, activation= 'sigmoid'))\n",
        "model.compile(loss='binary_crossentropy', optimizer='adam', metrics=[tf.keras.metrics.AUC(from_logits=True, name='auc')])\n",
        "\n",
        "history = model.fit(X_train,y_train, validation_data=(X_val,y_val), epochs=30, batch_size=64, callbacks=model_callbacks)"
      ]
    },
    {
      "cell_type": "code",
      "execution_count": 6,
      "metadata": {
        "gather": {
          "logged": 1695743475550
        },
        "jupyter": {
          "outputs_hidden": false,
          "source_hidden": false
        },
        "nteract": {
          "transient": {
            "deleting": false
          }
        }
      },
      "outputs": [],
      "source": [
        "from functions.tools import metrics"
      ]
    },
    {
      "cell_type": "code",
      "execution_count": 7,
      "metadata": {
        "gather": {
          "logged": 1695743498373
        },
        "jupyter": {
          "outputs_hidden": false,
          "source_hidden": false
        },
        "nteract": {
          "transient": {
            "deleting": false
          }
        }
      },
      "outputs": [
        {
          "name": "stdout",
          "output_type": "stream",
          "text": [
            "177/177 [==============================] - 3s 3ms/step\b\b\b\b\b\b\b\b\b\b\b\b\b\b\b\b\b\b\b\b\b\b\b\b\b\b\b\b\b\b\b\b\b\b\b\b\b\b\b\b\b\b\b\b\b\b\b\b\b\b\n",
            "Best Threshold=0.112451\n",
            "              precision    recall  f1-score   support\n",
            "\n",
            "           0       1.00      0.93      0.96      5164\n",
            "           1       0.56      0.99      0.71       474\n",
            "\n",
            "    accuracy                           0.93      5638\n",
            "   macro avg       0.78      0.96      0.84      5638\n",
            "weighted avg       0.96      0.93      0.94      5638\n",
            "\n",
            "Specificity 0.9273818745158792\n",
            "Sensitivity 0.9936708860759493\n",
            "ROC score 0.9761828890043698\n",
            "AP 0.697022021705726\n",
            "PPV 0.5567375886524822\n",
            "NPV 0.9993739565943238\n",
            "BS 0.03487272432405408\n",
            "AUPRC 0.697022021705726\n"
          ]
        },
        {
          "data": {
            "image/png": "[encoded data removed]",
            "text/plain": [
              "<Figure size 640x480 with 2 Axes>"
            ]
          },
          "metadata": {},
          "output_type": "display_data"
        }
      ],
      "source": [
        "predictions = model.predict(X_test)\n",
        "metrics(predictions, y_test)"
      ]
    },
    {
      "cell_type": "code",
      "execution_count": 8,
      "metadata": {
        "gather": {
          "logged": 1695743499255
        },
        "jupyter": {
          "outputs_hidden": false,
          "source_hidden": false
        },
        "nteract": {
          "transient": {
            "deleting": false
          }
        }
      },
      "outputs": [
        {
          "name": "stdout",
          "output_type": "stream",
          "text": [
            "177/177 [==============================] - 1s 4ms/step\b\b\b\b\b\b\b\b\b\b\b\b\b\b\b\b\b\b\b\b\b\b\b\b\b\b\b\b\b\b\b\b\b\b\b\b\b\b\b\b\b\b\b\b\b\b\n"
          ]
        }
      ],
      "source": [
        "import numpy as np\n",
        "import matplotlib.pyplot as plt\n",
        "from sklearn.calibration import calibration_curve\n",
        "\n",
        "y_pred_prob = model.predict(X_test).flatten()"
      ]
    },
    {
      "cell_type": "code",
      "execution_count": 9,
      "metadata": {
        "gather": {
          "logged": 1695743499668
        },
        "jupyter": {
          "outputs_hidden": false,
          "source_hidden": false
        },
        "nteract": {
          "transient": {
            "deleting": false
          }
        }
      },
      "outputs": [],
      "source": [
        "prob_true, prob_pred = calibration_curve(y_test, y_pred_prob, n_bins=10)"
      ]
    },
    {
      "cell_type": "code",
      "execution_count": 10,
      "metadata": {
        "gather": {
          "logged": 1695743500112
        },
        "jupyter": {
          "outputs_hidden": false,
          "source_hidden": false
        },
        "nteract": {
          "transient": {
            "deleting": false
          }
        }
      },
      "outputs": [
        {
          "data": {
            "image/png": "[encoded data removed]",
            "text/plain": [
              "<Figure size 1000x600 with 1 Axes>"
            ]
          },
          "metadata": {},
          "output_type": "display_data"
        }
      ],
      "source": [
        "plt.figure(figsize=(10, 6))\n",
        "plt.plot(prob_pred, prob_true, marker='o', color='black', label='LSTM Model')\n",
        "plt.plot([0, 1], [0, 1], linestyle='--', color='gray', label='Perfect calibration')\n",
        "plt.xlabel('Mean Predicted Probability')\n",
        "plt.ylabel('Fraction of Positives')\n",
        "plt.title('Probability Calibration Curve for LSTM model')\n",
        "plt.legend()\n",
        "plt.show()"
      ]
    },
    {
      "cell_type": "code",
      "execution_count": 11,
      "metadata": {
        "gather": {
          "logged": 1695743500497
        },
        "jupyter": {
          "outputs_hidden": false,
          "source_hidden": false
        },
        "nteract": {
          "transient": {
            "deleting": false
          }
        }
      },
      "outputs": [],
      "source": [
        "predictions_class = predictions >=0.048272"
      ]
    },
    {
      "cell_type": "code",
      "execution_count": 12,
      "metadata": {
        "gather": {
          "logged": 1695743500925
        },
        "jupyter": {
          "outputs_hidden": false,
          "source_hidden": false
        },
        "nteract": {
          "transient": {
            "deleting": false
          }
        }
      },
      "outputs": [
        {
          "data": {
            "text/html": [
              "<div>\n",
              "<style scoped>\n",
              "    .dataframe tbody tr th:only-of-type {\n",
              "        vertical-align: middle;\n",
              "    }\n",
              "\n",
              "    .dataframe tbody tr th {\n",
              "        vertical-align: top;\n",
              "    }\n",
              "\n",
              "    .dataframe thead th {\n",
              "        text-align: right;\n",
              "    }\n",
              "</style>\n",
              "<table border=\"1\" class=\"dataframe\">\n",
              "  <thead>\n",
              "    <tr style=\"text-align: right;\">\n",
              "      <th></th>\n",
              "      <th>predicted</th>\n",
              "      <th>actual</th>\n",
              "      <th>model_prediction</th>\n",
              "    </tr>\n",
              "  </thead>\n",
              "  <tbody>\n",
              "    <tr>\n",
              "      <th>0</th>\n",
              "      <td>1</td>\n",
              "      <td>1</td>\n",
              "      <td>0.424742</td>\n",
              "    </tr>\n",
              "    <tr>\n",
              "      <th>1</th>\n",
              "      <td>1</td>\n",
              "      <td>0</td>\n",
              "      <td>0.705653</td>\n",
              "    </tr>\n",
              "    <tr>\n",
              "      <th>2</th>\n",
              "      <td>1</td>\n",
              "      <td>1</td>\n",
              "      <td>0.291744</td>\n",
              "    </tr>\n",
              "    <tr>\n",
              "      <th>3</th>\n",
              "      <td>1</td>\n",
              "      <td>1</td>\n",
              "      <td>0.878641</td>\n",
              "    </tr>\n",
              "    <tr>\n",
              "      <th>4</th>\n",
              "      <td>1</td>\n",
              "      <td>1</td>\n",
              "      <td>0.368397</td>\n",
              "    </tr>\n",
              "    <tr>\n",
              "      <th>...</th>\n",
              "      <td>...</td>\n",
              "      <td>...</td>\n",
              "      <td>...</td>\n",
              "    </tr>\n",
              "    <tr>\n",
              "      <th>5633</th>\n",
              "      <td>1</td>\n",
              "      <td>0</td>\n",
              "      <td>0.418400</td>\n",
              "    </tr>\n",
              "    <tr>\n",
              "      <th>5634</th>\n",
              "      <td>1</td>\n",
              "      <td>1</td>\n",
              "      <td>0.841645</td>\n",
              "    </tr>\n",
              "    <tr>\n",
              "      <th>5635</th>\n",
              "      <td>1</td>\n",
              "      <td>1</td>\n",
              "      <td>0.447847</td>\n",
              "    </tr>\n",
              "    <tr>\n",
              "      <th>5636</th>\n",
              "      <td>0</td>\n",
              "      <td>0</td>\n",
              "      <td>0.024799</td>\n",
              "    </tr>\n",
              "    <tr>\n",
              "      <th>5637</th>\n",
              "      <td>0</td>\n",
              "      <td>1</td>\n",
              "      <td>0.030159</td>\n",
              "    </tr>\n",
              "  </tbody>\n",
              "</table>\n",
              "<p>5638 rows × 3 columns</p>\n",
              "</div>"
            ],
            "text/plain": [
              "      predicted  actual  model_prediction\n",
              "0             1       1          0.424742\n",
              "1             1       0          0.705653\n",
              "2             1       1          0.291744\n",
              "3             1       1          0.878641\n",
              "4             1       1          0.368397\n",
              "...         ...     ...               ...\n",
              "5633          1       0          0.418400\n",
              "5634          1       1          0.841645\n",
              "5635          1       1          0.447847\n",
              "5636          0       0          0.024799\n",
              "5637          0       1          0.030159\n",
              "\n",
              "[5638 rows x 3 columns]"
            ]
          },
          "execution_count": 12,
          "metadata": {},
          "output_type": "execute_result"
        }
      ],
      "source": [
        "# This is the dataframe of predictions vs truth for the test set, for each window, and the actual continuous probability output\n",
        "# This is indexed in the order they appear in test_set (verified)\n",
        "\n",
        "matrix = pd.concat([pd.DataFrame(predictions_class.astype(int)), pd.DataFrame(y_test.astype(int))],axis=1)\n",
        "matrix['model_prediction'] = predictions\n",
        "matrix.columns=['predicted','actual', 'model_prediction']\n",
        "matrix"
      ]
    },
    {
      "cell_type": "code",
      "execution_count": 13,
      "metadata": {
        "gather": {
          "logged": 1695743501281
        },
        "jupyter": {
          "outputs_hidden": false,
          "source_hidden": false
        },
        "nteract": {
          "transient": {
            "deleting": false
          }
        }
      },
      "outputs": [],
      "source": [
        "# This is the original dataframe which contains the details of the test set\n",
        "test_template = test"
      ]
    },
    {
      "cell_type": "code",
      "execution_count": 14,
      "metadata": {
        "gather": {
          "logged": 1695743501570
        },
        "jupyter": {
          "outputs_hidden": false,
          "source_hidden": false
        },
        "nteract": {
          "transient": {
            "deleting": false
          }
        }
      },
      "outputs": [],
      "source": [
        "details = test_template.groupby(['id']).agg({\n",
        "                    'organisms':'first',\n",
        "                    'ETHNICITY_DESC' :'first',\n",
        "                    'MAIN_SPECIALTY_CODE_DESC':'first',\n",
        "                    'sex':'first',\n",
        "                    'age':'first'\n",
        "                \n",
        "})"
      ]
    },
    {
      "cell_type": "code",
      "execution_count": 15,
      "metadata": {
        "gather": {
          "logged": 1695743501873
        },
        "jupyter": {
          "outputs_hidden": false,
          "source_hidden": false
        },
        "nteract": {
          "transient": {
            "deleting": false
          }
        }
      },
      "outputs": [],
      "source": [
        "details = details.reset_index()\n",
        "error_grid = pd.concat([matrix, details],axis=1)"
      ]
    },
    {
      "cell_type": "code",
      "execution_count": 17,
      "metadata": {
        "gather": {
          "logged": 1695743502625
        },
        "jupyter": {
          "outputs_hidden": false,
          "source_hidden": false
        },
        "nteract": {
          "transient": {
            "deleting": false
          }
        }
      },
      "outputs": [],
      "source": [
        "error_grid['HAI'] = error_grid['id'].isin(list_HAI)"
      ]
    },
    {
      "cell_type": "code",
      "execution_count": 18,
      "metadata": {
        "gather": {
          "logged": 1695743503875
        },
        "jupyter": {
          "outputs_hidden": false,
          "source_hidden": false
        },
        "nteract": {
          "transient": {
            "deleting": false
          }
        }
      },
      "outputs": [],
      "source": [
        "error_grid['HAI']=error_grid['HAI'].astype(int)"
      ]
    },
    {
      "cell_type": "code",
      "execution_count": 20,
      "metadata": {
        "gather": {
          "logged": 1695743505023
        },
        "jupyter": {
          "outputs_hidden": false,
          "source_hidden": false
        },
        "nteract": {
          "transient": {
            "deleting": false
          }
        }
      },
      "outputs": [],
      "source": [
        "error_grid.loc[(error_grid['predicted']==0)&(error_grid['actual']==0), 'interpret']='TN'\n",
        "error_grid.loc[(error_grid['predicted']==1)&(error_grid['actual']==1), 'interpret']='TP'\n",
        "error_grid.loc[(error_grid['predicted']==0)&(error_grid['actual']==1), 'interpret']='FN'\n",
        "error_grid.loc[(error_grid['predicted']==1)&(error_grid['actual']==0), 'interpret']='FP'"
      ]
    },
    {
      "cell_type": "code",
      "execution_count": 21,
      "metadata": {
        "gather": {
          "logged": 1695743505395
        },
        "jupyter": {
          "outputs_hidden": false,
          "source_hidden": false
        },
        "nteract": {
          "transient": {
            "deleting": false
          }
        }
      },
      "outputs": [],
      "source": [
        "error_grid.loc[(error_grid['predicted']==error_grid['actual']), 'accurate'] =1 \n",
        "error_grid.loc[(error_grid['predicted']!=error_grid['actual']), 'accurate'] =0\n"
      ]
    },
    {
      "cell_type": "code",
      "execution_count": 22,
      "metadata": {
        "gather": {
          "logged": 1695743505661
        },
        "jupyter": {
          "outputs_hidden": false,
          "source_hidden": false
        },
        "nteract": {
          "transient": {
            "deleting": false
          }
        }
      },
      "outputs": [],
      "source": [
        "#Functions to generate summary tables - spec, sens, accuracy:\n",
        "def summarise(var):\n",
        "    spec_sens = pd.crosstab(error_grid['interpret'], error_grid[var]).T\n",
        "    spec_sens['sensivity'] = spec_sens['TP']/(spec_sens['TP']+spec_sens['FN'])\n",
        "    spec_sens['specificity'] = spec_sens['TN']/(spec_sens['TN']+spec_sens['FP'])\n",
        "\n",
        "    accurate = pd.crosstab(error_grid['accurate'],error_grid[var]).T.apply(lambda x: x/sum(x), axis=1)\n",
        "    combined = pd.concat([spec_sens,accurate],axis=1)\n",
        "\n",
        "    return combined\n"
      ]
    },
    {
      "cell_type": "code",
      "execution_count": 23,
      "metadata": {
        "gather": {
          "logged": 1695743506013
        },
        "jupyter": {
          "outputs_hidden": false,
          "source_hidden": false
        },
        "nteract": {
          "transient": {
            "deleting": false
          }
        }
      },
      "outputs": [
        {
          "data": {
            "text/html": [
              "<div>\n",
              "<style scoped>\n",
              "    .dataframe tbody tr th:only-of-type {\n",
              "        vertical-align: middle;\n",
              "    }\n",
              "\n",
              "    .dataframe tbody tr th {\n",
              "        vertical-align: top;\n",
              "    }\n",
              "\n",
              "    .dataframe thead th {\n",
              "        text-align: right;\n",
              "    }\n",
              "</style>\n",
              "<table border=\"1\" class=\"dataframe\">\n",
              "  <thead>\n",
              "    <tr style=\"text-align: right;\">\n",
              "      <th></th>\n",
              "      <th>FN</th>\n",
              "      <th>FP</th>\n",
              "      <th>TN</th>\n",
              "      <th>TP</th>\n",
              "      <th>sensivity</th>\n",
              "      <th>specificity</th>\n",
              "      <th>0.0</th>\n",
              "      <th>1.0</th>\n",
              "    </tr>\n",
              "    <tr>\n",
              "      <th>organisms</th>\n",
              "      <th></th>\n",
              "      <th></th>\n",
              "      <th></th>\n",
              "      <th></th>\n",
              "      <th></th>\n",
              "      <th></th>\n",
              "      <th></th>\n",
              "      <th></th>\n",
              "    </tr>\n",
              "  </thead>\n",
              "  <tbody>\n",
              "    <tr>\n",
              "      <th>Citrobacter spp</th>\n",
              "      <td>0</td>\n",
              "      <td>0</td>\n",
              "      <td>0</td>\n",
              "      <td>6</td>\n",
              "      <td>1.000000</td>\n",
              "      <td>NaN</td>\n",
              "      <td>0.000000</td>\n",
              "      <td>1.000000</td>\n",
              "    </tr>\n",
              "    <tr>\n",
              "      <th>CoNS</th>\n",
              "      <td>0</td>\n",
              "      <td>338</td>\n",
              "      <td>5</td>\n",
              "      <td>0</td>\n",
              "      <td>NaN</td>\n",
              "      <td>0.014577</td>\n",
              "      <td>0.985423</td>\n",
              "      <td>0.014577</td>\n",
              "    </tr>\n",
              "    <tr>\n",
              "      <th>Corynebacterium spp</th>\n",
              "      <td>0</td>\n",
              "      <td>17</td>\n",
              "      <td>0</td>\n",
              "      <td>0</td>\n",
              "      <td>NaN</td>\n",
              "      <td>0.000000</td>\n",
              "      <td>1.000000</td>\n",
              "      <td>0.000000</td>\n",
              "    </tr>\n",
              "    <tr>\n",
              "      <th>E. coli</th>\n",
              "      <td>1</td>\n",
              "      <td>0</td>\n",
              "      <td>0</td>\n",
              "      <td>162</td>\n",
              "      <td>0.993865</td>\n",
              "      <td>NaN</td>\n",
              "      <td>0.006135</td>\n",
              "      <td>0.993865</td>\n",
              "    </tr>\n",
              "    <tr>\n",
              "      <th>Enterobacter spp</th>\n",
              "      <td>0</td>\n",
              "      <td>0</td>\n",
              "      <td>0</td>\n",
              "      <td>14</td>\n",
              "      <td>1.000000</td>\n",
              "      <td>NaN</td>\n",
              "      <td>0.000000</td>\n",
              "      <td>1.000000</td>\n",
              "    </tr>\n",
              "    <tr>\n",
              "      <th>Enterococcus spp</th>\n",
              "      <td>0</td>\n",
              "      <td>0</td>\n",
              "      <td>0</td>\n",
              "      <td>51</td>\n",
              "      <td>1.000000</td>\n",
              "      <td>NaN</td>\n",
              "      <td>0.000000</td>\n",
              "      <td>1.000000</td>\n",
              "    </tr>\n",
              "    <tr>\n",
              "      <th>Klebsiella spp</th>\n",
              "      <td>0</td>\n",
              "      <td>0</td>\n",
              "      <td>0</td>\n",
              "      <td>57</td>\n",
              "      <td>1.000000</td>\n",
              "      <td>NaN</td>\n",
              "      <td>0.000000</td>\n",
              "      <td>1.000000</td>\n",
              "    </tr>\n",
              "    <tr>\n",
              "      <th>Micrococcus spp</th>\n",
              "      <td>0</td>\n",
              "      <td>24</td>\n",
              "      <td>0</td>\n",
              "      <td>0</td>\n",
              "      <td>NaN</td>\n",
              "      <td>0.000000</td>\n",
              "      <td>1.000000</td>\n",
              "      <td>0.000000</td>\n",
              "    </tr>\n",
              "    <tr>\n",
              "      <th>No growth</th>\n",
              "      <td>0</td>\n",
              "      <td>493</td>\n",
              "      <td>4287</td>\n",
              "      <td>0</td>\n",
              "      <td>NaN</td>\n",
              "      <td>0.896862</td>\n",
              "      <td>0.103138</td>\n",
              "      <td>0.896862</td>\n",
              "    </tr>\n",
              "    <tr>\n",
              "      <th>Proteus spp</th>\n",
              "      <td>0</td>\n",
              "      <td>0</td>\n",
              "      <td>0</td>\n",
              "      <td>6</td>\n",
              "      <td>1.000000</td>\n",
              "      <td>NaN</td>\n",
              "      <td>0.000000</td>\n",
              "      <td>1.000000</td>\n",
              "    </tr>\n",
              "    <tr>\n",
              "      <th>Pseudomonas spp</th>\n",
              "      <td>0</td>\n",
              "      <td>0</td>\n",
              "      <td>0</td>\n",
              "      <td>35</td>\n",
              "      <td>1.000000</td>\n",
              "      <td>NaN</td>\n",
              "      <td>0.000000</td>\n",
              "      <td>1.000000</td>\n",
              "    </tr>\n",
              "    <tr>\n",
              "      <th>S. aureus</th>\n",
              "      <td>0</td>\n",
              "      <td>0</td>\n",
              "      <td>0</td>\n",
              "      <td>59</td>\n",
              "      <td>1.000000</td>\n",
              "      <td>NaN</td>\n",
              "      <td>0.000000</td>\n",
              "      <td>1.000000</td>\n",
              "    </tr>\n",
              "    <tr>\n",
              "      <th>Serratia spp</th>\n",
              "      <td>0</td>\n",
              "      <td>0</td>\n",
              "      <td>0</td>\n",
              "      <td>9</td>\n",
              "      <td>1.000000</td>\n",
              "      <td>NaN</td>\n",
              "      <td>0.000000</td>\n",
              "      <td>1.000000</td>\n",
              "    </tr>\n",
              "    <tr>\n",
              "      <th>Streptococcus spp</th>\n",
              "      <td>0</td>\n",
              "      <td>0</td>\n",
              "      <td>0</td>\n",
              "      <td>74</td>\n",
              "      <td>1.000000</td>\n",
              "      <td>NaN</td>\n",
              "      <td>0.000000</td>\n",
              "      <td>1.000000</td>\n",
              "    </tr>\n",
              "  </tbody>\n",
              "</table>\n",
              "</div>"
            ],
            "text/plain": [
              "                     FN   FP    TN   TP  sensivity  specificity       0.0   \n",
              "organisms                                                                   \n",
              "Citrobacter spp       0    0     0    6   1.000000          NaN  0.000000  \\\n",
              "CoNS                  0  338     5    0        NaN     0.014577  0.985423   \n",
              "Corynebacterium spp   0   17     0    0        NaN     0.000000  1.000000   \n",
              "E. coli               1    0     0  162   0.993865          NaN  0.006135   \n",
              "Enterobacter spp      0    0     0   14   1.000000          NaN  0.000000   \n",
              "Enterococcus spp      0    0     0   51   1.000000          NaN  0.000000   \n",
              "Klebsiella spp        0    0     0   57   1.000000          NaN  0.000000   \n",
              "Micrococcus spp       0   24     0    0        NaN     0.000000  1.000000   \n",
              "No growth             0  493  4287    0        NaN     0.896862  0.103138   \n",
              "Proteus spp           0    0     0    6   1.000000          NaN  0.000000   \n",
              "Pseudomonas spp       0    0     0   35   1.000000          NaN  0.000000   \n",
              "S. aureus             0    0     0   59   1.000000          NaN  0.000000   \n",
              "Serratia spp          0    0     0    9   1.000000          NaN  0.000000   \n",
              "Streptococcus spp     0    0     0   74   1.000000          NaN  0.000000   \n",
              "\n",
              "                          1.0  \n",
              "organisms                      \n",
              "Citrobacter spp      1.000000  \n",
              "CoNS                 0.014577  \n",
              "Corynebacterium spp  0.000000  \n",
              "E. coli              0.993865  \n",
              "Enterobacter spp     1.000000  \n",
              "Enterococcus spp     1.000000  \n",
              "Klebsiella spp       1.000000  \n",
              "Micrococcus spp      0.000000  \n",
              "No growth            0.896862  \n",
              "Proteus spp          1.000000  \n",
              "Pseudomonas spp      1.000000  \n",
              "S. aureus            1.000000  \n",
              "Serratia spp         1.000000  \n",
              "Streptococcus spp    1.000000  "
            ]
          },
          "execution_count": 23,
          "metadata": {},
          "output_type": "execute_result"
        }
      ],
      "source": [
        "summarise('organisms')"
      ]
    },
    {
      "cell_type": "code",
      "execution_count": 24,
      "metadata": {
        "gather": {
          "logged": 1695743506622
        },
        "jupyter": {
          "outputs_hidden": false,
          "source_hidden": false
        },
        "nteract": {
          "transient": {
            "deleting": false
          }
        }
      },
      "outputs": [
        {
          "data": {
            "text/html": [
              "<div>\n",
              "<style scoped>\n",
              "    .dataframe tbody tr th:only-of-type {\n",
              "        vertical-align: middle;\n",
              "    }\n",
              "\n",
              "    .dataframe tbody tr th {\n",
              "        vertical-align: top;\n",
              "    }\n",
              "\n",
              "    .dataframe thead th {\n",
              "        text-align: right;\n",
              "    }\n",
              "</style>\n",
              "<table border=\"1\" class=\"dataframe\">\n",
              "  <thead>\n",
              "    <tr style=\"text-align: right;\">\n",
              "      <th></th>\n",
              "      <th>FN</th>\n",
              "      <th>FP</th>\n",
              "      <th>TN</th>\n",
              "      <th>TP</th>\n",
              "      <th>sensivity</th>\n",
              "      <th>specificity</th>\n",
              "      <th>0.0</th>\n",
              "      <th>1.0</th>\n",
              "    </tr>\n",
              "    <tr>\n",
              "      <th>HAI</th>\n",
              "      <th></th>\n",
              "      <th></th>\n",
              "      <th></th>\n",
              "      <th></th>\n",
              "      <th></th>\n",
              "      <th></th>\n",
              "      <th></th>\n",
              "      <th></th>\n",
              "    </tr>\n",
              "  </thead>\n",
              "  <tbody>\n",
              "    <tr>\n",
              "      <th>0</th>\n",
              "      <td>1</td>\n",
              "      <td>658</td>\n",
              "      <td>4292</td>\n",
              "      <td>210</td>\n",
              "      <td>0.995261</td>\n",
              "      <td>0.867071</td>\n",
              "      <td>0.127688</td>\n",
              "      <td>0.872312</td>\n",
              "    </tr>\n",
              "    <tr>\n",
              "      <th>1</th>\n",
              "      <td>0</td>\n",
              "      <td>214</td>\n",
              "      <td>0</td>\n",
              "      <td>263</td>\n",
              "      <td>1.000000</td>\n",
              "      <td>0.000000</td>\n",
              "      <td>0.448637</td>\n",
              "      <td>0.551363</td>\n",
              "    </tr>\n",
              "  </tbody>\n",
              "</table>\n",
              "</div>"
            ],
            "text/plain": [
              "     FN   FP    TN   TP  sensivity  specificity       0.0       1.0\n",
              "HAI                                                                \n",
              "0     1  658  4292  210   0.995261     0.867071  0.127688  0.872312\n",
              "1     0  214     0  263   1.000000     0.000000  0.448637  0.551363"
            ]
          },
          "execution_count": 24,
          "metadata": {},
          "output_type": "execute_result"
        }
      ],
      "source": [
        "summarise('HAI')"
      ]
    },
    {
      "cell_type": "code",
      "execution_count": 25,
      "metadata": {
        "gather": {
          "logged": 1695743507026
        },
        "jupyter": {
          "outputs_hidden": false,
          "source_hidden": false
        },
        "nteract": {
          "transient": {
            "deleting": false
          }
        }
      },
      "outputs": [
        {
          "data": {
            "text/html": [
              "<div>\n",
              "<style scoped>\n",
              "    .dataframe tbody tr th:only-of-type {\n",
              "        vertical-align: middle;\n",
              "    }\n",
              "\n",
              "    .dataframe tbody tr th {\n",
              "        vertical-align: top;\n",
              "    }\n",
              "\n",
              "    .dataframe thead th {\n",
              "        text-align: right;\n",
              "    }\n",
              "</style>\n",
              "<table border=\"1\" class=\"dataframe\">\n",
              "  <thead>\n",
              "    <tr style=\"text-align: right;\">\n",
              "      <th></th>\n",
              "      <th>25%</th>\n",
              "      <th>50%</th>\n",
              "      <th>75%</th>\n",
              "    </tr>\n",
              "    <tr>\n",
              "      <th>accurate</th>\n",
              "      <th></th>\n",
              "      <th></th>\n",
              "      <th></th>\n",
              "    </tr>\n",
              "  </thead>\n",
              "  <tbody>\n",
              "    <tr>\n",
              "      <th>0.0</th>\n",
              "      <td>0.0</td>\n",
              "      <td>3.0</td>\n",
              "      <td>52.0</td>\n",
              "    </tr>\n",
              "    <tr>\n",
              "      <th>1.0</th>\n",
              "      <td>31.0</td>\n",
              "      <td>53.0</td>\n",
              "      <td>71.0</td>\n",
              "    </tr>\n",
              "  </tbody>\n",
              "</table>\n",
              "</div>"
            ],
            "text/plain": [
              "           25%   50%   75%\n",
              "accurate                  \n",
              "0.0        0.0   3.0  52.0\n",
              "1.0       31.0  53.0  71.0"
            ]
          },
          "metadata": {},
          "output_type": "display_data"
        },
        {
          "data": {
            "text/plain": [
              "MannwhitneyuResult(statistic=3089873.0, pvalue=1.2632385661705937e-115)"
            ]
          },
          "metadata": {},
          "output_type": "display_data"
        }
      ],
      "source": [
        "from scipy.stats import mannwhitneyu\n",
        "display(error_grid.groupby('accurate')['age'].describe()[['25%','50%','75%']])\n",
        "display(mannwhitneyu(error_grid[error_grid['accurate']==1]['age'],error_grid[error_grid['accurate']==0]['age']))\n"
      ]
    },
    {
      "cell_type": "code",
      "execution_count": 26,
      "metadata": {
        "gather": {
          "logged": 1695743507367
        },
        "jupyter": {
          "outputs_hidden": false,
          "source_hidden": false
        },
        "nteract": {
          "transient": {
            "deleting": false
          }
        }
      },
      "outputs": [
        {
          "data": {
            "text/html": [
              "<div>\n",
              "<style scoped>\n",
              "    .dataframe tbody tr th:only-of-type {\n",
              "        vertical-align: middle;\n",
              "    }\n",
              "\n",
              "    .dataframe tbody tr th {\n",
              "        vertical-align: top;\n",
              "    }\n",
              "\n",
              "    .dataframe thead th {\n",
              "        text-align: right;\n",
              "    }\n",
              "</style>\n",
              "<table border=\"1\" class=\"dataframe\">\n",
              "  <thead>\n",
              "    <tr style=\"text-align: right;\">\n",
              "      <th></th>\n",
              "      <th>count</th>\n",
              "      <th>mean</th>\n",
              "      <th>std</th>\n",
              "      <th>min</th>\n",
              "      <th>25%</th>\n",
              "      <th>50%</th>\n",
              "      <th>75%</th>\n",
              "      <th>max</th>\n",
              "    </tr>\n",
              "    <tr>\n",
              "      <th>actual</th>\n",
              "      <th></th>\n",
              "      <th></th>\n",
              "      <th></th>\n",
              "      <th></th>\n",
              "      <th></th>\n",
              "      <th></th>\n",
              "      <th></th>\n",
              "      <th></th>\n",
              "    </tr>\n",
              "  </thead>\n",
              "  <tbody>\n",
              "    <tr>\n",
              "      <th>0</th>\n",
              "      <td>5164.0</td>\n",
              "      <td>44.808624</td>\n",
              "      <td>28.006837</td>\n",
              "      <td>0.0</td>\n",
              "      <td>24.0</td>\n",
              "      <td>47.0</td>\n",
              "      <td>68.0</td>\n",
              "      <td>121.0</td>\n",
              "    </tr>\n",
              "    <tr>\n",
              "      <th>1</th>\n",
              "      <td>474.0</td>\n",
              "      <td>58.658378</td>\n",
              "      <td>22.840379</td>\n",
              "      <td>0.0</td>\n",
              "      <td>47.0</td>\n",
              "      <td>64.0</td>\n",
              "      <td>76.0</td>\n",
              "      <td>98.0</td>\n",
              "    </tr>\n",
              "  </tbody>\n",
              "</table>\n",
              "</div>"
            ],
            "text/plain": [
              "         count       mean        std  min   25%   50%   75%    max\n",
              "actual                                                            \n",
              "0       5164.0  44.808624  28.006837  0.0  24.0  47.0  68.0  121.0\n",
              "1        474.0  58.658378  22.840379  0.0  47.0  64.0  76.0   98.0"
            ]
          },
          "metadata": {},
          "output_type": "display_data"
        },
        {
          "data": {
            "text/plain": [
              "MannwhitneyuResult(statistic=1577451.5, pvalue=1.7768776740440265e-25)"
            ]
          },
          "metadata": {},
          "output_type": "display_data"
        }
      ],
      "source": [
        "display(error_grid.groupby('actual')['age'].describe())\n",
        "display(mannwhitneyu(error_grid[error_grid['actual']==1]['age'],error_grid[error_grid['actual']==0]['age']))"
      ]
    },
    {
      "cell_type": "code",
      "execution_count": 27,
      "metadata": {
        "gather": {
          "logged": 1695743507725
        },
        "jupyter": {
          "outputs_hidden": false,
          "source_hidden": false
        },
        "nteract": {
          "transient": {
            "deleting": false
          }
        }
      },
      "outputs": [],
      "source": [
        "# Bootstrapping function from https://mateuszbuda.github.io/2019/04/30/stat.html\n",
        "# Sampling with replacement of predictions and actual pairs x 2000\n",
        "\n",
        "import numpy as np\n",
        "from scipy.stats import percentileofscore\n",
        "\n",
        "\n",
        "def score_ci(\n",
        "    y_true,\n",
        "    y_pred,\n",
        "    score_fun,\n",
        "    sample_weight=None,\n",
        "    n_bootstraps=2000,\n",
        "    confidence_level=0.95,\n",
        "    seed=None,\n",
        "    reject_one_class_samples=True,\n",
        "):\n",
        "    \"\"\"\n",
        "    Compute confidence interval for given score function based on labels and predictions using bootstrapping.\n",
        "    :param y_true: 1D list or array of labels.\n",
        "    :param y_pred: 1D list or array of predictions corresponding to elements in y_true.\n",
        "    :param score_fun: Score function for which confidence interval is computed. (e.g. sklearn.metrics.accuracy_score)\n",
        "    :param sample_weight: 1D list or array of sample weights to pass to score_fun, see e.g. sklearn.metrics.roc_auc_score.\n",
        "    :param n_bootstraps: The number of bootstraps. (default: 2000)\n",
        "    :param confidence_level: Confidence level for computing confidence interval. (default: 0.95)\n",
        "    :param seed: Random seed for reproducibility. (default: None)\n",
        "    :param reject_one_class_samples: Whether to reject bootstrapped samples with only one label. For scores like AUC we\n",
        "    need at least one positive and one negative sample. (default: True)\n",
        "    :return: Score evaluated on labels and predictions, lower confidence interval, upper confidence interval, array of\n",
        "    bootstrapped scores.\n",
        "    \"\"\"\n",
        "\n",
        "    assert len(y_true) == len(y_pred)\n",
        "\n",
        "    score = score_fun(y_true, y_pred)\n",
        "    _, ci_lower, ci_upper, scores = score_stat_ci(\n",
        "        y_true=y_true,\n",
        "        y_preds=y_pred,\n",
        "        score_fun=score_fun,\n",
        "        sample_weight=sample_weight,\n",
        "        n_bootstraps=n_bootstraps,\n",
        "        confidence_level=confidence_level,\n",
        "        seed=seed,\n",
        "        reject_one_class_samples=reject_one_class_samples,\n",
        "    )\n",
        "\n",
        "    return score, ci_lower, ci_upper, scores\n",
        "\n",
        "\n",
        "def score_stat_ci(\n",
        "    y_true,\n",
        "    y_preds,\n",
        "    score_fun,\n",
        "    stat_fun=np.mean,\n",
        "    sample_weight=None,\n",
        "    n_bootstraps=2000,\n",
        "    confidence_level=0.95,\n",
        "    seed=None,\n",
        "    reject_one_class_samples=True,\n",
        "):\n",
        "    \"\"\"\n",
        "    Compute confidence interval for given statistic of a score function based on labels and predictions using\n",
        "    bootstrapping.\n",
        "    :param y_true: 1D list or array of labels.\n",
        "    :param y_preds: A list of lists or 2D array of predictions corresponding to elements in y_true.\n",
        "    :param score_fun: Score function for which confidence interval is computed. (e.g. sklearn.metrics.accuracy_score)\n",
        "    :param stat_fun: Statistic for which confidence interval is computed. (e.g. np.mean)\n",
        "    :param sample_weight: 1D list or array of sample weights to pass to score_fun, see e.g. sklearn.metrics.roc_auc_score.\n",
        "    :param n_bootstraps: The number of bootstraps. (default: 2000)\n",
        "    :param confidence_level: Confidence level for computing confidence interval. (default: 0.95)\n",
        "    :param seed: Random seed for reproducibility. (default: None)\n",
        "    :param reject_one_class_samples: Whether to reject bootstrapped samples with only one label. For scores like AUC we\n",
        "    need at least one positive and one negative sample. (default: True)\n",
        "    :return: Mean score statistic evaluated on labels and predictions, lower confidence interval, upper confidence\n",
        "    interval, array of bootstrapped scores.\n",
        "    \"\"\"\n",
        "\n",
        "    y_true = np.array(y_true)\n",
        "    y_preds = np.atleast_2d(y_preds)\n",
        "    assert all(len(y_true) == len(y) for y in y_preds)\n",
        "\n",
        "    np.random.seed(seed)\n",
        "    scores = []\n",
        "    for i in range(n_bootstraps):\n",
        "        readers = np.random.randint(0, len(y_preds), len(y_preds))\n",
        "        indices = np.random.randint(0, len(y_true), len(y_true))\n",
        "        if reject_one_class_samples and len(np.unique(y_true[indices])) < 2:\n",
        "            continue\n",
        "        reader_scores = []\n",
        "        for r in readers:\n",
        "            if sample_weight is not None:\n",
        "                reader_scores.append(score_fun(y_true[indices], y_preds[r][indices], sample_weight=sample_weight[indices]))\n",
        "            else:\n",
        "                reader_scores.append(score_fun(y_true[indices], y_preds[r][indices]))\n",
        "        scores.append(stat_fun(reader_scores))\n",
        "\n",
        "    mean_score = np.mean(scores)\n",
        "    sorted_scores = np.array(sorted(scores))\n",
        "    alpha = (1.0 - confidence_level) / 2.0\n",
        "    ci_lower = sorted_scores[int(round(alpha * len(sorted_scores)))]\n",
        "    ci_upper = sorted_scores[int(round((1.0 - alpha) * len(sorted_scores)))]\n",
        "    return mean_score, ci_lower, ci_upper, scores\n",
        "\n",
        "\n",
        "def pvalue(\n",
        "    y_true,\n",
        "    y_pred1,\n",
        "    y_pred2,\n",
        "    score_fun,\n",
        "    sample_weight=None,\n",
        "    n_bootstraps=2000,\n",
        "    two_tailed=True,\n",
        "    seed=None,\n",
        "    reject_one_class_samples=True,\n",
        "):\n",
        "    \"\"\"\n",
        "    Compute p-value for hypothesis that score function for model I predictions is higher than for model II predictions\n",
        "    using bootstrapping.\n",
        "    :param y_true: 1D list or array of labels.\n",
        "    :param y_pred1: 1D list or array of predictions for model I corresponding to elements in y_true.\n",
        "    :param y_pred2: 1D list or array of predictions for model II corresponding to elements in y_true.\n",
        "    :param score_fun: Score function for which confidence interval is computed. (e.g. sklearn.metrics.accuracy_score)\n",
        "    :param sample_weight: 1D list or array of sample weights to pass to score_fun, see e.g. sklearn.metrics.roc_auc_score.\n",
        "    :param n_bootstraps: The number of bootstraps. (default: 2000)\n",
        "    :param two_tailed: Whether to use two-tailed test. (default: True)\n",
        "    :param seed: Random seed for reproducibility. (default: None)\n",
        "    :param reject_one_class_samples: Whether to reject bootstrapped samples with only one label. For scores like AUC we\n",
        "    need at least one positive and one negative sample. (default: True)\n",
        "    :return: Computed p-value, array of bootstrapped differences of scores.\n",
        "    \"\"\"\n",
        "\n",
        "    assert len(y_true) == len(y_pred1)\n",
        "    assert len(y_true) == len(y_pred2)\n",
        "\n",
        "    return pvalue_stat(\n",
        "        y_true=y_true,\n",
        "        y_preds1=y_pred1,\n",
        "        y_preds2=y_pred2,\n",
        "        score_fun=score_fun,\n",
        "        sample_weight=sample_weight,\n",
        "        n_bootstraps=n_bootstraps,\n",
        "        two_tailed=two_tailed,\n",
        "        seed=seed,\n",
        "        reject_one_class_samples=reject_one_class_samples,\n",
        "    )\n",
        "\n",
        "\n",
        "def pvalue_stat(\n",
        "    y_true,\n",
        "    y_preds1,\n",
        "    y_preds2,\n",
        "    score_fun,\n",
        "    stat_fun=np.mean,\n",
        "    compare_fun=np.subtract,\n",
        "    sample_weight=None,\n",
        "    n_bootstraps=2000,\n",
        "    two_tailed=True,\n",
        "    seed=None,\n",
        "    reject_one_class_samples=True,\n",
        "):\n",
        "    \"\"\"\n",
        "    Compute p-value for hypothesis that given statistic of score function for model I predictions is higher than for\n",
        "    model II predictions using bootstrapping.\n",
        "    :param y_true: 1D list or array of labels.\n",
        "    :param y_preds1: A list of lists or 2D array of predictions for model I corresponding to elements in y_true.\n",
        "    :param y_preds2: A list of lists or 2D array of predictions for model II corresponding to elements in y_true.\n",
        "    :param score_fun: Score function for which confidence interval is computed. (e.g. sklearn.metrics.accuracy_score)\n",
        "    :param stat_fun: Statistic for which p-value is computed. (e.g. np.mean)\n",
        "    :param compare_fun: Function to determine relative performance. (default: score1 - score2)\n",
        "    :param sample_weight: 1D list or array of sample weights to pass to score_fun, see e.g. sklearn.metrics.roc_auc_score.\n",
        "    :param n_bootstraps: The number of bootstraps. (default: 2000)\n",
        "    :param two_tailed: Whether to use two-tailed test. (default: True)\n",
        "    :param seed: Random seed for reproducibility. (default: None)\n",
        "    :param reject_one_class_samples: Whether to reject bootstrapped samples with only one label. For scores like AUC we\n",
        "    need at least one positive and one negative sample. (default: True)\n",
        "    :return: Computed p-value, array of bootstrapped differences of scores.\n",
        "    \"\"\"\n",
        "\n",
        "    y_true = np.array(y_true)\n",
        "    y_preds1 = np.atleast_2d(y_preds1)\n",
        "    y_preds2 = np.atleast_2d(y_preds2)\n",
        "    assert all(len(y_true) == len(y) for y in y_preds1)\n",
        "    assert all(len(y_true) == len(y) for y in y_preds2)\n",
        "\n",
        "    np.random.seed(seed)\n",
        "    z = []\n",
        "    for i in range(n_bootstraps):\n",
        "        readers1 = np.random.randint(0, len(y_preds1), len(y_preds1))\n",
        "        readers2 = np.random.randint(0, len(y_preds2), len(y_preds2))\n",
        "        indices = np.random.randint(0, len(y_true), len(y_true))\n",
        "        if reject_one_class_samples and len(np.unique(y_true[indices])) < 2:\n",
        "            continue\n",
        "        reader1_scores = []\n",
        "        for r in readers1:\n",
        "            if sample_weight is not None:\n",
        "                reader1_scores.append(score_fun(y_true[indices], y_preds1[r][indices], sample_weight=sample_weight[indices]))\n",
        "            else:\n",
        "                reader1_scores.append(score_fun(y_true[indices], y_preds1[r][indices]))\n",
        "        score1 = stat_fun(reader1_scores)\n",
        "        reader2_scores = []\n",
        "        for r in readers2:\n",
        "            if sample_weight is not None:\n",
        "                reader2_scores.append(score_fun(y_true[indices], y_preds2[r][indices], sample_weight=sample_weight[indices]))\n",
        "            else:\n",
        "                reader2_scores.append(score_fun(y_true[indices], y_preds2[r][indices]))\n",
        "        score2 = stat_fun(reader2_scores)\n",
        "        z.append(compare_fun(score1, score2))\n",
        "\n",
        "    p = percentileofscore(z, 0.0, kind=\"weak\") / 100.0\n",
        "    if two_tailed:\n",
        "        p *= 2.0\n",
        "    return p, z\n"
      ]
    },
    {
      "cell_type": "code",
      "execution_count": 28,
      "metadata": {
        "gather": {
          "logged": 1695743508099
        },
        "jupyter": {
          "outputs_hidden": false,
          "source_hidden": false
        },
        "nteract": {
          "transient": {
            "deleting": false
          }
        }
      },
      "outputs": [],
      "source": [
        "# This function works out what the summary discrimination statistics are by group\n",
        "from sklearn.metrics import roc_auc_score\n",
        "from sklearn.metrics import average_precision_score\n",
        "\n",
        "rc = roc_auc_score\n",
        "ap = average_precision_score\n",
        "\n",
        "def auc_stratify_auc(data, group):\n",
        "    classes = data[group].unique()\n",
        "    results = []\n",
        "    for i in classes:\n",
        "        subset = data[data[group]==i]\n",
        "        y_true = subset['actual']\n",
        "        y_pred = subset['model_prediction']\n",
        "        try:\n",
        "            score, ci_lower, ci_upper, scores = score_ci(y_true, y_pred, score_fun=rc)\n",
        "            results.append({'Feature':group,\n",
        "                            'Variable':i,\n",
        "                            'AUC':score,\n",
        "                            'lower':ci_lower,\n",
        "                            'upper':ci_upper    \n",
        "            })\n",
        "        except:\n",
        "            pass\n",
        "    return pd.DataFrame(results)\n",
        "\n",
        "def auc_stratify_ap(data, group):\n",
        "    classes = data[group].unique()\n",
        "    results = []\n",
        "    for i in classes:\n",
        "        subset = data[data[group]==i]\n",
        "        y_true = subset['actual']\n",
        "        y_pred = subset['model_prediction']\n",
        "        try:\n",
        "            score, ci_lower, ci_upper, scores = score_ci(y_true, y_pred, score_fun=ap)\n",
        "            results.append({'Feature':group,\n",
        "                            'Variable':i,\n",
        "                            'AUPRC':score,\n",
        "                            'lower':ci_lower,\n",
        "                            'upper':ci_upper    \n",
        "            })\n",
        "        except:\n",
        "            pass\n",
        "    return pd.DataFrame(results)\n",
        "            "
      ]
    },
    {
      "cell_type": "code",
      "execution_count": 30,
      "metadata": {
        "gather": {
          "logged": 1695743508874
        },
        "jupyter": {
          "outputs_hidden": false,
          "source_hidden": false
        },
        "nteract": {
          "transient": {
            "deleting": false
          }
        }
      },
      "outputs": [
        {
          "data": {
            "text/plain": [
              "0.9969230769230769"
            ]
          },
          "execution_count": 30,
          "metadata": {},
          "output_type": "execute_result"
        }
      ],
      "source": [
        "from sklearn.metrics import f1_score\n",
        "\n",
        "f1_score(error_grid[error_grid['organisms']=='E. coli']['actual'], error_grid[error_grid['organisms']=='E. coli']['predicted'])"
      ]
    },
    {
      "cell_type": "code",
      "execution_count": 31,
      "metadata": {
        "gather": {
          "logged": 1695743509184
        },
        "jupyter": {
          "outputs_hidden": false,
          "source_hidden": false
        },
        "nteract": {
          "transient": {
            "deleting": false
          }
        }
      },
      "outputs": [],
      "source": [
        "def f1_stratify(data, group):\n",
        "    classes = data[group].unique()\n",
        "    results = []\n",
        "    for i in classes:\n",
        "        subset = data[data[group]==i]\n",
        "        y_true = subset['actual']\n",
        "        y_pred = subset['predicted']\n",
        "        score = f1_score(y_true, y_pred)\n",
        "        results.append({'Feature':group,\n",
        "                            'Variable':i,\n",
        "                            'Score':score})\n",
        "    return pd.DataFrame(results)"
      ]
    },
    {
      "cell_type": "code",
      "execution_count": 32,
      "metadata": {
        "gather": {
          "logged": 1695743509557
        },
        "jupyter": {
          "outputs_hidden": false,
          "source_hidden": false
        },
        "nteract": {
          "transient": {
            "deleting": false
          }
        }
      },
      "outputs": [
        {
          "data": {
            "text/html": [
              "<div>\n",
              "<style scoped>\n",
              "    .dataframe tbody tr th:only-of-type {\n",
              "        vertical-align: middle;\n",
              "    }\n",
              "\n",
              "    .dataframe tbody tr th {\n",
              "        vertical-align: top;\n",
              "    }\n",
              "\n",
              "    .dataframe thead th {\n",
              "        text-align: right;\n",
              "    }\n",
              "</style>\n",
              "<table border=\"1\" class=\"dataframe\">\n",
              "  <thead>\n",
              "    <tr style=\"text-align: right;\">\n",
              "      <th></th>\n",
              "      <th>Feature</th>\n",
              "      <th>Variable</th>\n",
              "      <th>Score</th>\n",
              "    </tr>\n",
              "  </thead>\n",
              "  <tbody>\n",
              "    <tr>\n",
              "      <th>0</th>\n",
              "      <td>organisms</td>\n",
              "      <td>E. coli</td>\n",
              "      <td>0.996923</td>\n",
              "    </tr>\n",
              "    <tr>\n",
              "      <th>1</th>\n",
              "      <td>organisms</td>\n",
              "      <td>CoNS</td>\n",
              "      <td>0.000000</td>\n",
              "    </tr>\n",
              "    <tr>\n",
              "      <th>2</th>\n",
              "      <td>organisms</td>\n",
              "      <td>Klebsiella spp</td>\n",
              "      <td>1.000000</td>\n",
              "    </tr>\n",
              "    <tr>\n",
              "      <th>3</th>\n",
              "      <td>organisms</td>\n",
              "      <td>S. aureus</td>\n",
              "      <td>1.000000</td>\n",
              "    </tr>\n",
              "    <tr>\n",
              "      <th>4</th>\n",
              "      <td>organisms</td>\n",
              "      <td>Enterococcus spp</td>\n",
              "      <td>1.000000</td>\n",
              "    </tr>\n",
              "    <tr>\n",
              "      <th>5</th>\n",
              "      <td>organisms</td>\n",
              "      <td>Pseudomonas spp</td>\n",
              "      <td>1.000000</td>\n",
              "    </tr>\n",
              "    <tr>\n",
              "      <th>6</th>\n",
              "      <td>organisms</td>\n",
              "      <td>Streptococcus spp</td>\n",
              "      <td>1.000000</td>\n",
              "    </tr>\n",
              "    <tr>\n",
              "      <th>7</th>\n",
              "      <td>organisms</td>\n",
              "      <td>Micrococcus spp</td>\n",
              "      <td>0.000000</td>\n",
              "    </tr>\n",
              "    <tr>\n",
              "      <th>8</th>\n",
              "      <td>organisms</td>\n",
              "      <td>Proteus spp</td>\n",
              "      <td>1.000000</td>\n",
              "    </tr>\n",
              "    <tr>\n",
              "      <th>9</th>\n",
              "      <td>organisms</td>\n",
              "      <td>Corynebacterium spp</td>\n",
              "      <td>0.000000</td>\n",
              "    </tr>\n",
              "    <tr>\n",
              "      <th>10</th>\n",
              "      <td>organisms</td>\n",
              "      <td>Enterobacter spp</td>\n",
              "      <td>1.000000</td>\n",
              "    </tr>\n",
              "    <tr>\n",
              "      <th>11</th>\n",
              "      <td>organisms</td>\n",
              "      <td>Citrobacter spp</td>\n",
              "      <td>1.000000</td>\n",
              "    </tr>\n",
              "    <tr>\n",
              "      <th>12</th>\n",
              "      <td>organisms</td>\n",
              "      <td>Serratia spp</td>\n",
              "      <td>1.000000</td>\n",
              "    </tr>\n",
              "    <tr>\n",
              "      <th>13</th>\n",
              "      <td>organisms</td>\n",
              "      <td>No growth</td>\n",
              "      <td>0.000000</td>\n",
              "    </tr>\n",
              "  </tbody>\n",
              "</table>\n",
              "</div>"
            ],
            "text/plain": [
              "      Feature             Variable     Score\n",
              "0   organisms              E. coli  0.996923\n",
              "1   organisms                 CoNS  0.000000\n",
              "2   organisms       Klebsiella spp  1.000000\n",
              "3   organisms            S. aureus  1.000000\n",
              "4   organisms     Enterococcus spp  1.000000\n",
              "5   organisms      Pseudomonas spp  1.000000\n",
              "6   organisms    Streptococcus spp  1.000000\n",
              "7   organisms      Micrococcus spp  0.000000\n",
              "8   organisms          Proteus spp  1.000000\n",
              "9   organisms  Corynebacterium spp  0.000000\n",
              "10  organisms     Enterobacter spp  1.000000\n",
              "11  organisms      Citrobacter spp  1.000000\n",
              "12  organisms         Serratia spp  1.000000\n",
              "13  organisms            No growth  0.000000"
            ]
          },
          "execution_count": 32,
          "metadata": {},
          "output_type": "execute_result"
        }
      ],
      "source": [
        "f1_stratify(error_grid,'organisms')"
      ]
    },
    {
      "cell_type": "code",
      "execution_count": 33,
      "metadata": {
        "gather": {
          "logged": 1695743510589
        },
        "jupyter": {
          "outputs_hidden": false,
          "source_hidden": false
        },
        "nteract": {
          "transient": {
            "deleting": false
          }
        }
      },
      "outputs": [
        {
          "data": {
            "text/html": [
              "<div>\n",
              "<style scoped>\n",
              "    .dataframe tbody tr th:only-of-type {\n",
              "        vertical-align: middle;\n",
              "    }\n",
              "\n",
              "    .dataframe tbody tr th {\n",
              "        vertical-align: top;\n",
              "    }\n",
              "\n",
              "    .dataframe thead th {\n",
              "        text-align: right;\n",
              "    }\n",
              "</style>\n",
              "<table border=\"1\" class=\"dataframe\">\n",
              "  <thead>\n",
              "    <tr style=\"text-align: right;\">\n",
              "      <th></th>\n",
              "      <th>Feature</th>\n",
              "      <th>Variable</th>\n",
              "      <th>AUC</th>\n",
              "      <th>lower</th>\n",
              "      <th>upper</th>\n",
              "    </tr>\n",
              "  </thead>\n",
              "  <tbody>\n",
              "    <tr>\n",
              "      <th>0</th>\n",
              "      <td>sex</td>\n",
              "      <td>0</td>\n",
              "      <td>0.976505</td>\n",
              "      <td>0.971243</td>\n",
              "      <td>0.981519</td>\n",
              "    </tr>\n",
              "    <tr>\n",
              "      <th>1</th>\n",
              "      <td>sex</td>\n",
              "      <td>1</td>\n",
              "      <td>0.975830</td>\n",
              "      <td>0.969621</td>\n",
              "      <td>0.981313</td>\n",
              "    </tr>\n",
              "  </tbody>\n",
              "</table>\n",
              "</div>"
            ],
            "text/plain": [
              "  Feature  Variable       AUC     lower     upper\n",
              "0     sex         0  0.976505  0.971243  0.981519\n",
              "1     sex         1  0.975830  0.969621  0.981313"
            ]
          },
          "metadata": {},
          "output_type": "display_data"
        },
        {
          "data": {
            "text/html": [
              "<div>\n",
              "<style scoped>\n",
              "    .dataframe tbody tr th:only-of-type {\n",
              "        vertical-align: middle;\n",
              "    }\n",
              "\n",
              "    .dataframe tbody tr th {\n",
              "        vertical-align: top;\n",
              "    }\n",
              "\n",
              "    .dataframe thead th {\n",
              "        text-align: right;\n",
              "    }\n",
              "</style>\n",
              "<table border=\"1\" class=\"dataframe\">\n",
              "  <thead>\n",
              "    <tr style=\"text-align: right;\">\n",
              "      <th></th>\n",
              "      <th>Feature</th>\n",
              "      <th>Variable</th>\n",
              "      <th>AUPRC</th>\n",
              "      <th>lower</th>\n",
              "      <th>upper</th>\n",
              "    </tr>\n",
              "  </thead>\n",
              "  <tbody>\n",
              "    <tr>\n",
              "      <th>0</th>\n",
              "      <td>sex</td>\n",
              "      <td>0</td>\n",
              "      <td>0.734897</td>\n",
              "      <td>0.672721</td>\n",
              "      <td>0.794992</td>\n",
              "    </tr>\n",
              "    <tr>\n",
              "      <th>1</th>\n",
              "      <td>sex</td>\n",
              "      <td>1</td>\n",
              "      <td>0.666820</td>\n",
              "      <td>0.600607</td>\n",
              "      <td>0.735218</td>\n",
              "    </tr>\n",
              "  </tbody>\n",
              "</table>\n",
              "</div>"
            ],
            "text/plain": [
              "  Feature  Variable     AUPRC     lower     upper\n",
              "0     sex         0  0.734897  0.672721  0.794992\n",
              "1     sex         1  0.666820  0.600607  0.735218"
            ]
          },
          "metadata": {},
          "output_type": "display_data"
        }
      ],
      "source": [
        "display(auc_stratify_auc(error_grid, 'sex'))\n",
        "display(auc_stratify_ap(error_grid,'sex'))"
      ]
    },
    {
      "cell_type": "code",
      "execution_count": 34,
      "metadata": {
        "gather": {
          "logged": 1695743517379
        },
        "jupyter": {
          "outputs_hidden": false,
          "source_hidden": false
        },
        "nteract": {
          "transient": {
            "deleting": false
          }
        }
      },
      "outputs": [
        {
          "data": {
            "text/html": [
              "<div>\n",
              "<style scoped>\n",
              "    .dataframe tbody tr th:only-of-type {\n",
              "        vertical-align: middle;\n",
              "    }\n",
              "\n",
              "    .dataframe tbody tr th {\n",
              "        vertical-align: top;\n",
              "    }\n",
              "\n",
              "    .dataframe thead th {\n",
              "        text-align: right;\n",
              "    }\n",
              "</style>\n",
              "<table border=\"1\" class=\"dataframe\">\n",
              "  <thead>\n",
              "    <tr style=\"text-align: right;\">\n",
              "      <th></th>\n",
              "      <th>Feature</th>\n",
              "      <th>Variable</th>\n",
              "      <th>AUC</th>\n",
              "      <th>lower</th>\n",
              "      <th>upper</th>\n",
              "    </tr>\n",
              "  </thead>\n",
              "  <tbody>\n",
              "    <tr>\n",
              "      <th>0</th>\n",
              "      <td>HAI</td>\n",
              "      <td>1</td>\n",
              "      <td>0.648680</td>\n",
              "      <td>0.599427</td>\n",
              "      <td>0.697745</td>\n",
              "    </tr>\n",
              "    <tr>\n",
              "      <th>1</th>\n",
              "      <td>HAI</td>\n",
              "      <td>0</td>\n",
              "      <td>0.990787</td>\n",
              "      <td>0.987021</td>\n",
              "      <td>0.993720</td>\n",
              "    </tr>\n",
              "  </tbody>\n",
              "</table>\n",
              "</div>"
            ],
            "text/plain": [
              "  Feature  Variable       AUC     lower     upper\n",
              "0     HAI         1  0.648680  0.599427  0.697745\n",
              "1     HAI         0  0.990787  0.987021  0.993720"
            ]
          },
          "execution_count": 34,
          "metadata": {},
          "output_type": "execute_result"
        }
      ],
      "source": [
        "auc_stratify_auc(error_grid,'HAI')"
      ]
    },
    {
      "cell_type": "code",
      "execution_count": 35,
      "metadata": {
        "gather": {
          "logged": 1695743520621
        },
        "jupyter": {
          "outputs_hidden": false,
          "source_hidden": false
        },
        "nteract": {
          "transient": {
            "deleting": false
          }
        }
      },
      "outputs": [
        {
          "data": {
            "text/html": [
              "<div>\n",
              "<style scoped>\n",
              "    .dataframe tbody tr th:only-of-type {\n",
              "        vertical-align: middle;\n",
              "    }\n",
              "\n",
              "    .dataframe tbody tr th {\n",
              "        vertical-align: top;\n",
              "    }\n",
              "\n",
              "    .dataframe thead th {\n",
              "        text-align: right;\n",
              "    }\n",
              "</style>\n",
              "<table border=\"1\" class=\"dataframe\">\n",
              "  <thead>\n",
              "    <tr style=\"text-align: right;\">\n",
              "      <th></th>\n",
              "      <th>Feature</th>\n",
              "      <th>Variable</th>\n",
              "      <th>AUPRC</th>\n",
              "      <th>lower</th>\n",
              "      <th>upper</th>\n",
              "    </tr>\n",
              "  </thead>\n",
              "  <tbody>\n",
              "    <tr>\n",
              "      <th>0</th>\n",
              "      <td>HAI</td>\n",
              "      <td>1</td>\n",
              "      <td>0.681819</td>\n",
              "      <td>0.622043</td>\n",
              "      <td>0.741198</td>\n",
              "    </tr>\n",
              "    <tr>\n",
              "      <th>1</th>\n",
              "      <td>HAI</td>\n",
              "      <td>0</td>\n",
              "      <td>0.786642</td>\n",
              "      <td>0.722070</td>\n",
              "      <td>0.844971</td>\n",
              "    </tr>\n",
              "  </tbody>\n",
              "</table>\n",
              "</div>"
            ],
            "text/plain": [
              "  Feature  Variable     AUPRC     lower     upper\n",
              "0     HAI         1  0.681819  0.622043  0.741198\n",
              "1     HAI         0  0.786642  0.722070  0.844971"
            ]
          },
          "execution_count": 35,
          "metadata": {},
          "output_type": "execute_result"
        }
      ],
      "source": [
        "auc_stratify_ap(error_grid,'HAI')"
      ]
    },
    {
      "cell_type": "code",
      "execution_count": 37,
      "metadata": {
        "gather": {
          "logged": 1695743614067
        },
        "jupyter": {
          "outputs_hidden": false,
          "source_hidden": false
        },
        "nteract": {
          "transient": {
            "deleting": false
          }
        }
      },
      "outputs": [
        {
          "name": "stdout",
          "output_type": "stream",
          "text": [
            "do those at extremes of age have different model characteristics\n"
          ]
        },
        {
          "data": {
            "text/plain": [
              "age_bin\n",
              "3.0    3516\n",
              "4.0    1048\n",
              "1.0     575\n",
              "2.0     499\n",
              "Name: count, dtype: int64"
            ]
          },
          "execution_count": 37,
          "metadata": {},
          "output_type": "execute_result"
        }
      ],
      "source": [
        "print('do those at extremes of age have different model characteristics')\n",
        "\n",
        "error_grid.loc[(error_grid['age']<1), 'age_bin']=1\n",
        "error_grid.loc[(error_grid['age']>=1)&(error_grid['age']<18), 'age_bin']=2\n",
        "error_grid.loc[(error_grid['age']>=18)&(error_grid['age']<75), 'age_bin']=3\n",
        "error_grid.loc[(error_grid['age']>=75), 'age_bin']=4\n",
        "\n",
        "error_grid['age_bin'].value_counts()"
      ]
    },
    {
      "cell_type": "code",
      "execution_count": 38,
      "metadata": {
        "gather": {
          "logged": 1695743614465
        },
        "jupyter": {
          "outputs_hidden": false,
          "source_hidden": false
        },
        "nteract": {
          "transient": {
            "deleting": false
          }
        }
      },
      "outputs": [
        {
          "data": {
            "text/plain": [
              "age_bin\n",
              "3.0    3516\n",
              "4.0    1048\n",
              "1.0     575\n",
              "2.0     499\n",
              "Name: count, dtype: int64"
            ]
          },
          "execution_count": 38,
          "metadata": {},
          "output_type": "execute_result"
        }
      ],
      "source": [
        "error_grid['age_bin'].value_counts()"
      ]
    },
    {
      "cell_type": "code",
      "execution_count": 39,
      "metadata": {
        "gather": {
          "logged": 1695743629290
        },
        "jupyter": {
          "outputs_hidden": false,
          "source_hidden": false
        },
        "nteract": {
          "transient": {
            "deleting": false
          }
        }
      },
      "outputs": [
        {
          "data": {
            "text/html": [
              "<div>\n",
              "<style scoped>\n",
              "    .dataframe tbody tr th:only-of-type {\n",
              "        vertical-align: middle;\n",
              "    }\n",
              "\n",
              "    .dataframe tbody tr th {\n",
              "        vertical-align: top;\n",
              "    }\n",
              "\n",
              "    .dataframe thead th {\n",
              "        text-align: right;\n",
              "    }\n",
              "</style>\n",
              "<table border=\"1\" class=\"dataframe\">\n",
              "  <thead>\n",
              "    <tr style=\"text-align: right;\">\n",
              "      <th></th>\n",
              "      <th>Feature</th>\n",
              "      <th>Variable</th>\n",
              "      <th>AUC</th>\n",
              "      <th>lower</th>\n",
              "      <th>upper</th>\n",
              "    </tr>\n",
              "  </thead>\n",
              "  <tbody>\n",
              "    <tr>\n",
              "      <th>0</th>\n",
              "      <td>age_bin</td>\n",
              "      <td>4.0</td>\n",
              "      <td>0.968199</td>\n",
              "      <td>0.958035</td>\n",
              "      <td>0.977491</td>\n",
              "    </tr>\n",
              "    <tr>\n",
              "      <th>1</th>\n",
              "      <td>age_bin</td>\n",
              "      <td>3.0</td>\n",
              "      <td>0.976157</td>\n",
              "      <td>0.971494</td>\n",
              "      <td>0.980317</td>\n",
              "    </tr>\n",
              "    <tr>\n",
              "      <th>2</th>\n",
              "      <td>age_bin</td>\n",
              "      <td>1.0</td>\n",
              "      <td>0.979058</td>\n",
              "      <td>0.965733</td>\n",
              "      <td>0.990490</td>\n",
              "    </tr>\n",
              "    <tr>\n",
              "      <th>3</th>\n",
              "      <td>age_bin</td>\n",
              "      <td>2.0</td>\n",
              "      <td>0.980689</td>\n",
              "      <td>0.966667</td>\n",
              "      <td>0.991710</td>\n",
              "    </tr>\n",
              "  </tbody>\n",
              "</table>\n",
              "</div>"
            ],
            "text/plain": [
              "   Feature  Variable       AUC     lower     upper\n",
              "0  age_bin       4.0  0.968199  0.958035  0.977491\n",
              "1  age_bin       3.0  0.976157  0.971494  0.980317\n",
              "2  age_bin       1.0  0.979058  0.965733  0.990490\n",
              "3  age_bin       2.0  0.980689  0.966667  0.991710"
            ]
          },
          "metadata": {},
          "output_type": "display_data"
        },
        {
          "data": {
            "text/html": [
              "<div>\n",
              "<style scoped>\n",
              "    .dataframe tbody tr th:only-of-type {\n",
              "        vertical-align: middle;\n",
              "    }\n",
              "\n",
              "    .dataframe tbody tr th {\n",
              "        vertical-align: top;\n",
              "    }\n",
              "\n",
              "    .dataframe thead th {\n",
              "        text-align: right;\n",
              "    }\n",
              "</style>\n",
              "<table border=\"1\" class=\"dataframe\">\n",
              "  <thead>\n",
              "    <tr style=\"text-align: right;\">\n",
              "      <th></th>\n",
              "      <th>Feature</th>\n",
              "      <th>Variable</th>\n",
              "      <th>AUPRC</th>\n",
              "      <th>lower</th>\n",
              "      <th>upper</th>\n",
              "    </tr>\n",
              "  </thead>\n",
              "  <tbody>\n",
              "    <tr>\n",
              "      <th>0</th>\n",
              "      <td>age_bin</td>\n",
              "      <td>4.0</td>\n",
              "      <td>0.711504</td>\n",
              "      <td>0.631548</td>\n",
              "      <td>0.798478</td>\n",
              "    </tr>\n",
              "    <tr>\n",
              "      <th>1</th>\n",
              "      <td>age_bin</td>\n",
              "      <td>3.0</td>\n",
              "      <td>0.706083</td>\n",
              "      <td>0.651484</td>\n",
              "      <td>0.763409</td>\n",
              "    </tr>\n",
              "    <tr>\n",
              "      <th>2</th>\n",
              "      <td>age_bin</td>\n",
              "      <td>1.0</td>\n",
              "      <td>0.380324</td>\n",
              "      <td>0.216109</td>\n",
              "      <td>0.655416</td>\n",
              "    </tr>\n",
              "    <tr>\n",
              "      <th>3</th>\n",
              "      <td>age_bin</td>\n",
              "      <td>2.0</td>\n",
              "      <td>0.637851</td>\n",
              "      <td>0.447932</td>\n",
              "      <td>0.863913</td>\n",
              "    </tr>\n",
              "  </tbody>\n",
              "</table>\n",
              "</div>"
            ],
            "text/plain": [
              "   Feature  Variable     AUPRC     lower     upper\n",
              "0  age_bin       4.0  0.711504  0.631548  0.798478\n",
              "1  age_bin       3.0  0.706083  0.651484  0.763409\n",
              "2  age_bin       1.0  0.380324  0.216109  0.655416\n",
              "3  age_bin       2.0  0.637851  0.447932  0.863913"
            ]
          },
          "metadata": {},
          "output_type": "display_data"
        }
      ],
      "source": [
        "display(auc_stratify_auc(error_grid, 'age_bin'))\n",
        "display(auc_stratify_ap(error_grid, 'age_bin'))"
      ]
    },
    {
      "cell_type": "code",
      "execution_count": 40,
      "metadata": {
        "gather": {
          "logged": 1695743629776
        },
        "jupyter": {
          "outputs_hidden": false,
          "source_hidden": false
        },
        "nteract": {
          "transient": {
            "deleting": false
          }
        }
      },
      "outputs": [
        {
          "data": {
            "text/plain": [
              "array(['GASTROENTEROLOGY', None, 'GENERAL SURGERY',\n",
              "       'CLINICAL HAEMATOLOGY', 'GENERAL MEDICINE',\n",
              "       'TRAUMA & ORTHOPAEDICS', 'ENDOCRINOLOGY', 'GERIATRIC MEDICINE',\n",
              "       'MIDWIFE EPISODE', 'PAEDIATRICS', 'ANAESTHETICS', 'UROLOGY',\n",
              "       'CARDIOTHORACIC SURGERY', 'MEDICAL ONCOLOGY',\n",
              "       'RESPIRATORY MEDICINE (also known as thoracic medicine)',\n",
              "       'CARDIOLOGY', 'NEPHROLOGY', 'OBSTETRICS', 'NURSING EPISODE',\n",
              "       'INFECTIOUS DISEASES', 'GYNAECOLOGY', 'NEUROLOGY',\n",
              "       'CLINICAL ONCOLOGY (previously RADIOTHERAPY)', 'RHEUMATOLOGY',\n",
              "       'ACCIDENT & EMERGENCY', 'ENT', 'HAEMATOLOGY',\n",
              "       'CRITICAL CARE MEDICINE', 'NEUROSURGERY', 'PLASTIC SURGERY',\n",
              "       'TROPICAL MEDICINE', 'ALLIED HEALTH PROFESSIONAL EPISODE',\n",
              "       'CLINICAL PHARMACOLOGY', 'GENITO-URINARY MEDICINE',\n",
              "       'PAEDIATRIC SURGERY'], dtype=object)"
            ]
          },
          "execution_count": 40,
          "metadata": {},
          "output_type": "execute_result"
        }
      ],
      "source": [
        "error_grid_condensed = error_grid\n",
        "error_grid_condensed['MAIN_SPECIALTY_CODE_DESC'].unique()"
      ]
    },
    {
      "cell_type": "code",
      "execution_count": 41,
      "metadata": {
        "gather": {
          "logged": 1695743630160
        },
        "jupyter": {
          "outputs_hidden": false,
          "source_hidden": false
        },
        "nteract": {
          "transient": {
            "deleting": false
          }
        }
      },
      "outputs": [],
      "source": [
        "dict_specialty = {'GENERAL SURGERY':'surgery',\n",
        "        'TRAUMA & ORTHOPAEDICS':'surgery',\n",
        "        'CARDIOTHORACIC SURGERY':'surgery',\n",
        "        'ENT':'surgery',\n",
        "        'NEUROSURGERY':'surgery',\n",
        "        'PLASTIC SURGERY':'surgery',\n",
        "        'UROLOGY':'surgery',\n",
        "        'PAEDIATRICS':'paeds',\n",
        "        'PAEDIATRIC SURGERY':'paeds',\n",
        "        'CLINICAL HAEMATOLOGY':'haem',\n",
        "        'CRITICAL CARE MEDICINE':'icu',\n",
        "        'ANAESTHETICS':'icu',\n",
        "        'NEPHROLOGY':'renal',\n",
        "        'OBSTETRICS':'obstetrics',\n",
        "        'MIDWIFE EPISODE':'obstetrics'}\n"
      ]
    },
    {
      "cell_type": "code",
      "execution_count": 42,
      "metadata": {
        "gather": {
          "logged": 1695743630494
        },
        "jupyter": {
          "outputs_hidden": false,
          "source_hidden": false
        },
        "nteract": {
          "transient": {
            "deleting": false
          }
        }
      },
      "outputs": [],
      "source": [
        "error_grid_condensed['MAIN_SPECIALTY_CODE_DESC']=error_grid_condensed['MAIN_SPECIALTY_CODE_DESC'].map(dict_specialty).fillna('medicine')"
      ]
    },
    {
      "cell_type": "code",
      "execution_count": 43,
      "metadata": {
        "gather": {
          "logged": 1695743630868
        },
        "jupyter": {
          "outputs_hidden": false,
          "source_hidden": false
        },
        "nteract": {
          "transient": {
            "deleting": false
          }
        }
      },
      "outputs": [
        {
          "data": {
            "text/plain": [
              "MAIN_SPECIALTY_CODE_DESC\n",
              "medicine      3460\n",
              "obstetrics     587\n",
              "surgery        577\n",
              "paeds          552\n",
              "haem           221\n",
              "renal          193\n",
              "icu             48\n",
              "Name: count, dtype: int64"
            ]
          },
          "execution_count": 43,
          "metadata": {},
          "output_type": "execute_result"
        }
      ],
      "source": [
        "error_grid_condensed['MAIN_SPECIALTY_CODE_DESC'].value_counts()"
      ]
    },
    {
      "cell_type": "code",
      "execution_count": 44,
      "metadata": {
        "gather": {
          "logged": 1695743656519
        },
        "jupyter": {
          "outputs_hidden": false,
          "source_hidden": false
        },
        "nteract": {
          "transient": {
            "deleting": false
          }
        }
      },
      "outputs": [
        {
          "data": {
            "text/html": [
              "<div>\n",
              "<style scoped>\n",
              "    .dataframe tbody tr th:only-of-type {\n",
              "        vertical-align: middle;\n",
              "    }\n",
              "\n",
              "    .dataframe tbody tr th {\n",
              "        vertical-align: top;\n",
              "    }\n",
              "\n",
              "    .dataframe thead th {\n",
              "        text-align: right;\n",
              "    }\n",
              "</style>\n",
              "<table border=\"1\" class=\"dataframe\">\n",
              "  <thead>\n",
              "    <tr style=\"text-align: right;\">\n",
              "      <th></th>\n",
              "      <th>Feature</th>\n",
              "      <th>Variable</th>\n",
              "      <th>AUC</th>\n",
              "      <th>lower</th>\n",
              "      <th>upper</th>\n",
              "    </tr>\n",
              "  </thead>\n",
              "  <tbody>\n",
              "    <tr>\n",
              "      <th>0</th>\n",
              "      <td>MAIN_SPECIALTY_CODE_DESC</td>\n",
              "      <td>medicine</td>\n",
              "      <td>0.975442</td>\n",
              "      <td>0.970172</td>\n",
              "      <td>0.980285</td>\n",
              "    </tr>\n",
              "    <tr>\n",
              "      <th>1</th>\n",
              "      <td>MAIN_SPECIALTY_CODE_DESC</td>\n",
              "      <td>surgery</td>\n",
              "      <td>0.969523</td>\n",
              "      <td>0.956635</td>\n",
              "      <td>0.981672</td>\n",
              "    </tr>\n",
              "    <tr>\n",
              "      <th>2</th>\n",
              "      <td>MAIN_SPECIALTY_CODE_DESC</td>\n",
              "      <td>haem</td>\n",
              "      <td>0.956101</td>\n",
              "      <td>0.929006</td>\n",
              "      <td>0.978596</td>\n",
              "    </tr>\n",
              "    <tr>\n",
              "      <th>3</th>\n",
              "      <td>MAIN_SPECIALTY_CODE_DESC</td>\n",
              "      <td>obstetrics</td>\n",
              "      <td>0.992708</td>\n",
              "      <td>0.985625</td>\n",
              "      <td>0.998211</td>\n",
              "    </tr>\n",
              "    <tr>\n",
              "      <th>4</th>\n",
              "      <td>MAIN_SPECIALTY_CODE_DESC</td>\n",
              "      <td>paeds</td>\n",
              "      <td>0.976504</td>\n",
              "      <td>0.961278</td>\n",
              "      <td>0.988162</td>\n",
              "    </tr>\n",
              "    <tr>\n",
              "      <th>5</th>\n",
              "      <td>MAIN_SPECIALTY_CODE_DESC</td>\n",
              "      <td>icu</td>\n",
              "      <td>0.843305</td>\n",
              "      <td>0.706250</td>\n",
              "      <td>0.950860</td>\n",
              "    </tr>\n",
              "    <tr>\n",
              "      <th>6</th>\n",
              "      <td>MAIN_SPECIALTY_CODE_DESC</td>\n",
              "      <td>renal</td>\n",
              "      <td>0.976705</td>\n",
              "      <td>0.956061</td>\n",
              "      <td>0.992832</td>\n",
              "    </tr>\n",
              "  </tbody>\n",
              "</table>\n",
              "</div>"
            ],
            "text/plain": [
              "                    Feature    Variable       AUC     lower     upper\n",
              "0  MAIN_SPECIALTY_CODE_DESC    medicine  0.975442  0.970172  0.980285\n",
              "1  MAIN_SPECIALTY_CODE_DESC     surgery  0.969523  0.956635  0.981672\n",
              "2  MAIN_SPECIALTY_CODE_DESC        haem  0.956101  0.929006  0.978596\n",
              "3  MAIN_SPECIALTY_CODE_DESC  obstetrics  0.992708  0.985625  0.998211\n",
              "4  MAIN_SPECIALTY_CODE_DESC       paeds  0.976504  0.961278  0.988162\n",
              "5  MAIN_SPECIALTY_CODE_DESC         icu  0.843305  0.706250  0.950860\n",
              "6  MAIN_SPECIALTY_CODE_DESC       renal  0.976705  0.956061  0.992832"
            ]
          },
          "metadata": {},
          "output_type": "display_data"
        },
        {
          "data": {
            "text/html": [
              "<div>\n",
              "<style scoped>\n",
              "    .dataframe tbody tr th:only-of-type {\n",
              "        vertical-align: middle;\n",
              "    }\n",
              "\n",
              "    .dataframe tbody tr th {\n",
              "        vertical-align: top;\n",
              "    }\n",
              "\n",
              "    .dataframe thead th {\n",
              "        text-align: right;\n",
              "    }\n",
              "</style>\n",
              "<table border=\"1\" class=\"dataframe\">\n",
              "  <thead>\n",
              "    <tr style=\"text-align: right;\">\n",
              "      <th></th>\n",
              "      <th>Feature</th>\n",
              "      <th>Variable</th>\n",
              "      <th>AUPRC</th>\n",
              "      <th>lower</th>\n",
              "      <th>upper</th>\n",
              "    </tr>\n",
              "  </thead>\n",
              "  <tbody>\n",
              "    <tr>\n",
              "      <th>0</th>\n",
              "      <td>MAIN_SPECIALTY_CODE_DESC</td>\n",
              "      <td>medicine</td>\n",
              "      <td>0.679023</td>\n",
              "      <td>0.619865</td>\n",
              "      <td>0.738562</td>\n",
              "    </tr>\n",
              "    <tr>\n",
              "      <th>1</th>\n",
              "      <td>MAIN_SPECIALTY_CODE_DESC</td>\n",
              "      <td>surgery</td>\n",
              "      <td>0.677528</td>\n",
              "      <td>0.549763</td>\n",
              "      <td>0.802298</td>\n",
              "    </tr>\n",
              "    <tr>\n",
              "      <th>2</th>\n",
              "      <td>MAIN_SPECIALTY_CODE_DESC</td>\n",
              "      <td>haem</td>\n",
              "      <td>0.777346</td>\n",
              "      <td>0.650922</td>\n",
              "      <td>0.903295</td>\n",
              "    </tr>\n",
              "    <tr>\n",
              "      <th>3</th>\n",
              "      <td>MAIN_SPECIALTY_CODE_DESC</td>\n",
              "      <td>obstetrics</td>\n",
              "      <td>0.753957</td>\n",
              "      <td>0.593487</td>\n",
              "      <td>0.961177</td>\n",
              "    </tr>\n",
              "    <tr>\n",
              "      <th>4</th>\n",
              "      <td>MAIN_SPECIALTY_CODE_DESC</td>\n",
              "      <td>paeds</td>\n",
              "      <td>0.636436</td>\n",
              "      <td>0.434192</td>\n",
              "      <td>0.807324</td>\n",
              "    </tr>\n",
              "    <tr>\n",
              "      <th>5</th>\n",
              "      <td>MAIN_SPECIALTY_CODE_DESC</td>\n",
              "      <td>icu</td>\n",
              "      <td>0.618168</td>\n",
              "      <td>0.314537</td>\n",
              "      <td>0.865082</td>\n",
              "    </tr>\n",
              "    <tr>\n",
              "      <th>6</th>\n",
              "      <td>MAIN_SPECIALTY_CODE_DESC</td>\n",
              "      <td>renal</td>\n",
              "      <td>0.843504</td>\n",
              "      <td>0.695628</td>\n",
              "      <td>0.964466</td>\n",
              "    </tr>\n",
              "  </tbody>\n",
              "</table>\n",
              "</div>"
            ],
            "text/plain": [
              "                    Feature    Variable     AUPRC     lower     upper\n",
              "0  MAIN_SPECIALTY_CODE_DESC    medicine  0.679023  0.619865  0.738562\n",
              "1  MAIN_SPECIALTY_CODE_DESC     surgery  0.677528  0.549763  0.802298\n",
              "2  MAIN_SPECIALTY_CODE_DESC        haem  0.777346  0.650922  0.903295\n",
              "3  MAIN_SPECIALTY_CODE_DESC  obstetrics  0.753957  0.593487  0.961177\n",
              "4  MAIN_SPECIALTY_CODE_DESC       paeds  0.636436  0.434192  0.807324\n",
              "5  MAIN_SPECIALTY_CODE_DESC         icu  0.618168  0.314537  0.865082\n",
              "6  MAIN_SPECIALTY_CODE_DESC       renal  0.843504  0.695628  0.964466"
            ]
          },
          "metadata": {},
          "output_type": "display_data"
        }
      ],
      "source": [
        "display(auc_stratify_auc(error_grid_condensed, 'MAIN_SPECIALTY_CODE_DESC'))\n",
        "display(auc_stratify_ap(error_grid_condensed, 'MAIN_SPECIALTY_CODE_DESC'))"
      ]
    }
  ],
  "metadata": {
    "kernel_info": {
      "name": "python38-azureml-pt-tf"
    },
    "kernelspec": {
      "display_name": "Python 3.8 - Pytorch and Tensorflow",
      "language": "python",
      "name": "python38-azureml-pt-tf"
    },
    "language_info": {
      "codemirror_mode": {
        "name": "ipython",
        "version": 3
      },
      "file_extension": ".py",
      "mimetype": "text/x-python",
      "name": "python",
      "nbconvert_exporter": "python",
      "pygments_lexer": "ipython3",
      "version": "3.8.5"
    },
    "microsoft": {
      "host": {
        "AzureML": {
          "notebookHasBeenCompleted": true
        }
      },
      "ms_spell_check": {
        "ms_spell_check_language": "en"
      }
    },
    "nteract": {
      "version": "nteract-front-end@1.0.0"
    }
  },
  "nbformat": 4,
  "nbformat_minor": 2
}
