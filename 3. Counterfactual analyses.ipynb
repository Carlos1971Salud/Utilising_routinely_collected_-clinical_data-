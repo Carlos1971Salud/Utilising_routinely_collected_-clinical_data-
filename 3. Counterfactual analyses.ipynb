{
  "cells": [
    {
      "cell_type": "code",
      "execution_count": 1,
      "metadata": {
        "gather": {
          "logged": 1695742679341
        }
      },
      "outputs": [],
      "source": [
        "import pandas as pd\n",
        "import numpy as np\n",
        "\n",
        "from numpy.random import seed\n",
        "seed(30)\n",
        "df = pd.read_pickle(r'./combined_data_feb2023.pkl')"
      ]
    },
    {
      "cell_type": "code",
      "execution_count": 2,
      "metadata": {
        "gather": {
          "logged": 1695742679577
        },
        "jupyter": {
          "outputs_hidden": false,
          "source_hidden": false
        },
        "nteract": {
          "transient": {
            "deleting": false
          }
        }
      },
      "outputs": [],
      "source": [
        "features = ['Ward Glucose', 'Haemoglobin',\n",
        "       'Mean cell volume, blood', 'White blood cell count, blood',\n",
        "       'Haematocrit', 'Platelets', 'Urea level, blood', 'Creatinine', 'Sodium',\n",
        "       'Potassium', 'Lymphocytes', 'Neutrophils', 'C-Reactive Protein',\n",
        "       'Eosinophils', 'Alkaline Phosphatase', 'Albumin',\n",
        "       'Alanine Transaminase', 'Bilirubin', 'Total Protein',\n",
        "       'Fibrinogen (clauss)', 'Glucose POCT Strip Blood', 'Ferritin',\n",
        "       'D-Dimer', 'Ward Lactate', 'age', 'sex', 'SARS CoV-2 RNA']\n",
        "\n"
      ]
    },
    {
      "cell_type": "code",
      "execution_count": 3,
      "metadata": {
        "gather": {
          "logged": 1695742681859
        },
        "jupyter": {
          "outputs_hidden": false,
          "source_hidden": false
        },
        "nteract": {
          "transient": {
            "deleting": false
          }
        }
      },
      "outputs": [
        {
          "data": {
            "text/plain": [
              "'Train'\n",
              "pathogenic\n",
              "0.0    0.761944\n",
              "1.0    0.238056\n",
              "Name: proportion, dtype: float64"
            ]
          },
          "metadata": {},
          "output_type": "display_data"
        },
        {
          "data": {
            "text/plain": [
              "13354\n",
              "'Val'\n",
              "pathogenic\n",
              "0.0    0.885361\n",
              "1.0    0.114639\n",
              "Name: proportion, dtype: float64\n",
              "1858\n",
              "'Test'\n",
              "pathogenic\n",
              "0.0    0.915928\n",
              "1.0    0.084072\n",
              "Name: proportion, dtype: float64"
            ]
          },
          "metadata": {},
          "output_type": "display_data"
        },
        {
          "data": {
            "text/plain": [
              "5638"
            ]
          },
          "metadata": {},
          "output_type": "display_data"
        }
      ],
      "source": [
        "#Manual split of training, validation and test set, and displays of their properties\n",
        "\n",
        "start_date = '2014-1-1'\n",
        "train_date = '2020-12-1'\n",
        "val_date = '2021-03-1'\n",
        "\n",
        "train = df[(df['date_culture']>=start_date)&(df['date_culture']<train_date)]\n",
        "\n",
        "val = df[(df['date_culture']>=train_date)&(df['date_culture']<val_date)]\n",
        "\n",
        "test = df[df['date_culture']>=val_date]\n",
        "\n",
        "display('Train')\n",
        "display(train['pathogenic'].value_counts(normalize=True))\n",
        "display(len(train.groupby(['id','date_culture'])))\n",
        "\n",
        "display('Val')\n",
        "display(val['pathogenic'].value_counts(normalize=True))\n",
        "display(len(val.groupby(['id','date_culture'])))\n",
        "\n",
        "display('Test')\n",
        "display(test['pathogenic'].value_counts(normalize=True))\n",
        "display(len(test.groupby(['id','date_culture'])))"
      ]
    },
    {
      "cell_type": "code",
      "execution_count": 5,
      "metadata": {
        "gather": {
          "logged": 1695742682368
        },
        "jupyter": {
          "outputs_hidden": false,
          "source_hidden": false
        },
        "nteract": {
          "transient": {
            "deleting": false
          }
        }
      },
      "outputs": [],
      "source": [
        "def scale_data(train_data, val_data, test_data, feature_list):\n",
        "    \n",
        "    from sklearn.preprocessing import MinMaxScaler\n",
        "    scale = MinMaxScaler(feature_range=(-1,1))\n",
        "    \n",
        "    train_scaled=train_data.copy()\n",
        "    train_scaled[feature_list] = scale.fit_transform(train_scaled[feature_list])\n",
        "    \n",
        "    val_scaled = val_data.copy()\n",
        "    val_scaled[feature_list]=scale.transform(val_scaled[feature_list])\n",
        "\n",
        "    test_scaled = test_data.copy()\n",
        "    test_scaled[feature_list] = scale.transform(test_scaled[feature_list])\n",
        "\n",
        "    return train_scaled, val_scaled, test_scaled\n"
      ]
    },
    {
      "cell_type": "code",
      "execution_count": 6,
      "metadata": {
        "gather": {
          "logged": 1695742682865
        },
        "jupyter": {
          "outputs_hidden": false,
          "source_hidden": false
        },
        "nteract": {
          "transient": {
            "deleting": false
          }
        }
      },
      "outputs": [],
      "source": [
        "\n",
        "train_scaled, val_scaled, test_scaled = scale_data(train, val, test, features)\n",
        "\n",
        "#Fillna(0) done after scaling for masking layer\n",
        "train_scaled = train_scaled.fillna(0)\n",
        "val_scaled = val_scaled.fillna(0)\n",
        "test_scaled = test_scaled.fillna(0)\n"
      ]
    },
    {
      "cell_type": "code",
      "execution_count": 7,
      "metadata": {
        "gather": {
          "logged": 1695742685576
        },
        "jupyter": {
          "outputs_hidden": false,
          "source_hidden": false
        },
        "nteract": {
          "transient": {
            "deleting": false
          }
        }
      },
      "outputs": [],
      "source": [
        "# Shuffled ordering of the time series sequences through using np.sample\n",
        "# Models are trained against unshuffled versions and evaluated against shuffled hold out test sets below\n",
        "\n",
        "train_scaled_shuffled = train_scaled.groupby(['id']).sample(n=15)\n",
        "test_scaled_shuffled = test_scaled.groupby(['id']).sample(n=15)\n",
        "val_scaled_shuffled = val_scaled.groupby(['id']).sample(n=15)"
      ]
    },
    {
      "cell_type": "code",
      "execution_count": 8,
      "metadata": {
        "gather": {
          "logged": 1695742686180
        },
        "jupyter": {
          "outputs_hidden": false,
          "source_hidden": false
        },
        "nteract": {
          "transient": {
            "deleting": false
          }
        }
      },
      "outputs": [],
      "source": [
        "# Reshape function takes features listed above and slices them into train, test sets and reshapes to (samples,steps,features)\n",
        "\n",
        "def reshape(data):\n",
        "    data_samples = len(data.groupby('id'))\n",
        "    data_steps = len(data)/ len(data.groupby(['id']))\n",
        "    data_steps = int(data_steps)\n",
        "    data_feature_size = len(data[features].columns)\n",
        "\n",
        "    data_features = data[features].fillna(0).values.reshape(data_samples,data_steps,data_feature_size)\n",
        "    y_data = data.groupby(['id'])['pathogenic'].max().astype(int).values \n",
        "\n",
        "    return data_features, y_data\n",
        "\n",
        "X_train, y_train = reshape(train_scaled)\n",
        "X_val, y_val = reshape(val_scaled)\n",
        "X_test, y_test = reshape(test_scaled)"
      ]
    },
    {
      "cell_type": "code",
      "execution_count": 9,
      "metadata": {
        "gather": {
          "logged": 1695742686841
        },
        "jupyter": {
          "outputs_hidden": false,
          "source_hidden": false
        },
        "nteract": {
          "transient": {
            "deleting": false
          }
        }
      },
      "outputs": [],
      "source": [
        "X_train_shuffled, y_train_shuffled = reshape(train_scaled_shuffled)\n",
        "X_test_shuffled, y_test_shuffled = reshape(test_scaled_shuffled)\n",
        "X_val_shuffled, y_val_shuffled = reshape(val_scaled_shuffled)"
      ]
    },
    {
      "cell_type": "code",
      "execution_count": 10,
      "metadata": {
        "gather": {
          "logged": 1695742691239
        },
        "jupyter": {
          "outputs_hidden": false,
          "source_hidden": false
        },
        "nteract": {
          "transient": {
            "deleting": false
          }
        }
      },
      "outputs": [
        {
          "name": "stderr",
          "output_type": "stream",
          "text": [
            "2023-09-26 15:38:07.769845: I tensorflow/core/platform/cpu_feature_guard.cc:182] This TensorFlow binary is optimized to use available CPU instructions in performance-critical operations.\n",
            "To enable the following instructions: AVX2 AVX512F FMA, in other operations, rebuild TensorFlow with the appropriate compiler flags.\n",
            "2023-09-26 15:38:08.596082: W tensorflow/compiler/tf2tensorrt/utils/py_utils.cc:38] TF-TRT Warning: Could not find TensorRT\n",
            "2023-09-26 15:38:09.623343: E tensorflow/compiler/xla/stream_executor/cuda/cuda_driver.cc:266] failed call to cuInit: CUDA_ERROR_NO_DEVICE: no CUDA-capable device is detected\n"
          ]
        }
      ],
      "source": [
        "from keras.models import Sequential\n",
        "from keras.layers import Dense\n",
        "from keras.layers import Flatten\n",
        "from keras.layers import Dropout\n",
        "from keras.layers import Activation\n",
        "from keras.layers import LSTM\n",
        "from keras import regularizers\n",
        "from keras.layers import BatchNormalization\n",
        "import tensorflow as tf\n",
        "\n",
        "model_callbacks = [\n",
        "    tf.keras.callbacks.EarlyStopping(monitor='val_loss',patience=5)\n",
        "    ]\n",
        "\n",
        "model = Sequential()\n",
        "model.add(tf.keras.layers.Masking(mask_value=0., input_shape=(X_train.shape[1], X_train.shape[2])))\n",
        "model.add(LSTM(100, input_shape=(X_train.shape[1], X_train.shape[2]), return_sequences=True))\n",
        "model.add(Dropout(0.2))\n",
        "model.add(BatchNormalization())\n",
        "model.add(LSTM(100))\n",
        "model.add(Dense(1, activation= 'sigmoid'))\n",
        "model.compile(loss='binary_crossentropy', optimizer='adam', metrics=[tf.keras.metrics.AUC(from_logits=True, name='auc')])\n",
        "\n"
      ]
    },
    {
      "cell_type": "code",
      "execution_count": 11,
      "metadata": {
        "gather": {
          "logged": 1695742803067
        },
        "jupyter": {
          "outputs_hidden": false,
          "source_hidden": false
        },
        "nteract": {
          "transient": {
            "deleting": false
          }
        }
      },
      "outputs": [
        {
          "name": "stdout",
          "output_type": "stream",
          "text": [
            "Epoch 1/300\n",
            "53/53 [==============================] - 16s 165ms/step - loss: 0.3259 - auc: 0.9020 - val_loss: 0.5373 - val_auc: 0.9194\b\b\b\b\b\b\b\b\b\b\b\b\b\b\b\b\b\b\b\b\b\b\b\b\b\b\b\b\b\b\b\b\b\b\b\b\b\n",
            "Epoch 2/300\n",
            "53/53 [==============================] - 6s 119ms/step - loss: 0.2772 - auc: 0.9253 - val_loss: 0.4254 - val_auc: 0.9078\b\b\b\b\b\b\b\b\b\b\b\b\b\b\b\b\b\b\b\b\b\b\b\b\b\b\b\b\b\b\b\b\b\b\n",
            "Epoch 3/300\n",
            "53/53 [==============================] - 6s 120ms/step - loss: 0.2672 - auc: 0.9324 - val_loss: 0.3116 - val_auc: 0.9181\b\b\b\b\b\b\b\b\b\b\b\b\b\b\b\b\b\b\b\b\b\b\b\b\b\b\b\b\b\b\b\b\b\b\n",
            "Epoch 4/300\n",
            "53/53 [==============================] - 6s 120ms/step - loss: 0.2630 - auc: 0.9351 - val_loss: 0.2780 - val_auc: 0.9297\b\b\b\b\b\b\b\b\b\b\b\b\b\b\b\b\b\b\b\b\b\b\b\b\b\b\b\b\b\b\b\b\b\b\n",
            "Epoch 5/300\n",
            "53/53 [==============================] - 6s 120ms/step - loss: 0.2589 - auc: 0.9375 - val_loss: 0.2303 - val_auc: 0.9332\b\b\b\b\b\b\b\b\b\b\b\b\b\b\b\b\b\b\b\b\b\b\b\b\b\b\b\b\b\b\b\b\b\b\n",
            "Epoch 6/300\n",
            "53/53 [==============================] - 6s 120ms/step - loss: 0.2542 - auc: 0.9401 - val_loss: 0.2091 - val_auc: 0.9351\b\b\b\b\b\b\b\b\b\b\b\b\b\b\b\b\b\b\b\b\b\b\b\b\b\b\b\b\b\b\b\b\b\b\n",
            "Epoch 7/300\n",
            "53/53 [==============================] - 6s 120ms/step - loss: 0.2509 - auc: 0.9422 - val_loss: 0.1938 - val_auc: 0.9397\b\b\b\b\b\b\b\b\b\b\b\b\b\b\b\b\b\b\b\b\b\b\b\b\b\b\b\b\b\b\b\b\b\b\n",
            "Epoch 8/300\n",
            "53/53 [==============================] - 6s 119ms/step - loss: 0.2506 - auc: 0.9425 - val_loss: 0.1776 - val_auc: 0.9486\b\b\b\b\b\b\b\b\b\b\b\b\b\b\b\b\b\b\b\b\b\b\b\b\b\b\b\b\b\b\b\b\b\b\n",
            "Epoch 9/300\n",
            "53/53 [==============================] - 6s 118ms/step - loss: 0.2479 - auc: 0.9439 - val_loss: 0.1728 - val_auc: 0.9551\b\b\b\b\b\b\b\b\b\b\b\b\b\b\b\b\b\b\b\b\b\b\b\b\b\b\b\b\b\b\b\b\b\b\n",
            "Epoch 10/300\n",
            "53/53 [==============================] - 6s 119ms/step - loss: 0.2436 - auc: 0.9458 - val_loss: 0.1730 - val_auc: 0.9543\b\b\b\b\b\b\b\b\b\b\b\b\b\b\b\b\b\b\b\b\b\b\b\b\b\b\b\b\b\b\b\b\b\b\n",
            "Epoch 11/300\n",
            "53/53 [==============================] - 6s 119ms/step - loss: 0.2416 - auc: 0.9473 - val_loss: 0.1621 - val_auc: 0.9613\b\b\b\b\b\b\b\b\b\b\b\b\b\b\b\b\b\b\b\b\b\b\b\b\b\b\b\b\b\b\b\b\b\b\n",
            "Epoch 12/300\n",
            "53/53 [==============================] - 7s 141ms/step - loss: 0.2432 - auc: 0.9459 - val_loss: 0.1642 - val_auc: 0.9578\b\b\b\b\b\b\b\b\b\b\b\b\b\b\b\b\b\b\b\b\b\b\b\b\b\b\b\b\b\b\b\b\b\b\n",
            "Epoch 13/300\n",
            "53/53 [==============================] - 6s 119ms/step - loss: 0.2395 - auc: 0.9478 - val_loss: 0.1681 - val_auc: 0.9579\b\b\b\b\b\b\b\b\b\b\b\b\b\b\b\b\b\b\b\b\b\b\b\b\b\b\b\b\b\b\b\b\b\b\n",
            "Epoch 14/300\n",
            "53/53 [==============================] - 6s 118ms/step - loss: 0.2365 - auc: 0.9488 - val_loss: 0.1709 - val_auc: 0.9568\b\b\b\b\b\b\b\b\b\b\b\b\b\b\b\b\b\b\b\b\b\b\b\b\b\b\b\b\b\b\b\b\b\b\n",
            "Epoch 15/300\n",
            "53/53 [==============================] - 6s 120ms/step - loss: 0.2319 - auc: 0.9511 - val_loss: 0.1633 - val_auc: 0.9572\b\b\b\b\b\b\b\b\b\b\b\b\b\b\b\b\b\b\b\b\b\b\b\b\b\b\b\b\b\b\b\b\b\b\n",
            "Epoch 16/300\n",
            "53/53 [==============================] - 6s 120ms/step - loss: 0.2298 - auc: 0.9522 - val_loss: 0.1684 - val_auc: 0.9595\b\b\b\b\b\b\b\b\b\b\b\b\b\b\b\b\b\b\b\b\b\b\b\b\b\b\b\b\b\b\b\b\b\b\n"
          ]
        }
      ],
      "source": [
        "history = model.fit(X_train,y_train, validation_data=(X_val,y_val), epochs=300, batch_size=256, callbacks=model_callbacks)"
      ]
    },
    {
      "cell_type": "code",
      "execution_count": 12,
      "metadata": {
        "gather": {
          "logged": 1695742844978
        },
        "jupyter": {
          "outputs_hidden": false,
          "source_hidden": false
        },
        "nteract": {
          "transient": {
            "deleting": false
          }
        }
      },
      "outputs": [
        {
          "name": "stdout",
          "output_type": "stream",
          "text": [
            "177/177 [==============================] - 3s 7ms/step\b\b\b\b\b\b\b\b\b\b\b\b\b\b\b\b\b\b\b\b\b\b\b\b\b\b\b\b\b\b\b\b\b\b\b\b\b\b\b\b\b\b\b\b\b\b\b\b\b\b\n",
            "177/177 [==============================] - 1s 7ms/step\b\b\b\b\b\b\b\b\b\b\b\b\b\b\b\b\b\b\b\b\b\b\b\b\b\b\b\b\b\b\b\b\b\b\b\b\b\b\b\b\b\b\b\b\b\b\b\b\n"
          ]
        }
      ],
      "source": [
        "# Two predictions are made: X_test which is the original hold out test set, and X_test_shuffled which is the shuffled test set\n",
        "predictions = model.predict(X_test)\n",
        "predictions_shuffled = model.predict(X_test_shuffled)\n"
      ]
    },
    {
      "cell_type": "code",
      "execution_count": 13,
      "metadata": {
        "gather": {
          "logged": 1695742845169
        },
        "jupyter": {
          "outputs_hidden": false,
          "source_hidden": false
        },
        "nteract": {
          "transient": {
            "deleting": false
          }
        }
      },
      "outputs": [],
      "source": [
        "from functions.tools import metrics"
      ]
    },
    {
      "cell_type": "code",
      "execution_count": 14,
      "metadata": {
        "gather": {
          "logged": 1695742846058
        },
        "jupyter": {
          "outputs_hidden": false,
          "source_hidden": false
        },
        "nteract": {
          "transient": {
            "deleting": false
          }
        }
      },
      "outputs": [
        {
          "name": "stdout",
          "output_type": "stream",
          "text": [
            "Best Threshold=0.041515\n",
            "              precision    recall  f1-score   support\n",
            "\n",
            "           0       1.00      0.93      0.96      5164\n",
            "           1       0.56      0.99      0.71       474\n",
            "\n",
            "    accuracy                           0.93      5638\n",
            "   macro avg       0.78      0.96      0.84      5638\n",
            "weighted avg       0.96      0.93      0.94      5638\n",
            "\n",
            "Specificity 0.9281564678543764\n",
            "Sensitivity 0.9915611814345991\n",
            "ROC score 0.9730293626436839\n",
            "AP 0.6838534438626335\n",
            "PPV 0.558858501783591\n",
            "NPV 0.999166145507609\n",
            "BS 0.037505692199131135\n",
            "AUPRC 0.6838534438626335\n"
          ]
        },
        {
          "data": {
            "image/png": "[encoded data removed]",
            "text/plain": [
              "<Figure size 640x480 with 2 Axes>"
            ]
          },
          "metadata": {},
          "output_type": "display_data"
        }
      ],
      "source": [
        "metrics(predictions, y_test)"
      ]
    },
    {
      "cell_type": "code",
      "execution_count": 15,
      "metadata": {
        "gather": {
          "logged": 1695742846369
        },
        "jupyter": {
          "outputs_hidden": false,
          "source_hidden": false
        },
        "nteract": {
          "transient": {
            "deleting": false
          }
        }
      },
      "outputs": [
        {
          "name": "stdout",
          "output_type": "stream",
          "text": [
            "Best Threshold=0.035303\n",
            "              precision    recall  f1-score   support\n",
            "\n",
            "           0       0.97      0.95      0.96      5164\n",
            "           1       0.55      0.67      0.60       474\n",
            "\n",
            "    accuracy                           0.93      5638\n",
            "   macro avg       0.76      0.81      0.78      5638\n",
            "weighted avg       0.93      0.93      0.93      5638\n",
            "\n",
            "Specificity 0.9494577846630519\n",
            "Sensitivity 0.6708860759493671\n",
            "ROC score 0.8373742102906523\n",
            "AP 0.46350598690609146\n",
            "PPV 0.5492227979274611\n",
            "NPV 0.9691638663767543\n",
            "BS 0.05723442192356101\n",
            "AUPRC 0.46350598690609146\n"
          ]
        },
        {
          "data": {
            "image/png": "[encoded data removed]",
            "text/plain": [
              "<Figure size 640x480 with 2 Axes>"
            ]
          },
          "metadata": {},
          "output_type": "display_data"
        }
      ],
      "source": [
        "metrics(predictions_shuffled, y_test_shuffled)"
      ]
    },
    {
      "cell_type": "code",
      "execution_count": 16,
      "metadata": {
        "gather": {
          "logged": 1695742853121
        },
        "jupyter": {
          "outputs_hidden": false,
          "source_hidden": false
        },
        "nteract": {
          "transient": {
            "deleting": false
          }
        }
      },
      "outputs": [
        {
          "name": "stdout",
          "output_type": "stream",
          "text": [
            "summarised\n",
            "auroc\n",
            "0.84 ( 0.82 - 0.86 )\n",
            "auprc\n",
            "0.46 ( 0.41 - 0.52 )\n"
          ]
        }
      ],
      "source": [
        "#This bootstraps the hold out set results for the shuffled test set\n",
        "from functions.bootstrap import *\n",
        "\n",
        "print('summarised')\n",
        "score, ci_lower, ci_upper, scores = score_ci(y_test_shuffled, list(predictions_shuffled.reshape(predictions.shape[0])), score_fun=rc)\n",
        "print('auroc')\n",
        "print(round(score,2),'(',round(ci_lower,2),'-',round(ci_upper,2),')')\n",
        "score, ci_lower, ci_upper, scores = score_ci(y_test_shuffled, list(predictions_shuffled.reshape(predictions.shape[0])), score_fun=ap)\n",
        "print('auprc')\n",
        "print(round(score,2),'(',round(ci_lower,2),'-',round(ci_upper,2),')') "
      ]
    }
  ],
  "metadata": {
    "kernel_info": {
      "name": "python38-azureml-pt-tf"
    },
    "kernelspec": {
      "display_name": "Python 3.8 - Pytorch and Tensorflow",
      "language": "python",
      "name": "python38-azureml-pt-tf"
    },
    "language_info": {
      "codemirror_mode": {
        "name": "ipython",
        "version": 3
      },
      "file_extension": ".py",
      "mimetype": "text/x-python",
      "name": "python",
      "nbconvert_exporter": "python",
      "pygments_lexer": "ipython3",
      "version": "3.8.5"
    },
    "microsoft": {
      "host": {
        "AzureML": {
          "notebookHasBeenCompleted": true
        }
      },
      "ms_spell_check": {
        "ms_spell_check_language": "en"
      }
    },
    "nteract": {
      "version": "nteract-front-end@1.0.0"
    }
  },
  "nbformat": 4,
  "nbformat_minor": 2
}
